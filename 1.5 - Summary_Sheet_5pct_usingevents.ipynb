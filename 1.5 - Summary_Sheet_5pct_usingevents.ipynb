{
 "cells": [
  {
   "cell_type": "code",
   "execution_count": 173,
   "metadata": {
    "collapsed": true
   },
   "outputs": [],
   "source": [
    "import pandas as pd\n",
    "import geopandas as gpd\n",
    "import pathlib\n",
    "from pathlib import Path\n",
    "from tqdm import tqdm\n",
    "\n",
    "import gzip\n",
    "from xml.etree.ElementTree import Element, SubElement, Comment, tostring\n",
    "import xml.etree.ElementTree as ET\n",
    "\n",
    "# to read the excel\n",
    "from openpyxl import load_workbook\n",
    "from openpyxl import Workbook\n",
    "\n",
    "import datetime\n",
    "\n",
    "\n",
    "import os\n",
    "import re\n",
    "\n",
    "import numpy as np\n",
    "\n",
    "from collections import OrderedDict\n",
    "\n",
    "# set the working directory\n",
    "BASE_DIR = Path.cwd()"
   ]
  },
  {
   "cell_type": "markdown",
   "source": [
    "### Sample information"
   ],
   "metadata": {
    "collapsed": false,
    "pycharm": {
     "name": "#%% md\n"
    }
   }
  },
  {
   "cell_type": "code",
   "execution_count": 174,
   "outputs": [],
   "source": [
    "#Sample information\n",
    "sample_pct = 0.05 # sample value in percentage\n",
    "scale_factor = 100/(100*sample_pct)"
   ],
   "metadata": {
    "collapsed": false,
    "pycharm": {
     "name": "#%%\n"
    }
   }
  },
  {
   "cell_type": "markdown",
   "source": [
    "#### Set the path to the simulation run folder and get the date"
   ],
   "metadata": {
    "collapsed": false,
    "pycharm": {
     "name": "#%% md\n"
    }
   }
  },
  {
   "cell_type": "code",
   "execution_count": 175,
   "outputs": [],
   "source": [
    "# get the first and the last iteration name\n",
    "def get_iteration_count(simulation_run):\n",
    "    rootPath = BASE_DIR.parent.joinpath(\"runs\", simulation_run,\"ITERS\")\n",
    "    list_iter=[]\n",
    "    for name in [entry for entry in os.listdir(rootPath) if os.path.isdir(os.path.join(rootPath, entry))]:\n",
    "        list_iter.append(int(name.rsplit(\"it.\")[1]))\n",
    "    return max((list_iter)),min((list_iter))\n",
    "# setup the BEAM model output folder name here\n",
    "simulation_run = \"sf-tscore-test-sample-inflated-personal-vehicle-mode-choice-details-added-tracing__cdb\"\n",
    "last_iter,first_iter = get_iteration_count(simulation_run)\n",
    "\n",
    "# get the path of the simulation run and also get its creation date\n",
    "def get_foldercreation_inf(folder_name):\n",
    "    fname = pathlib.Path(BASE_DIR.parent.joinpath(\"runs\", simulation_run,\"ITERS\",(\"it.\"+str(last_iter)), (str(last_iter)+\".linkstats.csv.gz\")))\n",
    "    assert fname.exists(), f'No such file: {fname}'  # check that the file exists\n",
    "    ctime = datetime.datetime.fromtimestamp(fname.stat().st_ctime)\n",
    "    return ctime.strftime(\"%Y-%m-%d\")\n",
    "# get its creation date\n",
    "date_time = get_foldercreation_inf(simulation_run)"
   ],
   "metadata": {
    "collapsed": false,
    "pycharm": {
     "name": "#%%\n"
    }
   }
  },
  {
   "cell_type": "markdown",
   "source": [
    "#### Perform analysis for Bay Area"
   ],
   "metadata": {
    "collapsed": false,
    "pycharm": {
     "name": "#%% md\n"
    }
   }
  },
  {
   "cell_type": "code",
   "execution_count": 176,
   "outputs": [],
   "source": [
    "# get VMT, VHT and ratio from the last iteration of the linkstats file\n",
    "class linkstats_to_df(object):\n",
    "    def __init__(self,df):\n",
    "        self.dataframe = df\n",
    "        self.dataframe = self.dataframe.reset_index(drop=True)\n",
    "        self.dataframe[\"volume\"] = self.dataframe[\"volume\"].fillna(0)\n",
    "        self.dataframe[\"length\"] = self.dataframe[\"length\"].fillna(0)\n",
    "        self.dataframe[\"vmt\"] = self.dataframe[\"length\"]*0.00062137*self.dataframe[\"volume\"]*scale_factor\n",
    "        self.VMT_sum = self.dataframe[\"vmt\"].sum()\n",
    "        # add congested speed (mph)\n",
    "        self.dataframe[\"congested_speed_mph\"] = (self.dataframe[\"length\"]/self.dataframe[\"traveltime\"])*2.23694\n",
    "        # add free-flow speed (mph)\n",
    "        self.dataframe[\"freeflow_speed_mph\"] = self.dataframe[\"freespeed\"]*2.23694\n",
    "        # add vehicle hours of delay (free flow speed - congested speed)* volume\n",
    "        self.dataframe[\"VHD\"] = ((self.dataframe[\"freeflow_speed_mph\"]-self.dataframe[\"congested_speed_mph\"])*(self.dataframe[\"volume\"])*20)/(60*60)\n",
    "        self.VHD_sum = self.dataframe[\"VHD\"].sum()\n",
    "        # calculate VHT\n",
    "        self.dataframe[\"VHT\"] = self.dataframe[\"volume\"]*(self.dataframe[\"traveltime\"]/(60*60))*scale_factor\n",
    "        self.VHT_sum = self.dataframe[\"VHT\"].sum()\n",
    "        # calculate VMT VHT Ratio\n",
    "        self.VMT_VHT_ratio = self.VMT_sum/self.VHT_sum\n",
    "\n",
    "dfBayAreaBeam = linkstats_to_df(pd.read_csv((BASE_DIR.parent.joinpath(\"runs\",simulation_run,\"ITERS\",(\"it.\"+str(last_iter)),(str(last_iter)+\".linkstats.csv.gz\")))))\n",
    "# print(\"LinkStatistics\")\n",
    "# print(\"VMT: {}, VHT: {}, ratio:{}\".format(dfBayAreaBeam.VMT_sum,dfBayAreaBeam.VHT_sum,dfBayAreaBeam.VMT_VHT_ratio))"
   ],
   "metadata": {
    "collapsed": false,
    "pycharm": {
     "name": "#%%\n"
    }
   }
  },
  {
   "cell_type": "markdown",
   "source": [
    "now read the link stat from the SF County"
   ],
   "metadata": {
    "collapsed": false,
    "pycharm": {
     "name": "#%% md\n"
    }
   }
  },
  {
   "cell_type": "code",
   "execution_count": 177,
   "outputs": [],
   "source": [
    "### now read the link stat from the SF County\n",
    "gdSFCountyNetwork = gpd.read_file((BASE_DIR.parent.joinpath(\"runs\", simulation_run,\"Network\",\"SFCounty_EPSG4326.geojson\")),driver='GeoJSON')\n",
    "gdfSFBoundary = gpd.read_file((BASE_DIR.parent.joinpath(\"runs\", simulation_run,\"Network\",\"SFCounty_boundary_EPSG4326.geojson\")),driver='GeoJSON')\n",
    "\n",
    "df = gdSFCountyNetwork.loc[~gdSFCountyNetwork[\"Information\"].isin(['San Mateo', 'Golden Gate Bridge', 'SFOak1', 'SFOak2'])]\n",
    "# # convert it to dictinary \"Length\" & \"Link\"\n",
    "network_links = dict(zip(df[\"ID\"], df[\"LENGTH\"]))\n",
    "\n",
    "dfBayArea = pd.read_csv(BASE_DIR.parent.joinpath((BASE_DIR.parent.joinpath(\"runs\",simulation_run,\"ITERS\",(\"it.\"+str(last_iter)),(str(last_iter)+\".linkstats.csv.gz\")))), compression=\"gzip\", low_memory=True)\n",
    "dfBayArea.reset_index(drop=True,inplace=True)\n",
    "dfBayArea[\"link\"]=dfBayArea[\"link\"].astype(str)\n",
    "dfSFCounty=dfBayArea[dfBayArea[\"link\"].isin(network_links.keys())]\n",
    "dfSFCountyBeam = linkstats_to_df(dfSFCounty)\n",
    "# print(\"LinkStatistics\")\n",
    "# print(\"VMT: {}, VHT: {}, ratio:{}\".format(dfSFCountyBeam.VMT_sum,dfSFCountyBeam.VHT_sum,dfSFCountyBeam.VMT_VHT_ratio))"
   ],
   "metadata": {
    "collapsed": false,
    "pycharm": {
     "name": "#%%\n"
    }
   }
  },
  {
   "cell_type": "markdown",
   "source": [
    "read the iter.plans.xml file to get % of trips by modes"
   ],
   "metadata": {
    "collapsed": false,
    "pycharm": {
     "name": "#%% md\n"
    }
   }
  },
  {
   "cell_type": "code",
   "execution_count": 178,
   "outputs": [],
   "source": [
    "class detailed_events(object):\n",
    "    def __init__(self,folder_path):\n",
    "        self.dfEvents = pd.read_csv(folder_path,low_memory=False)\n",
    "        self.dfEvents[\"Travel_Time\"] = self.dfEvents[\"arrivalTime\"] - self.dfEvents[\"departureTime\"]\n",
    "        self.TT_PTBoardings = {}\n",
    "        PersonEnterVeh = self.dfEvents.loc[(self.dfEvents[\"type\"]==\"PersonEntersVehicle\") &\n",
    "                                           (~self.dfEvents[\"vehicle\"].str.contains(\"rideHailVehicle\",na=False)) &\n",
    "                                           (~self.dfEvents[\"person\"].str.contains(\"TransitDriverAgent\",na=False))].copy()\n",
    "        # create dictionary: vehicle:mode\n",
    "        veh_mode_df = self.dfEvents.loc[(self.dfEvents[\"type\"]==\"PathTraversal\") &(self.dfEvents[\"vehicle\"].str.contains(\"SF|BA\", na=False))]\n",
    "        veh_mode = dict(zip(veh_mode_df.vehicle, veh_mode_df[\"mode\"]))\n",
    "        # map them to get number of boardings by PT mode\n",
    "        PersonEnterVeh[\"mode_veh\"] = PersonEnterVeh[\"vehicle\"].map(veh_mode,na_action='ignore')\n",
    "        # get counts\n",
    "        self.veh_counts = PersonEnterVeh[~PersonEnterVeh[\"mode_veh\"].isna()].mode_veh.value_counts()\n",
    "        self.bus_boarding = self.veh_counts.bus\n",
    "        self.TT_PTBoardings[\"bus_boarding\"] = self.veh_counts.bus\n",
    "        self.tram_boarding = self.veh_counts.tram\n",
    "        self.TT_PTBoardings[\"tram_boarding\"] = self.veh_counts.tram\n",
    "        self.rail_boarding = self.veh_counts.subway\n",
    "        self.TT_PTBoardings[\"rail_boarding\"] = self.veh_counts.subway\n",
    "        self.cable_boarding = self.veh_counts.cable_car\n",
    "        self.TT_PTBoardings[\"cable_boarding\"] = self.veh_counts.cable_car\n",
    "\n",
    "    def get_ii_modeshare(self):\n",
    "        dfEvents = self.dfEvents[~self.dfEvents[\"person\"].str.contains(\"ix\",na=False) & ~self.dfEvents[\"person\"].str.contains(\"rideHailAgent\",na=False) & ~self.dfEvents[\"person\"].str.contains(\"TransitDriverAgent\",na=False) & (~self.dfEvents[\"person\"].isna())]\n",
    "        return dfEvents.loc[(dfEvents[\"type\"]==\"TripArrivalEvent\"),\"mode\"].value_counts(normalize=True)\n",
    "\n",
    "    def get_TT_modeshare(self):\n",
    "        dfEvents = self.dfEvents[~self.dfEvents[\"person\"].str.contains(\"rideHailAgent\",na=False) & ~self.dfEvents[\"person\"].str.contains(\"TransitDriverAgent\",na=False) & (~self.dfEvents[\"person\"].isna())]\n",
    "        return dfEvents.loc[(dfEvents[\"type\"]==\"TripArrivalEvent\"),\"mode\"].value_counts(normalize=True)\n",
    "\n",
    "    def get_ii_PTBoardings(self):\n",
    "        dfEvents_ii = self.dfEvents.copy()\n",
    "        PTBoardings = {}\n",
    "        dfEvents_ii = dfEvents_ii.loc[~dfEvents_ii[\"person\"].str.startswith(\"ix\", na=False)]\n",
    "        PersonEnterVeh = dfEvents_ii.loc[(dfEvents_ii[\"type\"]==\"PersonEntersVehicle\") &\n",
    "                                         (~dfEvents_ii[\"vehicle\"].str.contains(\"rideHailVehicle\",na=False)) &\n",
    "                                         (~dfEvents_ii[\"person\"].str.contains(\"TransitDriverAgent\",na=False))]\n",
    "        pt_ridreship = len(PersonEnterVeh[PersonEnterVeh[\"vehicle\"].str.contains(\"SF|BA\", na=False)])\n",
    "        # create dictionary: vehicle:mode\n",
    "        veh_mode_df = dfEvents_ii.loc[(dfEvents_ii[\"type\"]==\"PathTraversal\") & (dfEvents_ii[\"vehicle\"].str.contains(\"SF|BA\", na=False))]\n",
    "        veh_mode = dict(zip(veh_mode_df.vehicle, veh_mode_df[\"mode\"]))\n",
    "        # map them to get number of boardings by PT mode\n",
    "        PersonEnterVeh[\"mode_veh\"] = PersonEnterVeh[\"vehicle\"].map(veh_mode,na_action='ignore')\n",
    "        # get counts\n",
    "        veh_counts = PersonEnterVeh[~PersonEnterVeh[\"mode_veh\"].isna()].mode_veh.value_counts()\n",
    "        PTBoardings[\"bus_boarding\"] = veh_counts.bus\n",
    "        PTBoardings[\"tram_boarding\"] =veh_counts.tram\n",
    "        PTBoardings[\"rail_boarding\"] =veh_counts.subway\n",
    "        PTBoardings[\"cable_boarding\"] = veh_counts.cable_car\n",
    "        return PTBoardings\n",
    "\n",
    "    def get_agents_count(self):\n",
    "        agent_counts = {}\n",
    "        agent_counts[\"ix_agents\"]  = self.dfEvents.loc[self.dfEvents[\"person\"].str.startswith(\"ix\", na=False),\"person\"].nunique()\n",
    "        agent_counts[\"ii_agents\"]  = self.dfEvents.loc[(~ self.dfEvents[\"person\"].str.startswith(\"ix\", na=False)) & (~self.dfEvents[\"person\"].str.startswith(\"rideHailAgent\",na=False)) & (~self.dfEvents[\"person\"].str.startswith(\"TransitDriverAgent\",na=False)),\"person\"].nunique()\n",
    "        agent_counts[\"ridehail_agent\"] = self.dfEvents.loc[self.dfEvents[\"person\"].str.startswith(\"rideHailAgent\", na=False),\"person\"].nunique()\n",
    "        agent_counts[\"total_agent\"] = sum(agent_counts.values())\n",
    "        return agent_counts\n",
    "\n",
    "    def get_TT_unlinked_trips(self):\n",
    "        dfEvents = self.dfEvents[~self.dfEvents[\"person\"].str.contains(\"rideHailAgent\",na=False) & ~self.dfEvents[\"person\"].str.contains(\"TransitDriverAgent\",na=False) & (~self.dfEvents[\"person\"].isna())]\n",
    "        return dfEvents.loc[(dfEvents[\"type\"]==\"TripArrivalEvent\"),\"mode\"].value_counts()\n",
    "\n",
    "    def get_ii_unlinked_trips(self):\n",
    "        dfEvents = self.dfEvents[~self.dfEvents[\"person\"].str.contains(\"ix\",na=False) & ~self.dfEvents[\"person\"].str.contains(\"rideHailAgent\",na=False) & ~self.dfEvents[\"person\"].str.contains(\"TransitDriverAgent\",na=False) & (~self.dfEvents[\"person\"].isna())]\n",
    "        return dfEvents.loc[(dfEvents[\"type\"]==\"TripArrivalEvent\"),\"mode\"].value_counts()\n",
    "\n",
    "    def get_TT_tourpurpose_stats(self):\n",
    "        dfEvents = self.dfEvents.copy()\n",
    "        dfTour = dfEvents.loc[(~dfEvents[\"person\"].str.contains(\"rideHailAgent\",na=False) &\n",
    "                               ~dfEvents[\"person\"].str.contains(\"TransitDriverAgent\",na=False) &\n",
    "                               (~dfEvents[\"person\"].isna())),:]\\\n",
    "                         .dropna(subset = [\"vehicleOwnership\"])\n",
    "        return dfTour\\\n",
    "            .groupby([\"tourPurpose\",\"vehicleOwnership\",\"mode\"]).size().reset_index().rename(columns={0:\"count\"})\\\n",
    "            .groupby(\"tourPurpose\")\\\n",
    "            .apply(lambda vehOwntype: dict(vehOwntype.groupby(\"vehicleOwnership\")\n",
    "            .apply(lambda mode_used: dict(zip(mode_used[\"mode\"],mode_used[\"count\"])))))\n",
    "\n",
    "    def get_ii_tourpurpose_stats(self):\n",
    "        dfEvents = self.dfEvents.copy()\n",
    "        dfTour = dfEvents.loc[(~dfEvents[\"person\"].str.contains(\"ix\",na=False) &\n",
    "                               ~dfEvents[\"person\"].str.contains(\"rideHailAgent\",na=False) &\n",
    "                               ~dfEvents[\"person\"].str.contains(\"TransitDriverAgent\",na=False) &\n",
    "                               (~dfEvents[\"person\"].isna())),:]\\\n",
    "                            .dropna(subset = [\"vehicleOwnership\"])\n",
    "        dfTour=dfTour[dfTour[\"type\"]==\"TripArrivalEvent\"]\n",
    "        tour_purpose_dict = dfTour.groupby([\"tourPurpose\", \"vehicleOwnership\", \"mode\"]).size().reset_index().rename(columns={0: \"count\"})\\\n",
    "                                           .groupby(\"tourPurpose\")\\\n",
    "                                           .apply(lambda vehOwntype: dict(vehOwntype.groupby(\"vehicleOwnership\")\n",
    "                                                                                                 .apply(lambda mode_used: dict(zip(mode_used[\"mode\"], mode_used[\"count\"]))))).copy()\n",
    "        for key,value in tour_purpose_dict.iteritems():\n",
    "            if isinstance(tour_purpose_dict.get(key),dict):\n",
    "                for auto_ownership,modes in tour_purpose_dict.get(key).items():\n",
    "                    mode_keys = [\"car\", \"walk_transit\", \"drive_transit\", \"bike_transit\", \"ride_hail_transit\", \"walk\", \"bike\", \"ride_hail_pooled\", \"ride_hail\", \"hov2_teleportation\", \"hov2\",\"hov3_teleportation\", \"hov3\"]\n",
    "                    if isinstance(modes,dict):\n",
    "                        for mode,count in modes.items():\n",
    "                            if mode in mode_keys:\n",
    "                                mode_keys.remove(mode)\n",
    "                        for mode in mode_keys:\n",
    "                            tour_purpose_dict[key][auto_ownership][mode]=0\n",
    "\n",
    "        return tour_purpose_dict\n",
    "\n",
    "    def get_ii_transfers(self):\n",
    "        dfEvents = self.dfEvents.copy()\n",
    "        dfEvents = dfEvents[~dfEvents[\"person\"].str.contains(\"ix\",na=False) & ~dfEvents[\"person\"].str.contains(\"rideHailAgent\",na=False) & ~dfEvents[\"person\"].str.contains(\"TransitDriverAgent\",na=False) & (~dfEvents[\"person\"].isna())].copy()\n",
    "        # dfEvents = dfEvents.loc[(df[\"type\"]==\"ModeChoice\") & (df[\"mode\"]==\"walk_transit\"),:].copy()\n",
    "\n",
    "        dfEvents[\"numberofTransfers\"]=dfEvents.loc[(dfEvents[\"type\"]==\"ModeChoice\") & (dfEvents[\"mode\"]==\"walk_transit\"),:][\"tracingData\"].str[-22:].str.split(\")\",expand=True)[0].str.split(\",\",expand=True)[1]\n",
    "        dfEvents[\"trip_cost_utility\"]=dfEvents.loc[(dfEvents[\"type\"]==\"ModeChoice\") & (dfEvents[\"mode\"]==\"walk_transit\"),:][\"tracingData\"].str[-34:-25].str.split(\",\",expand=True)[1]\n",
    "        dfEvents[\"walkTransitDistances\"] = dfEvents.loc[(dfEvents[\"type\"]==\"ModeChoice\") & (dfEvents[\"mode\"]==\"walk_transit\"),:][\"tracingData\"].str[1:-37].str.split(\",\",expand=True)[1].str.split(\":\",expand=True)[0]\n",
    "        # df[\"noofTransfers\"]=df.loc[(df[\"type\"]==\"ModeChoice\") & (df[\"mode\"]==\"walk_transit\"),:][\"tracingData\"].str[-22:].str.split(\")\",expand=True)[0].str.split(\",\",expand=True)[1]\n",
    "        # df[\"trip_cost_utility\"]=df.loc[(df[\"type\"]==\"ModeChoice\") & (df[\"mode\"]==\"walk_transit\"),:][\"tracingData\"].str[-34:-25].str.split(\",\",expand=True)[1]\n",
    "        # df[\"walkTransitDistance\"] = df.loc[(df[\"type\"]==\"ModeChoice\") & (df[\"mode\"]==\"walk_transit\"),:][\"tracingData\"].str[1:-37].str.split(\",\",expand=True)[1].str.split(\":\",expand=True)[0]\n",
    "        # df.loc[(df[\"type\"]==\"ModeChoice\") & (df[\"mode\"]==\"walk_transit\"),:][[\"tracingData\",\"walkTransitDistance\",\"trip_cost_utility\",\"noofTransfers\"]]\n",
    "\n",
    "        # dfEvents[\"walkTransitDistances\"]= dfEvents[\"tracingData\"].str.split(\":\",expand=True)[0].str.split(\",\",expand=True)[1].str.split(\")\",expand=True)[0]\n",
    "        # dfEvents[\"trip_cost_utility\"]= dfEvents[\"tracingData\"].str.split(\":\",expand=True)[1].str.split(\",\",expand=True)[1].str.split(\")\",expand=True)[0]\n",
    "        # dfEvents[\"numberofTransfers\"]= dfEvents[\"tracingData\"].str.split(\":\",expand=True)[2].str.split(\",\",expand=True)[1].str.split(\")\",expand=True)[0]\n",
    "\n",
    "        dfEvents[\"walkTransitDistances\"] = pd.to_numeric(dfEvents[\"walkTransitDistances\"], errors='coerce').replace(np.nan,0,regex=True)\n",
    "        dfEvents[\"trip_cost_utility\"] = pd.to_numeric(dfEvents[\"trip_cost_utility\"], errors='coerce').replace(np.nan,0,regex=True)\n",
    "        dfEvents[\"numberofTransfers\"] = pd.to_numeric(dfEvents[\"numberofTransfers\"], errors='coerce').replace(np.nan,0,regex=True).round(0).astype(int)\n",
    "\n",
    "        dData = dfEvents.loc[(dfEvents[\"type\"]==\"ModeChoice\") & (dfEvents[\"mode\"]==\"walk_transit\"),:]\n",
    "\n",
    "        dData[\"walkTransitDistances_mil\"] = dData[\"walkTransitDistances\"]*0.000621371\n",
    "\n",
    "        def categorized_distance(cell_value):\n",
    "            if cell_value>=1:\n",
    "                walkTransitDistances_cat=\">=1mil\"\n",
    "            elif ( cell_value<1.0) & (cell_value>0.5):\n",
    "                walkTransitDistances_cat=\">=0.5mil & <1mil\"\n",
    "            elif (cell_value<0.50) & (cell_value>0.25):\n",
    "                walkTransitDistances_cat=\">=0.25mil & <0.5mil\"\n",
    "            elif (cell_value<0.250):\n",
    "                walkTransitDistances_cat=\"<0.25mil\"\n",
    "            return walkTransitDistances_cat\n",
    "\n",
    "        dData[\"walkTransitDistances_cat\"] = dData[\"walkTransitDistances_mil\"].apply(lambda x:categorized_distance(x))\n",
    "\n",
    "        def categorized_transfer(cell_value):\n",
    "            if cell_value==0:\n",
    "                categorized_transfer_cat=\"0\"\n",
    "            elif ( cell_value<=1.0) & (cell_value>0.0):\n",
    "                categorized_transfer_cat=\"1\"\n",
    "            elif (cell_value<=2) & (cell_value>1):\n",
    "                categorized_transfer_cat=\"2\"\n",
    "            elif (cell_value>=3):\n",
    "                categorized_transfer_cat=\"3+\"\n",
    "            return categorized_transfer_cat\n",
    "\n",
    "        dData[\"numberofTransfers_cat\"] = dData[\"numberofTransfers\"].apply(lambda x:categorized_transfer(x))\n",
    "\n",
    "        transfer_dict = (dData.groupby([\"tourPurpose\", \"numberofTransfers_cat\",\"walkTransitDistances_cat\"]).size().reset_index().rename(columns={0: \"count\"}).groupby(\"tourPurpose\").apply(lambda vehOwntype: dict(vehOwntype.groupby(\"numberofTransfers_cat\").apply(lambda mode_used: dict(zip(mode_used[\"walkTransitDistances_cat\"], mode_used[\"count\"]))))).copy())\n",
    "\n",
    "        for key,values in transfer_dict.iteritems():\n",
    "            # print(key)\n",
    "            cat = [\"0\",\"1\",\"2\",\"3+\"]\n",
    "            for transfer_cat,dist in transfer_dict.get(key).items():\n",
    "                # print(\"\\t\",transfer_cat)\n",
    "                cat.remove(transfer_cat)\n",
    "            for c in cat:\n",
    "                # print(c)\n",
    "                transfer_dict[key][c]={\"<0.25mil\":0,\">=0.25mil & <0.5mil\":0,\">=0.5mil & <1mil\":0,\">=1mil\":0 }\n",
    "\n",
    "        for key,value in transfer_dict.iteritems():\n",
    "            if isinstance(transfer_dict.get(key),dict):\n",
    "                for transfer,walk_distance in transfer_dict.get(key).items():\n",
    "                    walk_distance_keys = [\"<0.25mil\", \">=0.25mil & <0.5mil\",\">=0.5mil & <1mil\",\">=1mil\"]\n",
    "                    if isinstance(walk_distance,dict):\n",
    "                        for cat,count in walk_distance.items():\n",
    "                            if cat in walk_distance_keys:\n",
    "                                walk_distance_keys.remove(cat)\n",
    "                        for cat in walk_distance_keys:\n",
    "                            transfer_dict[key][transfer][cat]=0\n",
    "\n",
    "        return transfer_dict\n",
    "\n",
    "    def get_ii_transfers_firstmile_summary(self):\n",
    "        dfEvents = self.dfEvents.copy()\n",
    "        dfEvents = dfEvents[~dfEvents[\"person\"].str.contains(\"ix\",na=False) & ~dfEvents[\"person\"].str.contains(\"rideHailAgent\",na=False) & ~dfEvents[\"person\"].str.contains(\"TransitDriverAgent\",na=False) & (~dfEvents[\"person\"].isna())].copy()\n",
    "        # dfEvents = dfEvents.loc[(df[\"type\"]==\"ModeChoice\") & (df[\"mode\"]==\"walk_transit\"),:].copy()\n",
    "\n",
    "        dfEvents[\"numberofTransfers\"]=dfEvents.loc[(dfEvents[\"type\"]==\"ModeChoice\") & (dfEvents[\"mode\"]==\"walk_transit\"),:][\"tracingData\"].str[-22:].str.split(\")\",expand=True)[0].str.split(\",\",expand=True)[1]\n",
    "        dfEvents[\"trip_cost_utility\"]=dfEvents.loc[(dfEvents[\"type\"]==\"ModeChoice\") & (dfEvents[\"mode\"]==\"walk_transit\"),:][\"tracingData\"].str[-34:-25].str.split(\",\",expand=True)[1]\n",
    "        dfEvents[\"walkTransitDistances\"] = dfEvents.loc[(dfEvents[\"type\"]==\"ModeChoice\") & (dfEvents[\"mode\"]==\"walk_transit\"),:][\"tracingData\"].str[1:-37].str.split(\",\",expand=True)[1].str.split(\":\",expand=True)[0]\n",
    "\n",
    "        dfEvents[\"walkTransitDistances\"] = pd.to_numeric(dfEvents[\"walkTransitDistances\"], errors='coerce').replace(np.nan,0,regex=True)\n",
    "        dfEvents[\"trip_cost_utility\"] = pd.to_numeric(dfEvents[\"trip_cost_utility\"], errors='coerce').replace(np.nan,0,regex=True)\n",
    "        dfEvents[\"numberofTransfers\"] = pd.to_numeric(dfEvents[\"numberofTransfers\"], errors='coerce').replace(np.nan,0,regex=True).round(0).astype(int)\n",
    "\n",
    "        dData = dfEvents.loc[(dfEvents[\"type\"]==\"ModeChoice\") & (dfEvents[\"mode\"]==\"walk_transit\"),:]\n",
    "        dData[\"walkTransitDistances_mil\"] = dData[\"walkTransitDistances\"]*0.000621371\n",
    "\n",
    "        def categorized_distance(cell_value):\n",
    "            if cell_value>=1:\n",
    "                walkTransitDistances_cat=\">=1mil\"\n",
    "            elif ( cell_value<1.0) & (cell_value>0.5):\n",
    "                walkTransitDistances_cat=\">=0.5mil & <1mil\"\n",
    "            elif (cell_value<0.50) & (cell_value>0.25):\n",
    "                walkTransitDistances_cat=\">=0.25mil & <0.5mil\"\n",
    "            elif (cell_value<0.250):\n",
    "                walkTransitDistances_cat=\"<0.25mil\"\n",
    "            return walkTransitDistances_cat\n",
    "\n",
    "        dData[\"walkTransitDistances_cat\"] = dData[\"walkTransitDistances_mil\"].apply(lambda x:categorized_distance(x))\n",
    "\n",
    "        def categorized_transfer(cell_value):\n",
    "            if cell_value==0:\n",
    "                categorized_transfer_cat=\"0\"\n",
    "            elif ( cell_value<=1.0) & (cell_value>0.0):\n",
    "                categorized_transfer_cat=\"1\"\n",
    "            elif (cell_value<=2) & (cell_value>1):\n",
    "                categorized_transfer_cat=\"2\"\n",
    "            elif (cell_value>=3):\n",
    "                categorized_transfer_cat=\"3+\"\n",
    "            return categorized_transfer_cat\n",
    "\n",
    "        dData[\"numberofTransfers_cat\"] = dData[\"numberofTransfers\"].apply(lambda x:categorized_transfer(x))\n",
    "        transfer_dict = (dData.groupby([\"walkTransitDistances_cat\",\"numberofTransfers_cat\"]).size().reset_index().rename(columns={0: \"count\"}).groupby(\"walkTransitDistances_cat\").apply(lambda mode_used: dict(zip(mode_used[\"numberofTransfers_cat\"], mode_used[\"count\"])))).copy()\n",
    "        for key,values in transfer_dict.iteritems():\n",
    "            cat = [\"0\",\"1\",\"2\",\"3+\"]\n",
    "            if isinstance(values,dict):\n",
    "                for k,v in transfer_dict.get(key).items():\n",
    "                    if k in cat:\n",
    "                        cat.remove(k)\n",
    "                for c in cat:\n",
    "                    transfer_dict[key][c]=0\n",
    "\n",
    "        return transfer_dict\n",
    "\n",
    "    def get_ii_auto_ratio_status(self):\n",
    "        dfEvents = self.dfEvents.copy()\n",
    "        dfTour = dfEvents.loc[(~dfEvents[\"person\"].str.contains(\"ix\",na=False) &\n",
    "                               ~dfEvents[\"person\"].str.contains(\"rideHailAgent\",na=False) &\n",
    "                               ~dfEvents[\"person\"].str.contains(\"TransitDriverAgent\",na=False) &\n",
    "                               (~dfEvents[\"person\"].isna())),:]\\\n",
    "                          .dropna(subset = [\"vehicleOwnership\"])\n",
    "        return dfTour[\"vehicleOwnership\"].value_counts(normalize=True)\n",
    "\n",
    "    def get_TT_auto_ratio_status(self):\n",
    "        dfEvents = self.dfEvents.copy()\n",
    "        dfTour = dfEvents.loc[(~dfEvents[\"person\"].str.contains(\"rideHailAgent\",na=False) &\n",
    "                               ~dfEvents[\"person\"].str.contains(\"TransitDriverAgent\",na=False) &\n",
    "                               (~dfEvents[\"person\"].isna())),:]\\\n",
    "                        .dropna(subset = [\"vehicleOwnership\"])\n",
    "        return dfTour[\"vehicleOwnership\"].value_counts(normalize=True)\n",
    "\n",
    "    def get_TT_activity_type(self):\n",
    "        dfEvents = self.dfEvents.copy()\n",
    "        dfActivity = dfEvents.loc[(~dfEvents[\"person\"].str.contains(\"rideHailAgent\",na=False) &\n",
    "                               ~dfEvents[\"person\"].str.contains(\"TransitDriverAgent\",na=False) &\n",
    "                               (~dfEvents[\"person\"].isna())),:]\\\n",
    "                         .dropna(subset = [\"tourPurpose\"])\n",
    "        return dfActivity[\"tourPurpose\"].value_counts(normalize=True)\n",
    "\n",
    "    def get_ii_activity_type(self):\n",
    "        dfEvents = self.dfEvents.copy()\n",
    "        dfActivity = dfEvents.loc[(~dfEvents[\"person\"].str.contains(\"ix\",na=False) &\n",
    "                                   ~dfEvents[\"person\"].str.contains(\"rideHailAgent\",na=False) &\n",
    "                                   ~dfEvents[\"person\"].str.contains(\"TransitDriverAgent\",na=False) &\n",
    "                                   (~dfEvents[\"person\"].isna())),:]\\\n",
    "                             .dropna(subset = [\"tourPurpose\"])\n",
    "        return dfActivity[\"tourPurpose\"].value_counts(normalize=True)\n",
    "\n",
    "dfBayAreaBeamEvents = detailed_events(BASE_DIR.parent.joinpath(\"runs\", simulation_run,\"ITERS\",(\"it.\"+str(last_iter)),(str(last_iter)+\".events.csv.gz\")))\n",
    "dfBayAreaZerothEvents = detailed_events(BASE_DIR.parent.joinpath(\"runs\", simulation_run,\"ITERS\",(\"it.\"+str(first_iter)),(str(first_iter)+\".events.csv.gz\")))"
   ],
   "metadata": {
    "collapsed": false,
    "pycharm": {
     "name": "#%%\n"
    }
   }
  },
  {
   "cell_type": "code",
   "execution_count": 178,
   "outputs": [],
   "source": [],
   "metadata": {
    "collapsed": false,
    "pycharm": {
     "name": "#%%\n"
    }
   }
  },
  {
   "cell_type": "code",
   "execution_count": 179,
   "outputs": [
    {
     "data": {
      "text/plain": "33290"
     },
     "execution_count": 179,
     "metadata": {},
     "output_type": "execute_result"
    }
   ],
   "source": [
    "dfLast = dfBayAreaBeamEvents.dfEvents\n",
    "dfFirst = dfBayAreaZerothEvents.dfEvents\n",
    "\n",
    "dfLast.loc[(~dfLast[\"person\"].str.contains(\"ix\",na=False)) & (~dfLast[\"person\"].str.contains(\"rideHailAgent\",na=False))\n",
    "           & (~dfLast[\"person\"].str.contains(\"TransitDriverAgent\",na=False)) & (~dfLast[\"person\"].isna())\n",
    "           & (dfLast[\"type\"]==\"TripArrivalEvent\"),\"mode\"].value_counts().sum()\n",
    "\n",
    "dfFirst.loc[(~dfFirst[\"person\"].str.contains(\"ix\",na=False)) & (~dfFirst[\"person\"].str.contains(\"rideHailAgent\",na=False))\n",
    "            & (~dfFirst[\"person\"].str.contains(\"TransitDriverAgent\",na=False)) & (~dfFirst[\"person\"].isna())\n",
    "            & (dfFirst[\"type\"]==\"TripArrivalEvent\"),\"mode\"].value_counts().sum()"
   ],
   "metadata": {
    "collapsed": false,
    "pycharm": {
     "name": "#%%\n"
    }
   }
  },
  {
   "cell_type": "code",
   "execution_count": 179,
   "outputs": [],
   "source": [],
   "metadata": {
    "collapsed": false,
    "pycharm": {
     "name": "#%%\n"
    }
   }
  },
  {
   "cell_type": "code",
   "execution_count": 179,
   "outputs": [],
   "source": [],
   "metadata": {
    "collapsed": false,
    "pycharm": {
     "name": "#%%\n"
    }
   }
  },
  {
   "cell_type": "code",
   "execution_count": 179,
   "outputs": [],
   "source": [],
   "metadata": {
    "collapsed": false,
    "pycharm": {
     "name": "#%%\n"
    }
   }
  },
  {
   "cell_type": "code",
   "execution_count": 179,
   "outputs": [],
   "source": [],
   "metadata": {
    "collapsed": false,
    "pycharm": {
     "name": "#%%\n"
    }
   }
  },
  {
   "cell_type": "code",
   "execution_count": 180,
   "outputs": [],
   "source": [
    "# dData = dfBayAreaBeamEvents.get_ii_transfers_firstmile_summary()\n",
    "# transfer_dict = (dData.groupby([\"walkTransitDistances_cat\",\"numberofTransfers_cat\"]).size().reset_index().rename(columns={0: \"count\"}).groupby(\"walkTransitDistances_cat\").apply(lambda mode_used: dict(zip(mode_used[\"numberofTransfers_cat\"], mode_used[\"count\"])))).copy()\n",
    "# for key,values in transfer_dict.iteritems():\n",
    "#     # print(key)\n",
    "#     cat = [\"0\",\"1\",\"2\",\"3+\"]\n",
    "#     if isinstance(values,dict):\n",
    "#         for k,v in transfer_dict.get(key).items():\n",
    "#             print(k,\"-->\",v)\n",
    "#             if k in cat:\n",
    "#                 cat.remove(k)\n",
    "#         for c in cat:\n",
    "#             transfer_dict[key][c]=0\n",
    "# # Populate noofTransfers by tourpurpose\n",
    "# transfer_wrksheet = workbook[\"noTransfer_Summary\"]\n",
    "# for distance_cat,values in transfer_dict.iteritems():\n",
    "#     if isinstance((values,dict)):\n",
    "#         cell_row=11\n",
    "#         cell_col=\"D\"\n",
    "#         for k,v in values.items():\n"
   ],
   "metadata": {
    "collapsed": false,
    "pycharm": {
     "name": "#%%\n"
    }
   }
  },
  {
   "cell_type": "code",
   "execution_count": 181,
   "outputs": [],
   "source": [
    "# Lets export these values in csv format\n",
    "from openpyxl.styles import Border, Side, PatternFill, Font, GradientFill, Alignment\n",
    "# read the excel template\n",
    "workbook = load_workbook(filename=BASE_DIR.parent.joinpath(\"template\", \"templatev10.0.xlsx\"))\n",
    "sheet = workbook[\"Summary\"]"
   ],
   "metadata": {
    "collapsed": false,
    "pycharm": {
     "name": "#%%\n"
    }
   }
  },
  {
   "cell_type": "code",
   "execution_count": 182,
   "outputs": [],
   "source": [
    "# Summary worksheet\n",
    "# general information\n",
    "iteration_counter = 1\n",
    "cell_row=1\n",
    "cell_column=1\n",
    "sheet.cell(row=(cell_row),column=(cell_column+1)).value = (\"BEAM Simulation iteration {}\".format(iteration_counter))\n",
    "# Folder\n",
    "sheet.cell(row=(cell_row+1),column=(cell_column+1)).value = simulation_run\n",
    "# Date\n",
    "sheet.cell(row=(cell_row+2),column=(cell_column+1)).value =\"{}\".format(date_time)\n",
    "# Notes\n",
    "sheet.cell(row=(cell_row+3),column=(cell_column+1)).value = \"\"\n",
    "#Sample information\n",
    "# sample_pct = 0.05\n",
    "sheet.cell(row=(cell_row+6),column=(cell_column+1)).value = sample_pct*100\n",
    "sheet.cell(row=(cell_row+7),column=(cell_column+1)).value = 100/(100*sample_pct)\n",
    "# scale_factor = 100/(100*sample_pct)"
   ],
   "metadata": {
    "collapsed": false,
    "pycharm": {
     "name": "#%%\n"
    }
   }
  },
  {
   "cell_type": "code",
   "execution_count": 183,
   "outputs": [],
   "source": [
    "# Model Run - Last Iteration\n",
    "# dump values for full Bay Area\n",
    "#change the heading of the simulation run\n",
    "#re-locate the fixed row and column = 11\n",
    "cell_row=11\n",
    "cell_column=6\n",
    "\n",
    "temp = \"Beam_Run_\"+date_time\n",
    "sheet.cell(row=(cell_row),column=(cell_column)).value = temp\n",
    "# sheet.merge_cells('D2:E2')\n",
    "# sheet[\"F2\"].font = Font(b=True,size=10)\n",
    "\n",
    "# VMT & VHT Data\n",
    "cell_row+=1\n",
    "sheet.cell(row=(cell_row),column=(cell_column)).value = dfBayAreaBeam.VMT_sum\n",
    "cell_row+=1\n",
    "sheet.cell(row=(cell_row),column=(cell_column)).value = dfBayAreaBeam.VHT_sum\n",
    "cell_row+=1\n",
    "sheet.cell(row=(cell_row),column=(cell_column)).value = dfBayAreaBeam.VMT_VHT_ratio\n",
    "# sheet[\"F9\"] = (VHD_sum)\n",
    "\n",
    "# Mode Share data\n",
    "cell_row+=2\n",
    "# sheet.cell(row=(cell_row),column=(cell_column)).value = dfBayAreaBeamEvents.get_TT_modeshare()[\"car_share\"]\n",
    "sheet.cell(row=(cell_row),column=(cell_column)).value = dfBayAreaBeamEvents.get_TT_modeshare().get(\"car\",0)\n",
    "cell_row+=1\n",
    "# sheet.cell(row=(cell_row),column=(cell_column)).value = dfBayAreaBeamEvents.get_TT_modeshare()[\"transit_share\"]\n",
    "sheet.cell(row=(cell_row),column=(cell_column)).value = (dfBayAreaBeamEvents.get_TT_modeshare().get(\"walk_transit\",0) +\n",
    "                                                         dfBayAreaBeamEvents.get_TT_modeshare().get(\"bike_transit\",0) +\n",
    "                                                         dfBayAreaBeamEvents.get_TT_modeshare().get(\"drive_transit\",0) +\n",
    "                                                         dfBayAreaBeamEvents.get_TT_modeshare().get(\"rideh_hail_transit\",0))\n",
    "cell_row+=1\n",
    "# sheet.cell(row=(cell_row),column=(cell_column)).value= dfBayAreaBeamEvents.get_TT_modeshare()[\"walk_share\"]\n",
    "sheet.cell(row=(cell_row),column=(cell_column)).value= dfBayAreaBeamEvents.get_TT_modeshare().get(\"walk\",0)\n",
    "cell_row+=1\n",
    "# sheet.cell(row=(cell_row),column=(cell_column)).value= dfBayAreaBeamEvents.get_TT_modeshare()[\"bike_share\"]\n",
    "sheet.cell(row=(cell_row),column=(cell_column)).value= dfBayAreaBeamEvents.get_TT_modeshare().get(\"bike\",0)\n",
    "cell_row+=1\n",
    "# sheet.cell(row=(cell_row),column=(cell_column)).value = dfBayAreaBeamEvents.get_TT_modeshare()[\"ride_hail_share\"]\n",
    "sheet.cell(row=(cell_row),column=(cell_column)).value= dfBayAreaBeamEvents.get_TT_modeshare().get(\"ride_hail\",0)\n",
    "cell_row+=1\n",
    "sheet.cell(row=(cell_row),column=(cell_column)).value= dfBayAreaBeamEvents.get_TT_modeshare().get(\"ride_hail_pool\",0)\n",
    "cell_row+=1\n",
    "sheet.cell(row=(cell_row),column=(cell_column)).value= dfBayAreaBeamEvents.get_TT_modeshare().get(\"hov2\",0) + \\\n",
    "                                                       dfBayAreaBeamEvents.get_TT_modeshare().get(\"hov2_teleportation\",0)\n",
    "cell_row+=1\n",
    "sheet.cell(row=(cell_row),column=(cell_column)).value= dfBayAreaBeamEvents.get_TT_modeshare().get(\"hov3\",0) +\\\n",
    "                                                       dfBayAreaBeamEvents.get_TT_modeshare().get(\"hov3_teleportation\",0)\n",
    "\n",
    "# Boarding data\n",
    "cell_row+=2\n",
    "sheet.cell(row=(cell_row),column=(cell_column)).value=(dfBayAreaBeamEvents.TT_PTBoardings[\"bus_boarding\"]*scale_factor)\n",
    "cell_row+=1\n",
    "sheet.cell(row=(cell_row),column=(cell_column)).value= (dfBayAreaBeamEvents.TT_PTBoardings[\"tram_boarding\"]+dfBayAreaBeamEvents.TT_PTBoardings[\"cable_boarding\"])*scale_factor\n",
    "cell_row+=1\n",
    "sheet.cell(row=(cell_row),column=(cell_column)).value= (dfBayAreaBeamEvents.TT_PTBoardings[\"rail_boarding\"]*scale_factor)\n",
    "\n",
    "# Agent stats\n",
    "cell_row+=3\n",
    "sheet.cell(row=(cell_row),column=(cell_column)).value= (dfBayAreaBeamEvents.get_agents_count()[\"ix_agents\"]*scale_factor)\n",
    "cell_row+=1\n",
    "sheet.cell(row=(cell_row),column=(cell_column)).value= (dfBayAreaBeamEvents.get_agents_count()[\"ii_agents\"]*scale_factor)\n",
    "cell_row+=2\n",
    "sheet.cell(row=(cell_row),column=(cell_column)).value= (dfBayAreaBeamEvents.get_agents_count().get(\"ridehail_agent\",0)*scale_factor)\n",
    "\n",
    "# Unlinked trip information\n",
    "cell_row+=2\n",
    "sheet.cell(row=(cell_row),column=(cell_column)).value=  ((dfBayAreaBeamEvents.get_TT_unlinked_trips().get(\"car\",0))*scale_factor)\n",
    "# Transit\n",
    "cell_row+=1\n",
    "sheet.cell(row=(cell_row),column=(cell_column)).value=  (dfBayAreaBeamEvents.get_TT_unlinked_trips().get(\"walk_transit\",0) *scale_factor)\n",
    "cell_row+=1\n",
    "sheet.cell(row=(cell_row),column=(cell_column)).value=  (dfBayAreaBeamEvents.get_TT_unlinked_trips().get(\"drive_transit\",0) *scale_factor)\n",
    "cell_row+=1\n",
    "sheet.cell(row=(cell_row),column=(cell_column)).value=  (dfBayAreaBeamEvents.get_TT_unlinked_trips().get(\"bike_transit\",0) *scale_factor)\n",
    "cell_row+=1\n",
    "sheet.cell(row=(cell_row),column=(cell_column)).value=  (dfBayAreaBeamEvents.get_TT_unlinked_trips().get(\"ridehail_transit\",0) *scale_factor)\n",
    "# Pedestrian\n",
    "cell_row+=1\n",
    "sheet.cell(row=(cell_row),column=(cell_column)).value=  (dfBayAreaBeamEvents.get_TT_unlinked_trips().get(\"walk\",0)*scale_factor)\n",
    "# Bike\n",
    "cell_row+=1\n",
    "sheet.cell(row=(cell_row),column=(cell_column)).value=  (dfBayAreaBeamEvents.get_TT_unlinked_trips().get(\"bike\",0)*scale_factor)\n",
    "# Ridehail\n",
    "cell_row+=1\n",
    "sheet.cell(row=(cell_row),column=(cell_column)).value=  (dfBayAreaBeamEvents.get_TT_unlinked_trips().get(\"ride_hail\",0)*scale_factor)\n",
    "cell_row+=1\n",
    "sheet.cell(row=(cell_row),column=(cell_column)).value=  (dfBayAreaBeamEvents.get_TT_unlinked_trips().get(\"ride_hail_pooled\",0)*scale_factor)\n",
    "# HOV2 + HOV2_teleport\n",
    "cell_row+=1\n",
    "sheet.cell(row=(cell_row),column=(cell_column)).value=  (dfBayAreaBeamEvents.get_TT_unlinked_trips().get(\"hov2\",0)+\n",
    "                                                         dfBayAreaBeamEvents.get_TT_unlinked_trips().get(\"hov2_teleportation\",0))*scale_factor\n",
    "# HOV3 + HOV3_teleport\n",
    "cell_row+=1\n",
    "sheet.cell(row=(cell_row),column=(cell_column)).value=  (dfBayAreaBeamEvents.get_TT_unlinked_trips().get(\"hov3\",0)+\n",
    "                                                         dfBayAreaBeamEvents.get_TT_unlinked_trips().get(\"hov3_teleportation\",0))*scale_factor\n",
    "\n",
    "# \"Total Trip Information\"\n",
    "cell_row+=3\n",
    "sheet.cell(row=(cell_row),column=(cell_column)).value=  (sum(dfBayAreaBeamEvents.get_TT_unlinked_trips())*scale_factor)\n",
    "\n",
    "# Auto ownership status\n",
    "cell_row+=2\n",
    "sheet.cell(row=(cell_row),column=(cell_column)).value=  (dfBayAreaBeamEvents.get_TT_auto_ratio_status().get(\"no_auto\",0))\n",
    "cell_row+=1\n",
    "sheet.cell(row=(cell_row),column=(cell_column)).value=  (dfBayAreaBeamEvents.get_TT_auto_ratio_status().get(\"auto_sufficient\",0))\n",
    "cell_row+=1\n",
    "sheet.cell(row=(cell_row),column=(cell_column)).value=  (dfBayAreaBeamEvents.get_TT_auto_ratio_status().get(\"auto_deficient\",0))\n",
    "\n",
    "# Activity Type\n",
    "cell_row+=2\n",
    "# sheet.cell(row=(cell_row),column=(cell_column)).value=  (dfBayAreaBeamEvents.get_TT_activity_type().get(\"home\",0))\n",
    "# cell_row+=1\n",
    "sheet.cell(row=(cell_row),column=(cell_column)).value=  (dfBayAreaBeamEvents.get_TT_activity_type().get(\"othmaint\",0))\n",
    "cell_row+=1\n",
    "sheet.cell(row=(cell_row),column=(cell_column)).value=  (dfBayAreaBeamEvents.get_TT_activity_type().get(\"escort\",0))\n",
    "cell_row+=1\n",
    "sheet.cell(row=(cell_row),column=(cell_column)).value=  (dfBayAreaBeamEvents.get_TT_activity_type().get(\"shopping\",0))\n",
    "cell_row+=1\n",
    "sheet.cell(row=(cell_row),column=(cell_column)).value=  (dfBayAreaBeamEvents.get_TT_activity_type().get(\"social\",0))\n",
    "cell_row+=1\n",
    "sheet.cell(row=(cell_row),column=(cell_column)).value=  (dfBayAreaBeamEvents.get_TT_activity_type().get(\"work\",0))\n",
    "cell_row+=1\n",
    "sheet.cell(row=(cell_row),column=(cell_column)).value=  (dfBayAreaBeamEvents.get_TT_activity_type().get(\"eatout\",0))\n",
    "cell_row+=1\n",
    "sheet.cell(row=(cell_row),column=(cell_column)).value=  (dfBayAreaBeamEvents.get_TT_activity_type().get(\"othdiscr\",0))\n",
    "cell_row+=1\n",
    "sheet.cell(row=(cell_row),column=(cell_column)).value=  (dfBayAreaBeamEvents.get_TT_activity_type().get(\"univ\",0))\n",
    "cell_row+=1\n",
    "sheet.cell(row=(cell_row),column=(cell_column)).value=  (dfBayAreaBeamEvents.get_TT_activity_type().get(\"school\",0))"
   ],
   "metadata": {
    "collapsed": false,
    "pycharm": {
     "name": "#%%\n"
    }
   }
  },
  {
   "cell_type": "code",
   "execution_count": 184,
   "outputs": [],
   "source": [
    "# SFChamp Run - First Iteration\n",
    "# dump values for full Bay Area\n",
    "#change the heading of the simulation run\n",
    "#re-locate the fixed row and column = 11\n",
    "cell_row=11\n",
    "cell_column=9\n",
    "\n",
    "temp = \"SF_Champ_\"+date_time\n",
    "sheet.cell(row=(cell_row),column=(cell_column)).value = temp\n",
    "# sheet.merge_cells('D2:E2')\n",
    "# sheet[\"F2\"].font = Font(b=True,size=10)\n",
    "\n",
    "# Mode Share data\n",
    "cell_row+=5\n",
    "# sheet.cell(row=(cell_row),column=(cell_column)).value = dfBayAreaBeamEvents.get_TT_modeshare()[\"car_share\"]\n",
    "sheet.cell(row=(cell_row),column=(cell_column)).value = dfBayAreaZerothEvents.get_TT_modeshare().get(\"car\",0)\n",
    "cell_row+=1\n",
    "# sheet.cell(row=(cell_row),column=(cell_column)).value = dfBayAreaBeamEvents.get_TT_modeshare()[\"transit_share\"]\n",
    "sheet.cell(row=(cell_row),column=(cell_column)).value = (dfBayAreaZerothEvents.get_TT_modeshare().get(\"walk_transit\",0) +\n",
    "                                                         dfBayAreaZerothEvents.get_TT_modeshare().get(\"bike_transit\",0) +\n",
    "                                                         dfBayAreaZerothEvents.get_TT_modeshare().get(\"drive_transit\",0) +\n",
    "                                                         dfBayAreaZerothEvents.get_TT_modeshare().get(\"rideh_hail_transit\",0))\n",
    "cell_row+=1\n",
    "# sheet.cell(row=(cell_row),column=(cell_column)).value= dfBayAreaBeamEvents.get_TT_modeshare()[\"walk_share\"]\n",
    "sheet.cell(row=(cell_row),column=(cell_column)).value= dfBayAreaZerothEvents.get_TT_modeshare().get(\"walk\",0)\n",
    "cell_row+=1\n",
    "# sheet.cell(row=(cell_row),column=(cell_column)).value= dfBayAreaBeamEvents.get_TT_modeshare()[\"bike_share\"]\n",
    "sheet.cell(row=(cell_row),column=(cell_column)).value= dfBayAreaZerothEvents.get_TT_modeshare().get(\"bike\",0)\n",
    "cell_row+=1\n",
    "# sheet.cell(row=(cell_row),column=(cell_column)).value = dfBayAreaBeamEvents.get_TT_modeshare()[\"ride_hail_share\"]\n",
    "sheet.cell(row=(cell_row),column=(cell_column)).value= dfBayAreaZerothEvents.get_TT_modeshare().get(\"ride_hail\",0)\n",
    "cell_row+=1\n",
    "sheet.cell(row=(cell_row),column=(cell_column)).value= dfBayAreaZerothEvents.get_TT_modeshare().get(\"ride_hail_pool\",0)\n",
    "cell_row+=1\n",
    "sheet.cell(row=(cell_row),column=(cell_column)).value= dfBayAreaZerothEvents.get_TT_modeshare().get(\"hov2\",0) +\\\n",
    "                                                       dfBayAreaZerothEvents.get_TT_modeshare().get(\"hov2_teleportation\",0)\n",
    "cell_row+=1\n",
    "sheet.cell(row=(cell_row),column=(cell_column)).value= dfBayAreaZerothEvents.get_TT_modeshare().get(\"hov3\",0) +\\\n",
    "                                                       dfBayAreaZerothEvents.get_TT_modeshare().get(\"hov3_teleportation\",0)\n",
    "\n",
    "# Boarding data\n",
    "cell_row+=2\n",
    "sheet.cell(row=(cell_row),column=(cell_column)).value=(dfBayAreaZerothEvents.TT_PTBoardings[\"bus_boarding\"]*scale_factor)\n",
    "cell_row+=1\n",
    "sheet.cell(row=(cell_row),column=(cell_column)).value= (dfBayAreaZerothEvents.TT_PTBoardings[\"tram_boarding\"]+\n",
    "                                                        dfBayAreaZerothEvents.TT_PTBoardings[\"cable_boarding\"])*scale_factor\n",
    "cell_row+=1\n",
    "sheet.cell(row=(cell_row),column=(cell_column)).value= (dfBayAreaZerothEvents.TT_PTBoardings[\"rail_boarding\"]*scale_factor)\n",
    "\n",
    "# Agent stats\n",
    "cell_row+=3\n",
    "sheet.cell(row=(cell_row),column=(cell_column)).value= (dfBayAreaZerothEvents.get_agents_count()[\"ix_agents\"]*scale_factor)\n",
    "cell_row+=1\n",
    "sheet.cell(row=(cell_row),column=(cell_column)).value= (dfBayAreaZerothEvents.get_agents_count()[\"ii_agents\"]*scale_factor)\n",
    "cell_row+=2\n",
    "sheet.cell(row=(cell_row),column=(cell_column)).value= (dfBayAreaZerothEvents.get_agents_count().get(\"ridehail_agent\",0)*scale_factor)\n",
    "\n",
    "# Unlinked trip information\n",
    "cell_row+=2\n",
    "sheet.cell(row=(cell_row),column=(cell_column)).value=  ((dfBayAreaZerothEvents.get_TT_unlinked_trips().get(\"car\",0))*scale_factor)\n",
    "# Transit\n",
    "cell_row+=1\n",
    "sheet.cell(row=(cell_row),column=(cell_column)).value=  (dfBayAreaZerothEvents.get_TT_unlinked_trips().get(\"walk_transit\",0) *scale_factor)\n",
    "cell_row+=1\n",
    "sheet.cell(row=(cell_row),column=(cell_column)).value=  (dfBayAreaZerothEvents.get_TT_unlinked_trips().get(\"drive_transit\",0) *scale_factor)\n",
    "cell_row+=1\n",
    "sheet.cell(row=(cell_row),column=(cell_column)).value=  (dfBayAreaZerothEvents.get_TT_unlinked_trips().get(\"bike_transit\",0) *scale_factor)\n",
    "cell_row+=1\n",
    "sheet.cell(row=(cell_row),column=(cell_column)).value=  (dfBayAreaZerothEvents.get_TT_unlinked_trips().get(\"ridehail_transit\",0) *scale_factor)\n",
    "# Pedestrian\n",
    "cell_row+=1\n",
    "sheet.cell(row=(cell_row),column=(cell_column)).value=  (dfBayAreaZerothEvents.get_TT_unlinked_trips().get(\"walk\",0)*scale_factor)\n",
    "# Bike\n",
    "cell_row+=1\n",
    "sheet.cell(row=(cell_row),column=(cell_column)).value=  (dfBayAreaZerothEvents.get_TT_unlinked_trips().get(\"bike\",0)*scale_factor)\n",
    "# Ridehail\n",
    "cell_row+=1\n",
    "sheet.cell(row=(cell_row),column=(cell_column)).value=  (dfBayAreaZerothEvents.get_TT_unlinked_trips().get(\"ride_hail\",0)*scale_factor)\n",
    "cell_row+=1\n",
    "sheet.cell(row=(cell_row),column=(cell_column)).value=  (dfBayAreaZerothEvents.get_TT_unlinked_trips().get(\"ride_hail_pooled\",0)*scale_factor)\n",
    "# HOV2 + HOV2_teleport\n",
    "cell_row+=1\n",
    "sheet.cell(row=(cell_row),column=(cell_column)).value=  (dfBayAreaZerothEvents.get_TT_unlinked_trips().get(\"hov2\",0)+\n",
    "                                                         dfBayAreaZerothEvents.get_TT_unlinked_trips().get(\"hov2_teleportation\",0))*scale_factor\n",
    "# HOV3 + HOV3_teleport\n",
    "cell_row+=1\n",
    "sheet.cell(row=(cell_row),column=(cell_column)).value=  (dfBayAreaZerothEvents.get_TT_unlinked_trips().get(\"hov3\",0)+\n",
    "                                                         dfBayAreaZerothEvents.get_TT_unlinked_trips().get(\"hov3_teleportation\",0))*scale_factor\n",
    "\n",
    "# \"Total Trip Information\"\n",
    "cell_row+=3\n",
    "sheet.cell(row=(cell_row),column=(cell_column)).value=  (sum(dfBayAreaZerothEvents.get_TT_unlinked_trips())*scale_factor)\n",
    "\n",
    "# Auto ownership status\n",
    "cell_row+=2\n",
    "sheet.cell(row=(cell_row),column=(cell_column)).value=  (dfBayAreaZerothEvents.get_TT_auto_ratio_status().get(\"no_auto\",0))\n",
    "cell_row+=1\n",
    "sheet.cell(row=(cell_row),column=(cell_column)).value=  (dfBayAreaZerothEvents.get_TT_auto_ratio_status().get(\"auto_sufficient\",0))\n",
    "cell_row+=1\n",
    "sheet.cell(row=(cell_row),column=(cell_column)).value=  (dfBayAreaZerothEvents.get_TT_auto_ratio_status().get(\"auto_deficient\",0))\n",
    "\n",
    "# Activity Type\n",
    "cell_row+=2\n",
    "# sheet.cell(row=(cell_row),column=(cell_column)).value=  (dfBayAreaZerothEvents.get_TT_activity_type().get(\"home\",0))\n",
    "# cell_row+=1\n",
    "sheet.cell(row=(cell_row),column=(cell_column)).value=  (dfBayAreaZerothEvents.get_TT_activity_type().get(\"othmaint\",0))\n",
    "cell_row+=1\n",
    "sheet.cell(row=(cell_row),column=(cell_column)).value=  (dfBayAreaZerothEvents.get_TT_activity_type().get(\"escort\",0))\n",
    "cell_row+=1\n",
    "sheet.cell(row=(cell_row),column=(cell_column)).value=  (dfBayAreaZerothEvents.get_TT_activity_type().get(\"shopping\",0))\n",
    "cell_row+=1\n",
    "sheet.cell(row=(cell_row),column=(cell_column)).value=  (dfBayAreaZerothEvents.get_TT_activity_type().get(\"social\",0))\n",
    "cell_row+=1\n",
    "sheet.cell(row=(cell_row),column=(cell_column)).value=  (dfBayAreaZerothEvents.get_TT_activity_type().get(\"work\",0))\n",
    "cell_row+=1\n",
    "sheet.cell(row=(cell_row),column=(cell_column)).value=  (dfBayAreaZerothEvents.get_TT_activity_type().get(\"eatout\",0))\n",
    "cell_row+=1\n",
    "sheet.cell(row=(cell_row),column=(cell_column)).value=  (dfBayAreaZerothEvents.get_TT_activity_type().get(\"othdiscr\",0))\n",
    "cell_row+=1\n",
    "sheet.cell(row=(cell_row),column=(cell_column)).value=  (dfBayAreaZerothEvents.get_TT_activity_type().get(\"univ\",0))\n",
    "cell_row+=1\n",
    "sheet.cell(row=(cell_row),column=(cell_column)).value=  (dfBayAreaZerothEvents.get_TT_activity_type().get(\"school\",0))"
   ],
   "metadata": {
    "collapsed": false,
    "pycharm": {
     "name": "#%%\n"
    }
   }
  },
  {
   "cell_type": "code",
   "execution_count": 185,
   "outputs": [
    {
     "name": "stderr",
     "output_type": "stream",
     "text": [
      "c:\\users\\goyal\\.virtualenvs\\t-score-0msqhlpo\\lib\\site-packages\\pandas\\core\\frame.py:3607: SettingWithCopyWarning: \n",
      "A value is trying to be set on a copy of a slice from a DataFrame.\n",
      "Try using .loc[row_indexer,col_indexer] = value instead\n",
      "\n",
      "See the caveats in the documentation: https://pandas.pydata.org/pandas-docs/stable/user_guide/indexing.html#returning-a-view-versus-a-copy\n",
      "  self._set_item(key, value)\n"
     ]
    }
   ],
   "source": [
    "# Model Run - Last Iteration\n",
    "# dump values for SF County\n",
    "#change the heading of the simulation run\n",
    "#re-locate the fixed row and column = 11\n",
    "cell_row=11\n",
    "cell_column=16\n",
    "\n",
    "temp = \"Beam_Run_County_\"+date_time\n",
    "sheet.cell(row=(cell_row),column=(cell_column)).value = temp\n",
    "# sheet.merge_cells('D2:E2')\n",
    "# sheet[\"F2\"].font = Font(b=True,size=10)\n",
    "\n",
    "# VMT & VHT Data\n",
    "cell_row+=1\n",
    "sheet.cell(row=(cell_row),column=(cell_column)).value = dfSFCountyBeam.VMT_sum\n",
    "cell_row+=1\n",
    "sheet.cell(row=(cell_row),column=(cell_column)).value = dfSFCountyBeam.VHT_sum\n",
    "cell_row+=1\n",
    "sheet.cell(row=(cell_row),column=(cell_column)).value = dfSFCountyBeam.VMT_VHT_ratio\n",
    "# sheet[\"F9\"] = (VHD_sum)\n",
    "\n",
    "# Mode Share data\n",
    "cell_row+=2\n",
    "# sheet.cell(row=(cell_row),column=(cell_column)).value = dfBayAreaBeamEvents.get_TT_modeshare()[\"car_share\"]\n",
    "sheet.cell(row=(cell_row),column=(cell_column)).value = dfBayAreaBeamEvents.get_ii_modeshare().get(\"car\",0)\n",
    "cell_row+=1\n",
    "# sheet.cell(row=(cell_row),column=(cell_column)).value = dfBayAreaBeamEvents.get_TT_modeshare()[\"transit_share\"]\n",
    "sheet.cell(row=(cell_row),column=(cell_column)).value = (dfBayAreaBeamEvents.get_ii_modeshare().get(\"walk_transit\",0) +\n",
    "                                                         dfBayAreaBeamEvents.get_ii_modeshare().get(\"bike_transit\",0) +\n",
    "                                                         dfBayAreaBeamEvents.get_ii_modeshare().get(\"drive_transit\",0) +\n",
    "                                                         dfBayAreaBeamEvents.get_ii_modeshare().get(\"rideh_hail_transit\",0))\n",
    "cell_row+=1\n",
    "# sheet.cell(row=(cell_row),column=(cell_column)).value= dfBayAreaBeamEvents.get_TT_modeshare()[\"walk_share\"]\n",
    "sheet.cell(row=(cell_row),column=(cell_column)).value= dfBayAreaBeamEvents.get_ii_modeshare().get(\"walk\",0)\n",
    "cell_row+=1\n",
    "# sheet.cell(row=(cell_row),column=(cell_column)).value= dfBayAreaBeamEvents.get_TT_modeshare()[\"bike_share\"]\n",
    "sheet.cell(row=(cell_row),column=(cell_column)).value= dfBayAreaBeamEvents.get_ii_modeshare().get(\"bike\",0)\n",
    "cell_row+=1\n",
    "# sheet.cell(row=(cell_row),column=(cell_column)).value = dfBayAreaBeamEvents.get_TT_modeshare()[\"ride_hail_share\"]\n",
    "sheet.cell(row=(cell_row),column=(cell_column)).value= dfBayAreaBeamEvents.get_ii_modeshare().get(\"ride_hail\",0)\n",
    "cell_row+=1\n",
    "sheet.cell(row=(cell_row),column=(cell_column)).value= dfBayAreaBeamEvents.get_ii_modeshare().get(\"ride_hail_pool\",0)\n",
    "cell_row+=1\n",
    "sheet.cell(row=(cell_row),column=(cell_column)).value= dfBayAreaBeamEvents.get_ii_modeshare().get(\"hov2\",0) +\\\n",
    "                                                       dfBayAreaBeamEvents.get_ii_modeshare().get(\"hov2_teleportation\",0)\n",
    "cell_row+=1\n",
    "sheet.cell(row=(cell_row),column=(cell_column)).value= dfBayAreaBeamEvents.get_ii_modeshare().get(\"hov3\",0) +\\\n",
    "                                                       dfBayAreaBeamEvents.get_ii_modeshare().get(\"hov3_teleportation\",0)\n",
    "\n",
    "# Boarding data\n",
    "cell_row+=2\n",
    "sheet.cell(row=(cell_row),column=(cell_column)).value=(dfBayAreaBeamEvents.get_ii_PTBoardings().get(\"bus_boarding\",0)*scale_factor)\n",
    "cell_row+=1\n",
    "sheet.cell(row=(cell_row),column=(cell_column)).value= (dfBayAreaBeamEvents.get_ii_PTBoardings().get(\"tram_boarding\",0)+\n",
    "                                                        dfBayAreaBeamEvents.get_ii_PTBoardings().get(\"cable_boarding\",0))*scale_factor\n",
    "cell_row+=1\n",
    "sheet.cell(row=(cell_row),column=(cell_column)).value= (dfBayAreaBeamEvents.get_ii_PTBoardings().get(\"rail_boarding\",0)*scale_factor)\n",
    "\n",
    "# Agent stats\n",
    "cell_row+=3\n",
    "sheet.cell(row=(cell_row),column=(cell_column)).value= (dfBayAreaBeamEvents.get_agents_count()[\"ii_agents\"]*scale_factor)\n",
    "cell_row+=2\n",
    "sheet.cell(row=(cell_row),column=(cell_column)).value= (dfBayAreaBeamEvents.get_agents_count().get(\"ridehail_agent\",0)*scale_factor)\n",
    "\n",
    "# Unlinked trip information\n",
    "cell_row+=2\n",
    "sheet.cell(row=(cell_row),column=(cell_column)).value=  ((dfBayAreaBeamEvents.get_ii_unlinked_trips().get(\"car\",0))*scale_factor)\n",
    "# Transit\n",
    "cell_row+=1\n",
    "sheet.cell(row=(cell_row),column=(cell_column)).value=  (dfBayAreaBeamEvents.get_ii_unlinked_trips().get(\"walk_transit\",0) *scale_factor)\n",
    "cell_row+=1\n",
    "sheet.cell(row=(cell_row),column=(cell_column)).value=  (dfBayAreaBeamEvents.get_ii_unlinked_trips().get(\"drive_transit\",0) *scale_factor)\n",
    "cell_row+=1\n",
    "sheet.cell(row=(cell_row),column=(cell_column)).value=  (dfBayAreaBeamEvents.get_ii_unlinked_trips().get(\"bike_transit\",0) *scale_factor)\n",
    "cell_row+=1\n",
    "sheet.cell(row=(cell_row),column=(cell_column)).value=  (dfBayAreaBeamEvents.get_ii_unlinked_trips().get(\"ridehail_transit\",0) *scale_factor)\n",
    "# Pedestrian\n",
    "cell_row+=1\n",
    "sheet.cell(row=(cell_row),column=(cell_column)).value=  (dfBayAreaBeamEvents.get_ii_unlinked_trips().get(\"walk\",0)*scale_factor)\n",
    "# Bike\n",
    "cell_row+=1\n",
    "sheet.cell(row=(cell_row),column=(cell_column)).value=  (dfBayAreaBeamEvents.get_ii_unlinked_trips().get(\"bike\",0)*scale_factor)\n",
    "# Ridehail\n",
    "cell_row+=1\n",
    "sheet.cell(row=(cell_row),column=(cell_column)).value=  (dfBayAreaBeamEvents.get_ii_unlinked_trips().get(\"ride_hail\",0)*scale_factor)\n",
    "cell_row+=1\n",
    "sheet.cell(row=(cell_row),column=(cell_column)).value=  (dfBayAreaBeamEvents.get_ii_unlinked_trips().get(\"ride_hail_pooled\",0)*scale_factor)\n",
    "# HOV2 + HOV2_teleport\n",
    "cell_row+=1\n",
    "sheet.cell(row=(cell_row),column=(cell_column)).value=  (dfBayAreaBeamEvents.get_ii_unlinked_trips().get(\"hov2\",0)+\n",
    "                                                         dfBayAreaBeamEvents.get_ii_unlinked_trips().get(\"hov2_teleportation\",0))*scale_factor\n",
    "# HOV3 + HOV3_teleport\n",
    "cell_row+=1\n",
    "sheet.cell(row=(cell_row),column=(cell_column)).value=  (dfBayAreaBeamEvents.get_ii_unlinked_trips().get(\"hov3\",0)+\n",
    "                                                         dfBayAreaBeamEvents.get_ii_unlinked_trips().get(\"hov3_teleportation\",0))*scale_factor\n",
    "\n",
    "# \"Total Trip Information\"\n",
    "cell_row+=3\n",
    "sheet.cell(row=(cell_row),column=(cell_column)).value=  (sum(dfBayAreaBeamEvents.get_ii_unlinked_trips())*scale_factor)\n",
    "\n",
    "# Auto ownership status\n",
    "cell_row+=2\n",
    "sheet.cell(row=(cell_row),column=(cell_column)).value=  (dfBayAreaBeamEvents.get_ii_auto_ratio_status().get(\"no_auto\",0))\n",
    "cell_row+=1\n",
    "sheet.cell(row=(cell_row),column=(cell_column)).value=  (dfBayAreaBeamEvents.get_ii_auto_ratio_status().get(\"auto_sufficient\",0))\n",
    "cell_row+=1\n",
    "sheet.cell(row=(cell_row),column=(cell_column)).value=  (dfBayAreaBeamEvents.get_ii_auto_ratio_status().get(\"auto_deficient\",0))\n",
    "\n",
    "# Activity Type\n",
    "cell_row+=2\n",
    "# sheet.cell(row=(cell_row),column=(cell_column)).value=  (dfBayAreaBeamEvents.get_TT_activity_type().get(\"home\",0))\n",
    "# cell_row+=1\n",
    "sheet.cell(row=(cell_row),column=(cell_column)).value=  (dfBayAreaBeamEvents.get_ii_activity_type().get(\"othmaint\",0))\n",
    "cell_row+=1\n",
    "sheet.cell(row=(cell_row),column=(cell_column)).value=  (dfBayAreaBeamEvents.get_ii_activity_type().get(\"escort\",0))\n",
    "cell_row+=1\n",
    "sheet.cell(row=(cell_row),column=(cell_column)).value=  (dfBayAreaBeamEvents.get_ii_activity_type().get(\"shopping\",0))\n",
    "cell_row+=1\n",
    "sheet.cell(row=(cell_row),column=(cell_column)).value=  (dfBayAreaBeamEvents.get_ii_activity_type().get(\"social\",0))\n",
    "cell_row+=1\n",
    "sheet.cell(row=(cell_row),column=(cell_column)).value=  (dfBayAreaBeamEvents.get_ii_activity_type().get(\"work\",0))\n",
    "cell_row+=1\n",
    "sheet.cell(row=(cell_row),column=(cell_column)).value=  (dfBayAreaBeamEvents.get_ii_activity_type().get(\"eatout\",0))\n",
    "cell_row+=1\n",
    "sheet.cell(row=(cell_row),column=(cell_column)).value=  (dfBayAreaBeamEvents.get_ii_activity_type().get(\"othdiscr\",0))\n",
    "cell_row+=1\n",
    "sheet.cell(row=(cell_row),column=(cell_column)).value=  (dfBayAreaBeamEvents.get_ii_activity_type().get(\"univ\",0))\n",
    "cell_row+=1\n",
    "sheet.cell(row=(cell_row),column=(cell_column)).value=  (dfBayAreaBeamEvents.get_ii_activity_type().get(\"school\",0))"
   ],
   "metadata": {
    "collapsed": false,
    "pycharm": {
     "name": "#%%\n"
    }
   }
  },
  {
   "cell_type": "code",
   "execution_count": 186,
   "outputs": [],
   "source": [
    "# SF Champ - First Iteration\n",
    "# dump values for SF County\n",
    "#change the heading of the simulation run\n",
    "#re-locate the fixed row and column = 11\n",
    "cell_row=11\n",
    "cell_column=19\n",
    "\n",
    "temp = \"SF_Champ_County_\"+date_time\n",
    "sheet.cell(row=(cell_row),column=(cell_column)).value = temp\n",
    "# sheet.merge_cells('D2:E2')\n",
    "# sheet[\"F2\"].font = Font(b=True,size=10)\n",
    "\n",
    "# VMT & VHT Data\n",
    "# cell_row+=1\n",
    "# sheet.cell(row=(cell_row),column=(cell_column)).value = dfSFCountyBeam.VMT_sum\n",
    "# cell_row+=1\n",
    "# sheet.cell(row=(cell_row),column=(cell_column)).value = dfSFCountyBeam.VHT_sum\n",
    "# cell_row+=1\n",
    "# sheet.cell(row=(cell_row),column=(cell_column)).value = dfSFCountyBeam.VMT_VHT_ratio\n",
    "# sheet[\"F9\"] = (VHD_sum)\n",
    "\n",
    "# Mode Share data\n",
    "cell_row+=5\n",
    "# sheet.cell(row=(cell_row),column=(cell_column)).value = dfBayAreaBeamEvents.get_TT_modeshare()[\"car_share\"]\n",
    "sheet.cell(row=(cell_row),column=(cell_column)).value = dfBayAreaZerothEvents.get_ii_modeshare().get(\"car\",0)\n",
    "cell_row+=1\n",
    "# sheet.cell(row=(cell_row),column=(cell_column)).value = dfBayAreaBeamEvents.get_TT_modeshare()[\"transit_share\"]\n",
    "sheet.cell(row=(cell_row),column=(cell_column)).value = (dfBayAreaZerothEvents.get_ii_modeshare().get(\"walk_transit\",0) +\n",
    "                                                         dfBayAreaZerothEvents.get_ii_modeshare().get(\"bike_transit\",0) +\n",
    "                                                         dfBayAreaZerothEvents.get_ii_modeshare().get(\"drive_transit\",0) +\n",
    "                                                         dfBayAreaZerothEvents.get_ii_modeshare().get(\"rideh_hail_transit\",0))\n",
    "cell_row+=1\n",
    "# sheet.cell(row=(cell_row),column=(cell_column)).value= dfBayAreaBeamEvents.get_TT_modeshare()[\"walk_share\"]\n",
    "sheet.cell(row=(cell_row),column=(cell_column)).value= dfBayAreaZerothEvents.get_ii_modeshare().get(\"walk\",0)\n",
    "cell_row+=1\n",
    "# sheet.cell(row=(cell_row),column=(cell_column)).value= dfBayAreaBeamEvents.get_TT_modeshare()[\"bike_share\"]\n",
    "sheet.cell(row=(cell_row),column=(cell_column)).value= dfBayAreaZerothEvents.get_ii_modeshare().get(\"bike\",0)\n",
    "cell_row+=1\n",
    "# sheet.cell(row=(cell_row),column=(cell_column)).value = dfBayAreaBeamEvents.get_TT_modeshare()[\"ride_hail_share\"]\n",
    "sheet.cell(row=(cell_row),column=(cell_column)).value= dfBayAreaZerothEvents.get_ii_modeshare().get(\"ride_hail\",0)\n",
    "cell_row+=1\n",
    "sheet.cell(row=(cell_row),column=(cell_column)).value= dfBayAreaZerothEvents.get_ii_modeshare().get(\"ride_hail_pool\",0)\n",
    "cell_row+=1\n",
    "sheet.cell(row=(cell_row),column=(cell_column)).value= dfBayAreaZerothEvents.get_ii_modeshare().get(\"hov2\",0) +\\\n",
    "                                                       dfBayAreaZerothEvents.get_ii_modeshare().get(\"hov2_teleportation\",0)\n",
    "cell_row+=1\n",
    "sheet.cell(row=(cell_row),column=(cell_column)).value= dfBayAreaZerothEvents.get_ii_modeshare().get(\"hov3\",0) +\\\n",
    "                                                       dfBayAreaZerothEvents.get_ii_modeshare().get(\"hov3_teleportation\",0)\n",
    "\n",
    "# Boarding data\n",
    "cell_row+=2\n",
    "sheet.cell(row=(cell_row),column=(cell_column)).value=(dfBayAreaZerothEvents.get_ii_PTBoardings().get(\"bus_boarding\",0)*scale_factor)\n",
    "cell_row+=1\n",
    "sheet.cell(row=(cell_row),column=(cell_column)).value= (dfBayAreaZerothEvents.get_ii_PTBoardings().get(\"tram_boarding\",0)+\n",
    "                                                        dfBayAreaZerothEvents.get_ii_PTBoardings().get(\"cable_boarding\",0))*scale_factor\n",
    "cell_row+=1\n",
    "sheet.cell(row=(cell_row),column=(cell_column)).value= (dfBayAreaZerothEvents.get_ii_PTBoardings().get(\"rail_boarding\",0)*scale_factor)\n",
    "\n",
    "# Agent stats\n",
    "cell_row+=3\n",
    "sheet.cell(row=(cell_row),column=(cell_column)).value= (dfBayAreaZerothEvents.get_agents_count()[\"ii_agents\"]*scale_factor)\n",
    "cell_row+=2\n",
    "sheet.cell(row=(cell_row),column=(cell_column)).value= (dfBayAreaZerothEvents.get_agents_count().get(\"ridehail_agent\",0)*scale_factor)\n",
    "\n",
    "# Unlinked trip information\n",
    "cell_row+=2\n",
    "sheet.cell(row=(cell_row),column=(cell_column)).value=  ((dfBayAreaZerothEvents.get_ii_unlinked_trips().get(\"car\",0))*scale_factor)\n",
    "# Transit\n",
    "cell_row+=1\n",
    "sheet.cell(row=(cell_row),column=(cell_column)).value=  (dfBayAreaZerothEvents.get_ii_unlinked_trips().get(\"walk_transit\",0) *scale_factor)\n",
    "cell_row+=1\n",
    "sheet.cell(row=(cell_row),column=(cell_column)).value=  (dfBayAreaZerothEvents.get_ii_unlinked_trips().get(\"drive_transit\",0) *scale_factor)\n",
    "cell_row+=1\n",
    "sheet.cell(row=(cell_row),column=(cell_column)).value=  (dfBayAreaZerothEvents.get_ii_unlinked_trips().get(\"bike_transit\",0) *scale_factor)\n",
    "cell_row+=1\n",
    "sheet.cell(row=(cell_row),column=(cell_column)).value=  (dfBayAreaZerothEvents.get_ii_unlinked_trips().get(\"ridehail_transit\",0) *scale_factor)\n",
    "# Pedestrian\n",
    "cell_row+=1\n",
    "sheet.cell(row=(cell_row),column=(cell_column)).value=  (dfBayAreaZerothEvents.get_ii_unlinked_trips().get(\"walk\",0)*scale_factor)\n",
    "# Bike\n",
    "cell_row+=1\n",
    "sheet.cell(row=(cell_row),column=(cell_column)).value=  (dfBayAreaZerothEvents.get_ii_unlinked_trips().get(\"bike\",0)*scale_factor)\n",
    "# Ridehail\n",
    "cell_row+=1\n",
    "sheet.cell(row=(cell_row),column=(cell_column)).value=  (dfBayAreaZerothEvents.get_ii_unlinked_trips().get(\"ride_hail\",0)*scale_factor)\n",
    "cell_row+=1\n",
    "sheet.cell(row=(cell_row),column=(cell_column)).value=  (dfBayAreaZerothEvents.get_ii_unlinked_trips().get(\"ride_hail_pooled\",0)*scale_factor)\n",
    "# HOV2 + HOV2_teleport\n",
    "cell_row+=1\n",
    "sheet.cell(row=(cell_row),column=(cell_column)).value=  (dfBayAreaZerothEvents.get_ii_unlinked_trips().get(\"hov2\",0)+\n",
    "                                                         dfBayAreaZerothEvents.get_ii_unlinked_trips().get(\"hov2_teleportation\",0))*scale_factor\n",
    "# HOV3 + HOV3_teleport\n",
    "cell_row+=1\n",
    "sheet.cell(row=(cell_row),column=(cell_column)).value=  (dfBayAreaZerothEvents.get_ii_unlinked_trips().get(\"hov3\",0)+\n",
    "                                                         dfBayAreaZerothEvents.get_ii_unlinked_trips().get(\"hov3_teleportation\",0))*scale_factor\n",
    "\n",
    "# \"Total Trip Information\"\n",
    "cell_row+=3\n",
    "sheet.cell(row=(cell_row),column=(cell_column)).value=  (sum(dfBayAreaZerothEvents.get_ii_unlinked_trips())*scale_factor)\n",
    "\n",
    "# Auto ownership status\n",
    "cell_row+=2\n",
    "sheet.cell(row=(cell_row),column=(cell_column)).value=  (dfBayAreaZerothEvents.get_ii_auto_ratio_status().get(\"no_auto\",0))\n",
    "cell_row+=1\n",
    "sheet.cell(row=(cell_row),column=(cell_column)).value=  (dfBayAreaZerothEvents.get_ii_auto_ratio_status().get(\"auto_sufficient\",0))\n",
    "cell_row+=1\n",
    "sheet.cell(row=(cell_row),column=(cell_column)).value=  (dfBayAreaZerothEvents.get_ii_auto_ratio_status().get(\"auto_deficient\",0))\n",
    "\n",
    "# Activity Type\n",
    "cell_row+=2\n",
    "# sheet.cell(row=(cell_row),column=(cell_column)).value=  (dfBayAreaBeamEvents.get_TT_activity_type().get(\"home\",0))\n",
    "# cell_row+=1\n",
    "sheet.cell(row=(cell_row),column=(cell_column)).value=  (dfBayAreaZerothEvents.get_ii_activity_type().get(\"othmaint\",0))\n",
    "cell_row+=1\n",
    "sheet.cell(row=(cell_row),column=(cell_column)).value=  (dfBayAreaZerothEvents.get_ii_activity_type().get(\"escort\",0))\n",
    "cell_row+=1\n",
    "sheet.cell(row=(cell_row),column=(cell_column)).value=  (dfBayAreaZerothEvents.get_ii_activity_type().get(\"shopping\",0))\n",
    "cell_row+=1\n",
    "sheet.cell(row=(cell_row),column=(cell_column)).value=  (dfBayAreaZerothEvents.get_ii_activity_type().get(\"social\",0))\n",
    "cell_row+=1\n",
    "sheet.cell(row=(cell_row),column=(cell_column)).value=  (dfBayAreaZerothEvents.get_ii_activity_type().get(\"work\",0))\n",
    "cell_row+=1\n",
    "sheet.cell(row=(cell_row),column=(cell_column)).value=  (dfBayAreaZerothEvents.get_ii_activity_type().get(\"eatout\",0))\n",
    "cell_row+=1\n",
    "sheet.cell(row=(cell_row),column=(cell_column)).value=  (dfBayAreaZerothEvents.get_ii_activity_type().get(\"othdiscr\",0))\n",
    "cell_row+=1\n",
    "sheet.cell(row=(cell_row),column=(cell_column)).value=  (dfBayAreaZerothEvents.get_ii_activity_type().get(\"univ\",0))\n",
    "cell_row+=1\n",
    "sheet.cell(row=(cell_row),column=(cell_column)).value=  (dfBayAreaZerothEvents.get_ii_activity_type().get(\"school\",0))"
   ],
   "metadata": {
    "collapsed": false,
    "pycharm": {
     "name": "#%%\n"
    }
   }
  },
  {
   "cell_type": "code",
   "execution_count": 187,
   "outputs": [],
   "source": [
    "# Lets export these values in csv format\n",
    "from openpyxl.styles import Border, Side, PatternFill, Font, GradientFill, Alignment\n",
    "\n",
    "# read the excel template\n",
    "# workbook = load_workbook(filename=BASE_DIR.parent.joinpath(\"template\", \"templatev7.0.xlsx\"))\n",
    "Mode_Choice_wrksheet = workbook[\"Mode_Choice\"]\n",
    "\n",
    "def nested_dict_pairs_populator(dict_obj,row_no,col_no):\n",
    "    # Mode_Choice_wrksheet = sorted(dict_obj.items(),key=lambda kv:kv[1])\n",
    "    modechoice_summary = OrderedDict(sorted(dict_obj.items())).copy()\n",
    "    cell_row=row_no\n",
    "    cell_column=col_no\n",
    "    for mode, count in modechoice_summary.items():\n",
    "        if \"bike\" in mode:\n",
    "            Mode_Choice_wrksheet[\"{}{}\".format(cell_row,cell_column)]=count*scale_factor\n",
    "            cell_column+=1\n",
    "        elif \"bike_transit\" in mode:\n",
    "            Mode_Choice_wrksheet[\"{}{}\".format(cell_row,cell_column)]=count*scale_factor\n",
    "            cell_column+=1\n",
    "        elif \"car\" in mode:\n",
    "            Mode_Choice_wrksheet[\"{}{}\".format(cell_row,cell_column)]=count*scale_factor\n",
    "            cell_column+=1\n",
    "        elif \"drive_transit\" in mode:\n",
    "            Mode_Choice_wrksheet[\"{}{}\".format(cell_row,cell_column)]=count*scale_factor\n",
    "            cell_column+=1\n",
    "        elif \"hov2\" in mode:\n",
    "            Mode_Choice_wrksheet[\"{}{}\".format(cell_row,cell_column)]=count*scale_factor\n",
    "            cell_column+=1\n",
    "        elif \"hov2_teleportation\" in mode:\n",
    "            Mode_Choice_wrksheet[\"{}{}\".format(cell_row,cell_column)]=count*scale_factor\n",
    "            cell_column+=1\n",
    "        elif \"hov3\" in mode:\n",
    "            Mode_Choice_wrksheet[\"{}{}\".format(cell_row,cell_column)]=count*scale_factor\n",
    "            cell_column+=1\n",
    "        elif \"hov3_teleportation\" in mode:\n",
    "            Mode_Choice_wrksheet[\"{}{}\".format(cell_row,cell_column)]=count*scale_factor\n",
    "            cell_column+=1\n",
    "        elif \"ride_hail\" in mode:\n",
    "            Mode_Choice_wrksheet[\"{}{}\".format(cell_row,cell_column)]=count*scale_factor\n",
    "            cell_column+=1\n",
    "        elif \"ride_hail_pooled\" in mode:\n",
    "            Mode_Choice_wrksheet[\"{}{}\".format(cell_row,cell_column)]=count*scale_factor\n",
    "            cell_column+=1\n",
    "        elif \"ride_hail_transit\" in mode:\n",
    "            Mode_Choice_wrksheet[\"{}{}\".format(cell_row,cell_column)]=count*scale_factor\n",
    "            cell_column+=1\n",
    "        elif \"walk\" in mode:\n",
    "            Mode_Choice_wrksheet[\"{}{}\".format(cell_row,cell_column)]=count*scale_factor\n",
    "            cell_column+=1\n",
    "        elif \"walk_transit\" in mode:\n",
    "            Mode_Choice_wrksheet[\"{}{}\".format(cell_row,cell_column)]=count*scale_factor\n",
    "            cell_column+=1\n",
    "        else:\n",
    "            continue\n",
    "modechoice_summary = dfBayAreaBeamEvents.get_ii_tourpurpose_stats()\n",
    "for tour_purpose in modechoice_summary.keys():\n",
    "    if \"work\" in tour_purpose:\n",
    "        for auto_ownership in modechoice_summary[tour_purpose].keys():\n",
    "            cell_column =11\n",
    "            if \"no_auto\" in auto_ownership:\n",
    "                cell_row=\"D\"\n",
    "            elif \"auto_deficient\" in auto_ownership:\n",
    "                cell_row=\"E\"\n",
    "            elif \"auto_sufficient\" in auto_ownership:\n",
    "                cell_row=\"F\"\n",
    "            nested_dict_pairs_populator(modechoice_summary[tour_purpose][auto_ownership],cell_row,cell_column)\n",
    "    elif \"school\" in tour_purpose:\n",
    "        for auto_ownership in modechoice_summary[tour_purpose].keys():\n",
    "            cell_column =29\n",
    "            if \"no_auto\" in auto_ownership:\n",
    "                cell_row=\"D\"\n",
    "            elif \"auto_deficient\" in auto_ownership:\n",
    "                cell_row=\"E\"\n",
    "            elif \"auto_sufficient\" in auto_ownership:\n",
    "                cell_row=\"F\"\n",
    "            nested_dict_pairs_populator(modechoice_summary[tour_purpose][auto_ownership],cell_row,cell_column)\n",
    "    elif \"univ\" in tour_purpose:\n",
    "        for auto_ownership in modechoice_summary[tour_purpose].keys():\n",
    "            cell_column =47\n",
    "            if \"no_auto\" in auto_ownership:\n",
    "                cell_row=\"D\"\n",
    "            elif \"auto_deficient\" in auto_ownership:\n",
    "                cell_row=\"E\"\n",
    "            elif \"auto_sufficient\" in auto_ownership:\n",
    "                cell_row=\"F\"\n",
    "            nested_dict_pairs_populator(modechoice_summary[tour_purpose][auto_ownership],cell_row,cell_column)\n",
    "    elif \"shopping\" in tour_purpose:\n",
    "        for auto_ownership in modechoice_summary[tour_purpose].keys():\n",
    "            cell_column =65\n",
    "            if \"no_auto\" in auto_ownership:\n",
    "                cell_row=\"D\"\n",
    "            elif \"auto_deficient\" in auto_ownership:\n",
    "                cell_row=\"E\"\n",
    "            elif \"auto_sufficient\" in auto_ownership:\n",
    "                cell_row=\"F\"\n",
    "            nested_dict_pairs_populator(modechoice_summary[tour_purpose][auto_ownership],cell_row,cell_column)\n",
    "    elif \"othmaint\" in tour_purpose:\n",
    "        for auto_ownership in modechoice_summary[tour_purpose].keys():\n",
    "            cell_column =83\n",
    "            if \"no_auto\" in auto_ownership:\n",
    "                cell_row=\"D\"\n",
    "            elif \"auto_deficient\" in auto_ownership:\n",
    "                cell_row=\"E\"\n",
    "            elif \"auto_sufficient\" in auto_ownership:\n",
    "                cell_row=\"F\"\n",
    "            nested_dict_pairs_populator(modechoice_summary[tour_purpose][auto_ownership],cell_row,cell_column)\n",
    "    elif \"eatout\" in tour_purpose:\n",
    "        for auto_ownership in modechoice_summary[tour_purpose].keys():\n",
    "            cell_column =101\n",
    "            if \"no_auto\" in auto_ownership:\n",
    "                cell_row=\"D\"\n",
    "            elif \"auto_deficient\" in auto_ownership:\n",
    "                cell_row=\"E\"\n",
    "            elif \"auto_sufficient\" in auto_ownership:\n",
    "                cell_row=\"F\"\n",
    "            nested_dict_pairs_populator(modechoice_summary[tour_purpose][auto_ownership],cell_row,cell_column)\n",
    "    elif \"social\" in tour_purpose:\n",
    "        for auto_ownership in modechoice_summary[tour_purpose].keys():\n",
    "            cell_column =119\n",
    "            if \"no_auto\" in auto_ownership:\n",
    "                cell_row=\"D\"\n",
    "            elif \"auto_deficient\" in auto_ownership:\n",
    "                cell_row=\"E\"\n",
    "            elif \"auto_sufficient\" in auto_ownership:\n",
    "                cell_row=\"F\"\n",
    "            nested_dict_pairs_populator(modechoice_summary[tour_purpose][auto_ownership],cell_row,cell_column)\n",
    "    elif \"othdiscr\" in tour_purpose:\n",
    "        for auto_ownership in modechoice_summary[tour_purpose].keys():\n",
    "            cell_column =137\n",
    "            if \"no_auto\" in auto_ownership:\n",
    "                cell_row=\"D\"\n",
    "            elif \"auto_deficient\" in auto_ownership:\n",
    "                cell_row=\"E\"\n",
    "            elif \"auto_sufficient\" in auto_ownership:\n",
    "                cell_row=\"F\"\n",
    "            nested_dict_pairs_populator(modechoice_summary[tour_purpose][auto_ownership],cell_row,cell_column)\n",
    "    elif \"escort\" in tour_purpose:\n",
    "        for auto_ownership in modechoice_summary[tour_purpose].keys():\n",
    "            cell_column =155\n",
    "            if \"no_auto\" in auto_ownership:\n",
    "                cell_row=\"D\"\n",
    "            elif \"auto_deficient\" in auto_ownership:\n",
    "                cell_row=\"E\"\n",
    "            elif \"auto_sufficient\" in auto_ownership:\n",
    "                cell_row=\"F\"\n",
    "            nested_dict_pairs_populator(modechoice_summary[tour_purpose][auto_ownership],cell_row,cell_column)\n",
    "\n",
    "modechoice_summary = dfBayAreaZerothEvents.get_ii_tourpurpose_stats()\n",
    "for tour_purpose in modechoice_summary.keys():\n",
    "    if \"work\" in tour_purpose:\n",
    "        for auto_ownership in modechoice_summary[tour_purpose].keys():\n",
    "            cell_column =11\n",
    "            if \"no_auto\" in auto_ownership:\n",
    "                cell_row=\"L\"\n",
    "            elif \"auto_deficient\" in auto_ownership:\n",
    "                cell_row=\"M\"\n",
    "            elif \"auto_sufficient\" in auto_ownership:\n",
    "                cell_row=\"N\"\n",
    "            nested_dict_pairs_populator(modechoice_summary[tour_purpose][auto_ownership],cell_row,cell_column)\n",
    "    elif \"school\" in tour_purpose:\n",
    "        for auto_ownership in modechoice_summary[tour_purpose].keys():\n",
    "            cell_column =29\n",
    "            if \"no_auto\" in auto_ownership:\n",
    "                cell_row=\"L\"\n",
    "            elif \"auto_deficient\" in auto_ownership:\n",
    "                cell_row=\"M\"\n",
    "            elif \"auto_sufficient\" in auto_ownership:\n",
    "                cell_row=\"N\"\n",
    "            nested_dict_pairs_populator(modechoice_summary[tour_purpose][auto_ownership],cell_row,cell_column)\n",
    "    elif \"univ\" in tour_purpose:\n",
    "        for auto_ownership in modechoice_summary[tour_purpose].keys():\n",
    "            cell_column =47\n",
    "            if \"no_auto\" in auto_ownership:\n",
    "                cell_row=\"L\"\n",
    "            elif \"auto_deficient\" in auto_ownership:\n",
    "                cell_row=\"M\"\n",
    "            elif \"auto_sufficient\" in auto_ownership:\n",
    "                cell_row=\"N\"\n",
    "            nested_dict_pairs_populator(modechoice_summary[tour_purpose][auto_ownership],cell_row,cell_column)\n",
    "    elif \"shopping\" in tour_purpose:\n",
    "        for auto_ownership in modechoice_summary[tour_purpose].keys():\n",
    "            cell_column =65\n",
    "            if \"no_auto\" in auto_ownership:\n",
    "                cell_row=\"L\"\n",
    "            elif \"auto_deficient\" in auto_ownership:\n",
    "                cell_row=\"M\"\n",
    "            elif \"auto_sufficient\" in auto_ownership:\n",
    "                cell_row=\"N\"\n",
    "            nested_dict_pairs_populator(modechoice_summary[tour_purpose][auto_ownership],cell_row,cell_column)\n",
    "    elif \"othmaint\" in tour_purpose:\n",
    "        for auto_ownership in modechoice_summary[tour_purpose].keys():\n",
    "            cell_column =83\n",
    "            if \"no_auto\" in auto_ownership:\n",
    "                cell_row=\"L\"\n",
    "            elif \"auto_deficient\" in auto_ownership:\n",
    "                cell_row=\"M\"\n",
    "            elif \"auto_sufficient\" in auto_ownership:\n",
    "                cell_row=\"N\"\n",
    "            nested_dict_pairs_populator(modechoice_summary[tour_purpose][auto_ownership],cell_row,cell_column)\n",
    "    elif \"eatout\" in tour_purpose:\n",
    "        for auto_ownership in modechoice_summary[tour_purpose].keys():\n",
    "            cell_column =101\n",
    "            if \"no_auto\" in auto_ownership:\n",
    "                cell_row=\"L\"\n",
    "            elif \"auto_deficient\" in auto_ownership:\n",
    "                cell_row=\"M\"\n",
    "            elif \"auto_sufficient\" in auto_ownership:\n",
    "                cell_row=\"N\"\n",
    "            nested_dict_pairs_populator(modechoice_summary[tour_purpose][auto_ownership],cell_row,cell_column)\n",
    "    elif \"social\" in tour_purpose:\n",
    "        for auto_ownership in modechoice_summary[tour_purpose].keys():\n",
    "            cell_column =119\n",
    "            if \"no_auto\" in auto_ownership:\n",
    "                cell_row=\"L\"\n",
    "            elif \"auto_deficient\" in auto_ownership:\n",
    "                cell_row=\"M\"\n",
    "            elif \"auto_sufficient\" in auto_ownership:\n",
    "                cell_row=\"N\"\n",
    "            nested_dict_pairs_populator(modechoice_summary[tour_purpose][auto_ownership],cell_row,cell_column)\n",
    "    elif \"othdiscr\" in tour_purpose:\n",
    "        for auto_ownership in modechoice_summary[tour_purpose].keys():\n",
    "            cell_column =137\n",
    "            if \"no_auto\" in auto_ownership:\n",
    "                cell_row=\"L\"\n",
    "            elif \"auto_deficient\" in auto_ownership:\n",
    "                cell_row=\"M\"\n",
    "            elif \"auto_sufficient\" in auto_ownership:\n",
    "                cell_row=\"N\"\n",
    "            nested_dict_pairs_populator(modechoice_summary[tour_purpose][auto_ownership],cell_row,cell_column)\n",
    "    elif \"escort\" in tour_purpose:\n",
    "        for auto_ownership in modechoice_summary[tour_purpose].keys():\n",
    "            cell_column =155\n",
    "            if \"no_auto\" in auto_ownership:\n",
    "                cell_row=\"L\"\n",
    "            elif \"auto_deficient\" in auto_ownership:\n",
    "                cell_row=\"M\"\n",
    "            elif \"auto_sufficient\" in auto_ownership:\n",
    "                cell_row=\"N\"\n",
    "            nested_dict_pairs_populator(modechoice_summary[tour_purpose][auto_ownership],cell_row,cell_column)"
   ],
   "metadata": {
    "collapsed": false,
    "pycharm": {
     "name": "#%%\n"
    }
   }
  },
  {
   "cell_type": "code",
   "execution_count": 188,
   "outputs": [],
   "source": [
    "# Populate noofTransfers by tourpurpose\n",
    "transfer_wrksheet = workbook[\"noofTransfers_tourpurpose\"]\n",
    "\n",
    "def nested_dict_pairs_populator(dict_obj,row_no,col_no):\n",
    "    # Mode_Choice_wrksheet = sorted(dict_obj.items(),key=lambda kv:kv[1])\n",
    "    transfer_summary = OrderedDict(sorted(dict_obj.items())).copy()\n",
    "    cell_row=row_no\n",
    "    cell_column=col_no\n",
    "    for mode, count in transfer_summary.items():\n",
    "        if \"<0.25mil\" in mode:\n",
    "            transfer_wrksheet[\"{}{}\".format(cell_row,cell_column)].value=int(count)*scale_factor\n",
    "            cell_column+=1\n",
    "        elif \">=0.25mil & <0.5mil\" in mode:\n",
    "            transfer_wrksheet[\"{}{}\".format(cell_row,cell_column)].value=int(count)*scale_factor\n",
    "            cell_column+=1\n",
    "        elif \">=0.5mil & <1mil\" in mode:\n",
    "            transfer_wrksheet[\"{}{}\".format(cell_row,cell_column)].value=int(count)*scale_factor\n",
    "            cell_column+=1\n",
    "        elif \">=1mil\" in mode:\n",
    "            transfer_wrksheet[\"{}{}\".format(cell_row,cell_column)].value=int(count)*scale_factor\n",
    "            cell_column+=1\n",
    "        else:\n",
    "            continue\n",
    "# Last iteration - Event\n",
    "transfer_summary = dfBayAreaBeamEvents.get_ii_transfers()\n",
    "for tour_purpose in transfer_summary.keys():\n",
    "    if \"work\" in tour_purpose:\n",
    "        for transfr in transfer_summary.get(tour_purpose).keys():\n",
    "            cell_column =11\n",
    "            if \"0\" in transfr:\n",
    "                cell_row=\"D\"\n",
    "            elif \"1\" in transfr:\n",
    "                cell_row=\"E\"\n",
    "            elif \"2\" in transfr:\n",
    "                cell_row=\"F\"\n",
    "            elif \"3+\" in transfr:\n",
    "                cell_row=\"G\"\n",
    "            nested_dict_pairs_populator(transfer_summary[tour_purpose][transfr],cell_row,cell_column)\n",
    "    elif \"school\" in tour_purpose:\n",
    "        for transfr in transfer_summary.get(tour_purpose).keys():\n",
    "            cell_column =20\n",
    "            if \"0\" in transfr:\n",
    "                cell_row=\"D\"\n",
    "            elif \"1\" in transfr:\n",
    "                cell_row=\"E\"\n",
    "            elif \"2\" in transfr:\n",
    "                cell_row=\"F\"\n",
    "            elif \"3+\" in transfr:\n",
    "                cell_row=\"G\"\n",
    "            nested_dict_pairs_populator(transfer_summary[tour_purpose][transfr],cell_row,cell_column)\n",
    "    elif \"univ\" in tour_purpose:\n",
    "        for transfr in transfer_summary.get(tour_purpose).keys():\n",
    "            cell_column =29\n",
    "            if \"0\" in transfr:\n",
    "                cell_row=\"D\"\n",
    "            elif \"1\" in transfr:\n",
    "                cell_row=\"E\"\n",
    "            elif \"2\" in transfr:\n",
    "                cell_row=\"F\"\n",
    "            elif \"3+\" in transfr:\n",
    "                cell_row=\"G\"\n",
    "            nested_dict_pairs_populator(transfer_summary[tour_purpose][transfr],cell_row,cell_column)\n",
    "    elif \"shopping\" in tour_purpose:\n",
    "        for transfr in transfer_summary.get(tour_purpose).keys():\n",
    "            cell_column =38\n",
    "            if \"0\" in transfr:\n",
    "                cell_row=\"D\"\n",
    "            elif \"1\" in transfr:\n",
    "                cell_row=\"E\"\n",
    "            elif \"2\" in transfr:\n",
    "                cell_row=\"F\"\n",
    "            elif \"3+\" in transfr:\n",
    "                cell_row=\"G\"\n",
    "            nested_dict_pairs_populator(transfer_summary[tour_purpose][transfr],cell_row,cell_column)\n",
    "    elif \"othmaint\" in tour_purpose:\n",
    "        for transfr in transfer_summary.get(tour_purpose).keys():\n",
    "            cell_column =47\n",
    "            if \"0\" in transfr:\n",
    "                cell_row=\"D\"\n",
    "            elif \"1\" in transfr:\n",
    "                cell_row=\"E\"\n",
    "            elif \"2\" in transfr:\n",
    "                cell_row=\"F\"\n",
    "            elif \"3+\" in transfr:\n",
    "                cell_row=\"G\"\n",
    "            nested_dict_pairs_populator(transfer_summary[tour_purpose][transfr],cell_row,cell_column)\n",
    "    elif \"eatout\" in tour_purpose:\n",
    "        for transfr in transfer_summary.get(tour_purpose).keys():\n",
    "            cell_column =56\n",
    "            if \"0\" in transfr:\n",
    "                cell_row=\"D\"\n",
    "            elif \"1\" in transfr:\n",
    "                cell_row=\"E\"\n",
    "            elif \"2\" in transfr:\n",
    "                cell_row=\"F\"\n",
    "            elif \"3+\" in transfr:\n",
    "                cell_row=\"G\"\n",
    "            nested_dict_pairs_populator(transfer_summary[tour_purpose][transfr],cell_row,cell_column)\n",
    "    elif \"social\" in tour_purpose:\n",
    "        for transfr in transfer_summary.get(tour_purpose).keys():\n",
    "            cell_column =65\n",
    "            if \"0\" in transfr:\n",
    "                cell_row=\"D\"\n",
    "            elif \"1\" in transfr:\n",
    "                cell_row=\"E\"\n",
    "            elif \"2\" in transfr:\n",
    "                cell_row=\"F\"\n",
    "            elif \"3+\" in transfr:\n",
    "                cell_row=\"G\"\n",
    "            nested_dict_pairs_populator(transfer_summary[tour_purpose][transfr],cell_row,cell_column)\n",
    "    elif \"othdiscr\" in tour_purpose:\n",
    "        for transfr in transfer_summary.get(tour_purpose).keys():\n",
    "            cell_column =74\n",
    "            if \"0\" in transfr:\n",
    "                cell_row=\"D\"\n",
    "            elif \"1\" in transfr:\n",
    "                cell_row=\"E\"\n",
    "            elif \"2\" in transfr:\n",
    "                cell_row=\"F\"\n",
    "            elif \"3+\" in transfr:\n",
    "                cell_row=\"G\"\n",
    "            nested_dict_pairs_populator(transfer_summary[tour_purpose][transfr],cell_row,cell_column)\n",
    "    elif \"escort\" in tour_purpose:\n",
    "        for transfr in transfer_summary.get(tour_purpose).keys():\n",
    "            cell_column =83\n",
    "            if \"0\" in transfr:\n",
    "                cell_row=\"D\"\n",
    "            elif \"1\" in transfr:\n",
    "                cell_row=\"E\"\n",
    "            elif \"2\" in transfr:\n",
    "                cell_row=\"F\"\n",
    "            elif \"3+\" in transfr:\n",
    "                cell_row=\"G\"\n",
    "            nested_dict_pairs_populator(transfer_summary[tour_purpose][transfr],cell_row,cell_column)\n",
    "\n",
    "# First iteration - Event\n",
    "transfer_summary = dfBayAreaZerothEvents.get_ii_transfers()\n",
    "for tour_purpose in transfer_summary.keys():\n",
    "    if \"work\" in tour_purpose:\n",
    "        for transfr in transfer_summary.get(tour_purpose).keys():\n",
    "            cell_column =11\n",
    "            if \"0\" in transfr:\n",
    "                cell_row=\"N\"\n",
    "            elif \"1\" in transfr:\n",
    "                cell_row=\"O\"\n",
    "            elif \"2\" in transfr:\n",
    "                cell_row=\"P\"\n",
    "            elif \"3+\" in transfr:\n",
    "                cell_row=\"Q\"\n",
    "            nested_dict_pairs_populator(transfer_summary[tour_purpose][transfr],cell_row,cell_column)\n",
    "    elif \"school\" in tour_purpose:\n",
    "        for transfr in transfer_summary.get(tour_purpose).keys():\n",
    "            cell_column =20\n",
    "            if \"0\" in transfr:\n",
    "                cell_row=\"N\"\n",
    "            elif \"1\" in transfr:\n",
    "                cell_row=\"O\"\n",
    "            elif \"2\" in transfr:\n",
    "                cell_row=\"P\"\n",
    "            elif \"3+\" in transfr:\n",
    "                cell_row=\"Q\"\n",
    "            nested_dict_pairs_populator(transfer_summary[tour_purpose][transfr],cell_row,cell_column)\n",
    "    elif \"univ\" in tour_purpose:\n",
    "        for transfr in transfer_summary.get(tour_purpose).keys():\n",
    "            cell_column =29\n",
    "            if \"0\" in transfr:\n",
    "                cell_row=\"N\"\n",
    "            elif \"1\" in transfr:\n",
    "                cell_row=\"O\"\n",
    "            elif \"2\" in transfr:\n",
    "                cell_row=\"P\"\n",
    "            elif \"3+\" in transfr:\n",
    "                cell_row=\"Q\"\n",
    "            nested_dict_pairs_populator(transfer_summary[tour_purpose][transfr],cell_row,cell_column)\n",
    "    elif \"shopping\" in tour_purpose:\n",
    "        for transfr in transfer_summary.get(tour_purpose).keys():\n",
    "            cell_column =38\n",
    "            if \"0\" in transfr:\n",
    "                cell_row=\"N\"\n",
    "            elif \"1\" in transfr:\n",
    "                cell_row=\"O\"\n",
    "            elif \"2\" in transfr:\n",
    "                cell_row=\"P\"\n",
    "            elif \"3+\" in transfr:\n",
    "                cell_row=\"Q\"\n",
    "            nested_dict_pairs_populator(transfer_summary[tour_purpose][transfr],cell_row,cell_column)\n",
    "    elif \"othmaint\" in tour_purpose:\n",
    "        for transfr in transfer_summary.get(tour_purpose).keys():\n",
    "            cell_column =47\n",
    "            if \"0\" in transfr:\n",
    "                cell_row=\"N\"\n",
    "            elif \"1\" in transfr:\n",
    "                cell_row=\"O\"\n",
    "            elif \"2\" in transfr:\n",
    "                cell_row=\"P\"\n",
    "            elif \"3+\" in transfr:\n",
    "                cell_row=\"Q\"\n",
    "            nested_dict_pairs_populator(transfer_summary[tour_purpose][transfr],cell_row,cell_column)\n",
    "    elif \"eatout\" in tour_purpose:\n",
    "        for transfr in transfer_summary.get(tour_purpose).keys():\n",
    "            cell_column =56\n",
    "            if \"0\" in transfr:\n",
    "                cell_row=\"N\"\n",
    "            elif \"1\" in transfr:\n",
    "                cell_row=\"O\"\n",
    "            elif \"2\" in transfr:\n",
    "                cell_row=\"P\"\n",
    "            elif \"3+\" in transfr:\n",
    "                cell_row=\"Q\"\n",
    "            nested_dict_pairs_populator(transfer_summary[tour_purpose][transfr],cell_row,cell_column)\n",
    "    elif \"social\" in tour_purpose:\n",
    "        for transfr in transfer_summary.get(tour_purpose).keys():\n",
    "            cell_column =65\n",
    "            if \"0\" in transfr:\n",
    "                cell_row=\"N\"\n",
    "            elif \"1\" in transfr:\n",
    "                cell_row=\"O\"\n",
    "            elif \"2\" in transfr:\n",
    "                cell_row=\"P\"\n",
    "            elif \"3+\" in transfr:\n",
    "                cell_row=\"Q\"\n",
    "            nested_dict_pairs_populator(transfer_summary[tour_purpose][transfr],cell_row,cell_column)\n",
    "    elif \"othdiscr\" in tour_purpose:\n",
    "        for transfr in transfer_summary.get(tour_purpose).keys():\n",
    "            cell_column =74\n",
    "            if \"0\" in transfr:\n",
    "                cell_row=\"N\"\n",
    "            elif \"1\" in transfr:\n",
    "                cell_row=\"O\"\n",
    "            elif \"2\" in transfr:\n",
    "                cell_row=\"P\"\n",
    "            elif \"3+\" in transfr:\n",
    "                cell_row=\"Q\"\n",
    "            nested_dict_pairs_populator(transfer_summary[tour_purpose][transfr],cell_row,cell_column)\n",
    "    elif \"escort\" in tour_purpose:\n",
    "        for transfr in transfer_summary.get(tour_purpose).keys():\n",
    "            cell_column =83\n",
    "            if \"0\" in transfr:\n",
    "                cell_row=\"N\"\n",
    "            elif \"1\" in transfr:\n",
    "                cell_row=\"O\"\n",
    "            elif \"2\" in transfr:\n",
    "                cell_row=\"P\"\n",
    "            elif \"3+\" in transfr:\n",
    "                cell_row=\"Q\"\n",
    "            nested_dict_pairs_populator(transfer_summary[tour_purpose][transfr],cell_row,cell_column)"
   ],
   "metadata": {
    "collapsed": false,
    "pycharm": {
     "name": "#%%\n"
    }
   }
  },
  {
   "cell_type": "code",
   "execution_count": 189,
   "outputs": [],
   "source": [
    "# Populate noofTransfers summary\n",
    "transfer_dict = dfBayAreaBeamEvents.get_ii_transfers_firstmile_summary()\n",
    "transfer_wrksheet = workbook[\"noTransfer_Summary\"]\n",
    "for distance_cat,values in transfer_dict.iteritems():\n",
    "    if isinstance(values,dict):\n",
    "        if distance_cat==\"<0.25mil\":\n",
    "            cell_row=11\n",
    "            cell_col=4\n",
    "        elif distance_cat==\">=0.25mil & <0.5mil\":\n",
    "            cell_row=12\n",
    "            cell_col=4\n",
    "        elif distance_cat==\">=0.5mil & <1mil\":\n",
    "            cell_row=13\n",
    "            cell_col=4\n",
    "        elif distance_cat==\">=1mil\":\n",
    "            cell_row=14\n",
    "            cell_col=4\n",
    "        for k,v in transfer_dict.get(distance_cat).items():\n",
    "            transfer_wrksheet.cell(row=(cell_row),column=(cell_col)).value=(v)*scale_factor\n",
    "            cell_col+=1\n",
    "\n",
    "transfer_dict = dfBayAreaZerothEvents.get_ii_transfers_firstmile_summary()\n",
    "for distance_cat,values in transfer_dict.iteritems():\n",
    "    if isinstance(values,dict):\n",
    "        if distance_cat==\"<0.25mil\":\n",
    "            cell_row=11\n",
    "            cell_col=14\n",
    "        elif distance_cat==\">=0.25mil & <0.5mil\":\n",
    "            cell_row=12\n",
    "            cell_col=14\n",
    "        elif distance_cat==\">=0.5mil & <1mil\":\n",
    "            cell_row=13\n",
    "            cell_col=14\n",
    "        elif distance_cat==\">=1mil\":\n",
    "            cell_row=14\n",
    "            cell_col=14\n",
    "        for k,v in transfer_dict.get(distance_cat).items():\n",
    "            transfer_wrksheet.cell(row=(cell_row),column=(cell_col)).value=(v)*scale_factor\n",
    "            cell_col+=1"
   ],
   "metadata": {
    "collapsed": false,
    "pycharm": {
     "name": "#%%\n"
    }
   }
  },
  {
   "cell_type": "code",
   "execution_count": 190,
   "outputs": [],
   "source": [
    "# save the data\n",
    "workbook.save(BASE_DIR.parent.joinpath(\"exported\", \"summary_report_v10.0_trial.xlsx\"))"
   ],
   "metadata": {
    "collapsed": false,
    "pycharm": {
     "name": "#%%\n"
    }
   }
  },
  {
   "cell_type": "code",
   "execution_count": 17,
   "outputs": [],
   "source": [
    "# save the data\n",
    "# workbook.save(BASE_DIR.parent.joinpath(\"exported\", \"summary_report_v10.0_trial.xlsx\"))"
   ],
   "metadata": {
    "collapsed": false,
    "pycharm": {
     "name": "#%%\n"
    }
   }
  },
  {
   "cell_type": "code",
   "execution_count": null,
   "outputs": [],
   "source": [
    "# def nested_dict_pairs_populator(dict_obj,row_no,col_no):\n",
    "#     # Mode_Choice_wrksheet = sorted(dict_obj.items(),key=lambda kv:kv[1])\n",
    "#     transfer_summary = OrderedDict(sorted(dict_obj.items())).copy()\n",
    "#     cell_row=row_no\n",
    "#     cell_column=col_no\n",
    "#     for mode, count in transfer_summary.items():\n",
    "#         if \"<0.25mil\" in mode:\n",
    "#             transfer_wrksheet[\"{}{}\".format(cell_row,cell_column)]=count*scale_factor\n",
    "#         elif \">=0.25mil & <0.5mil\" in mode:\n",
    "#             cell_column+=1\n",
    "#             transfer_wrksheet[\"{}{}\".format(cell_row,cell_column)]=count*scale_factor\n",
    "#         elif \">=0.5mil & <1mil\" in mode:\n",
    "#             cell_column+=1\n",
    "#             transfer_wrksheet[\"{}{}\".format(cell_row,cell_column)]=count*scale_factor\n",
    "#         elif \">=1mil\" in mode:\n",
    "#             cell_column+=1\n",
    "#             transfer_wrksheet[\"{}{}\".format(cell_row,cell_column)]=count*scale_factor\n",
    "#         else:\n",
    "#             continue\n",
    "# Populate noofTransfers by tourpurpose\n",
    "# transfer_wrksheet = workbook[\"noTransfer_Summary\"]\n",
    "# #Last iteration - Event\n",
    "# transfer_summary = dfBayAreaBeamEvents.get_ii_transfers_firstmile_summary()\n",
    "# cell_column=11\n",
    "# cell_row=\"D\"\n",
    "# nested_dict_pairs_populator(transfer_summary,cell_row,cell_column)"
   ],
   "metadata": {
    "collapsed": false,
    "pycharm": {
     "name": "#%%\n"
    }
   }
  },
  {
   "cell_type": "code",
   "execution_count": 129,
   "outputs": [],
   "source": [],
   "metadata": {
    "collapsed": false,
    "pycharm": {
     "name": "#%%\n"
    }
   }
  },
  {
   "cell_type": "code",
   "execution_count": 205,
   "outputs": [
    {
     "data": {
      "text/plain": "           person vehicle     time        type  link  facility actType driver  \\\n37666    111327-1     NaN  12420.0  ModeChoice   NaN       NaN     NaN    NaN   \n39788    371102-1     NaN  15720.0  ModeChoice   NaN       NaN     NaN    NaN   \n40151    203118-2     NaN  16140.0  ModeChoice   NaN       NaN     NaN    NaN   \n40689      9486-2     NaN  16680.0  ModeChoice   NaN       NaN     NaN    NaN   \n41282    153922-1     NaN  17220.0  ModeChoice   NaN       NaN     NaN    NaN   \n...           ...     ...      ...         ...   ...       ...     ...    ...   \n864486   284190-1     NaN  85544.0  ModeChoice   NaN       NaN     NaN    NaN   \n864846  2749151-1     NaN  85620.0  ModeChoice   NaN       NaN     NaN    NaN   \n866456    43434-1     NaN  85980.0  ModeChoice   NaN       NaN     NaN    NaN   \n866716   259013-2     NaN  86040.0  ModeChoice   NaN       NaN     NaN    NaN   \n867729     4194-6     NaN  86280.0  ModeChoice   NaN       NaN     NaN    NaN   \n\n       parkingType chargingPointType  ... departureTime  fromStopIndex  \\\n37666          NaN               NaN  ...           NaN            NaN   \n39788          NaN               NaN  ...           NaN            NaN   \n40151          NaN               NaN  ...           NaN            NaN   \n40689          NaN               NaN  ...           NaN            NaN   \n41282          NaN               NaN  ...           NaN            NaN   \n...            ...               ...  ...           ...            ...   \n864486         NaN               NaN  ...           NaN            NaN   \n864846         NaN               NaN  ...           NaN            NaN   \n866456         NaN               NaN  ...           NaN            NaN   \n866716         NaN               NaN  ...           NaN            NaN   \n867729         NaN               NaN  ...           NaN            NaN   \n\n        secondaryFuel primaryFuelType secondaryFuelType  numPassengers links  \\\n37666             NaN             NaN               NaN            NaN   NaN   \n39788             NaN             NaN               NaN            NaN   NaN   \n40151             NaN             NaN               NaN            NaN   NaN   \n40689             NaN             NaN               NaN            NaN   NaN   \n41282             NaN             NaN               NaN            NaN   NaN   \n...               ...             ...               ...            ...   ...   \n864486            NaN             NaN               NaN            NaN   NaN   \n864846            NaN             NaN               NaN            NaN   NaN   \n866456            NaN             NaN               NaN            NaN   NaN   \n866716            NaN             NaN               NaN            NaN   NaN   \n867729            NaN             NaN               NaN            NaN   NaN   \n\n        primaryFuel  riders  Travel_Time  \n37666           NaN     NaN          NaN  \n39788           NaN     NaN          NaN  \n40151           NaN     NaN          NaN  \n40689           NaN     NaN          NaN  \n41282           NaN     NaN          NaN  \n...             ...     ...          ...  \n864486          NaN     NaN          NaN  \n864846          NaN     NaN          NaN  \n866456          NaN     NaN          NaN  \n866716          NaN     NaN          NaN  \n867729          NaN     NaN          NaN  \n\n[2076 rows x 61 columns]",
      "text/html": "<div>\n<style scoped>\n    .dataframe tbody tr th:only-of-type {\n        vertical-align: middle;\n    }\n\n    .dataframe tbody tr th {\n        vertical-align: top;\n    }\n\n    .dataframe thead th {\n        text-align: right;\n    }\n</style>\n<table border=\"1\" class=\"dataframe\">\n  <thead>\n    <tr style=\"text-align: right;\">\n      <th></th>\n      <th>person</th>\n      <th>vehicle</th>\n      <th>time</th>\n      <th>type</th>\n      <th>link</th>\n      <th>facility</th>\n      <th>actType</th>\n      <th>driver</th>\n      <th>parkingType</th>\n      <th>chargingPointType</th>\n      <th>...</th>\n      <th>departureTime</th>\n      <th>fromStopIndex</th>\n      <th>secondaryFuel</th>\n      <th>primaryFuelType</th>\n      <th>secondaryFuelType</th>\n      <th>numPassengers</th>\n      <th>links</th>\n      <th>primaryFuel</th>\n      <th>riders</th>\n      <th>Travel_Time</th>\n    </tr>\n  </thead>\n  <tbody>\n    <tr>\n      <th>37666</th>\n      <td>111327-1</td>\n      <td>NaN</td>\n      <td>12420.0</td>\n      <td>ModeChoice</td>\n      <td>NaN</td>\n      <td>NaN</td>\n      <td>NaN</td>\n      <td>NaN</td>\n      <td>NaN</td>\n      <td>NaN</td>\n      <td>...</td>\n      <td>NaN</td>\n      <td>NaN</td>\n      <td>NaN</td>\n      <td>NaN</td>\n      <td>NaN</td>\n      <td>NaN</td>\n      <td>NaN</td>\n      <td>NaN</td>\n      <td>NaN</td>\n      <td>NaN</td>\n    </tr>\n    <tr>\n      <th>39788</th>\n      <td>371102-1</td>\n      <td>NaN</td>\n      <td>15720.0</td>\n      <td>ModeChoice</td>\n      <td>NaN</td>\n      <td>NaN</td>\n      <td>NaN</td>\n      <td>NaN</td>\n      <td>NaN</td>\n      <td>NaN</td>\n      <td>...</td>\n      <td>NaN</td>\n      <td>NaN</td>\n      <td>NaN</td>\n      <td>NaN</td>\n      <td>NaN</td>\n      <td>NaN</td>\n      <td>NaN</td>\n      <td>NaN</td>\n      <td>NaN</td>\n      <td>NaN</td>\n    </tr>\n    <tr>\n      <th>40151</th>\n      <td>203118-2</td>\n      <td>NaN</td>\n      <td>16140.0</td>\n      <td>ModeChoice</td>\n      <td>NaN</td>\n      <td>NaN</td>\n      <td>NaN</td>\n      <td>NaN</td>\n      <td>NaN</td>\n      <td>NaN</td>\n      <td>...</td>\n      <td>NaN</td>\n      <td>NaN</td>\n      <td>NaN</td>\n      <td>NaN</td>\n      <td>NaN</td>\n      <td>NaN</td>\n      <td>NaN</td>\n      <td>NaN</td>\n      <td>NaN</td>\n      <td>NaN</td>\n    </tr>\n    <tr>\n      <th>40689</th>\n      <td>9486-2</td>\n      <td>NaN</td>\n      <td>16680.0</td>\n      <td>ModeChoice</td>\n      <td>NaN</td>\n      <td>NaN</td>\n      <td>NaN</td>\n      <td>NaN</td>\n      <td>NaN</td>\n      <td>NaN</td>\n      <td>...</td>\n      <td>NaN</td>\n      <td>NaN</td>\n      <td>NaN</td>\n      <td>NaN</td>\n      <td>NaN</td>\n      <td>NaN</td>\n      <td>NaN</td>\n      <td>NaN</td>\n      <td>NaN</td>\n      <td>NaN</td>\n    </tr>\n    <tr>\n      <th>41282</th>\n      <td>153922-1</td>\n      <td>NaN</td>\n      <td>17220.0</td>\n      <td>ModeChoice</td>\n      <td>NaN</td>\n      <td>NaN</td>\n      <td>NaN</td>\n      <td>NaN</td>\n      <td>NaN</td>\n      <td>NaN</td>\n      <td>...</td>\n      <td>NaN</td>\n      <td>NaN</td>\n      <td>NaN</td>\n      <td>NaN</td>\n      <td>NaN</td>\n      <td>NaN</td>\n      <td>NaN</td>\n      <td>NaN</td>\n      <td>NaN</td>\n      <td>NaN</td>\n    </tr>\n    <tr>\n      <th>...</th>\n      <td>...</td>\n      <td>...</td>\n      <td>...</td>\n      <td>...</td>\n      <td>...</td>\n      <td>...</td>\n      <td>...</td>\n      <td>...</td>\n      <td>...</td>\n      <td>...</td>\n      <td>...</td>\n      <td>...</td>\n      <td>...</td>\n      <td>...</td>\n      <td>...</td>\n      <td>...</td>\n      <td>...</td>\n      <td>...</td>\n      <td>...</td>\n      <td>...</td>\n      <td>...</td>\n    </tr>\n    <tr>\n      <th>864486</th>\n      <td>284190-1</td>\n      <td>NaN</td>\n      <td>85544.0</td>\n      <td>ModeChoice</td>\n      <td>NaN</td>\n      <td>NaN</td>\n      <td>NaN</td>\n      <td>NaN</td>\n      <td>NaN</td>\n      <td>NaN</td>\n      <td>...</td>\n      <td>NaN</td>\n      <td>NaN</td>\n      <td>NaN</td>\n      <td>NaN</td>\n      <td>NaN</td>\n      <td>NaN</td>\n      <td>NaN</td>\n      <td>NaN</td>\n      <td>NaN</td>\n      <td>NaN</td>\n    </tr>\n    <tr>\n      <th>864846</th>\n      <td>2749151-1</td>\n      <td>NaN</td>\n      <td>85620.0</td>\n      <td>ModeChoice</td>\n      <td>NaN</td>\n      <td>NaN</td>\n      <td>NaN</td>\n      <td>NaN</td>\n      <td>NaN</td>\n      <td>NaN</td>\n      <td>...</td>\n      <td>NaN</td>\n      <td>NaN</td>\n      <td>NaN</td>\n      <td>NaN</td>\n      <td>NaN</td>\n      <td>NaN</td>\n      <td>NaN</td>\n      <td>NaN</td>\n      <td>NaN</td>\n      <td>NaN</td>\n    </tr>\n    <tr>\n      <th>866456</th>\n      <td>43434-1</td>\n      <td>NaN</td>\n      <td>85980.0</td>\n      <td>ModeChoice</td>\n      <td>NaN</td>\n      <td>NaN</td>\n      <td>NaN</td>\n      <td>NaN</td>\n      <td>NaN</td>\n      <td>NaN</td>\n      <td>...</td>\n      <td>NaN</td>\n      <td>NaN</td>\n      <td>NaN</td>\n      <td>NaN</td>\n      <td>NaN</td>\n      <td>NaN</td>\n      <td>NaN</td>\n      <td>NaN</td>\n      <td>NaN</td>\n      <td>NaN</td>\n    </tr>\n    <tr>\n      <th>866716</th>\n      <td>259013-2</td>\n      <td>NaN</td>\n      <td>86040.0</td>\n      <td>ModeChoice</td>\n      <td>NaN</td>\n      <td>NaN</td>\n      <td>NaN</td>\n      <td>NaN</td>\n      <td>NaN</td>\n      <td>NaN</td>\n      <td>...</td>\n      <td>NaN</td>\n      <td>NaN</td>\n      <td>NaN</td>\n      <td>NaN</td>\n      <td>NaN</td>\n      <td>NaN</td>\n      <td>NaN</td>\n      <td>NaN</td>\n      <td>NaN</td>\n      <td>NaN</td>\n    </tr>\n    <tr>\n      <th>867729</th>\n      <td>4194-6</td>\n      <td>NaN</td>\n      <td>86280.0</td>\n      <td>ModeChoice</td>\n      <td>NaN</td>\n      <td>NaN</td>\n      <td>NaN</td>\n      <td>NaN</td>\n      <td>NaN</td>\n      <td>NaN</td>\n      <td>...</td>\n      <td>NaN</td>\n      <td>NaN</td>\n      <td>NaN</td>\n      <td>NaN</td>\n      <td>NaN</td>\n      <td>NaN</td>\n      <td>NaN</td>\n      <td>NaN</td>\n      <td>NaN</td>\n      <td>NaN</td>\n    </tr>\n  </tbody>\n</table>\n<p>2076 rows × 61 columns</p>\n</div>"
     },
     "execution_count": 205,
     "metadata": {},
     "output_type": "execute_result"
    }
   ],
   "source": [
    "df = dfBayAreaBeamEvents.dfEvents\n",
    "df = df[~df[\"person\"].str.contains(\"ix\",na=False) & ~df[\"person\"].str.contains(\"rideHailAgent\",na=False) & ~df[\"person\"].str.contains(\"TransitDriverAgent\",na=False) & (~df[\"person\"].isna())].copy()\n",
    "df.loc[(df[\"type\"]==\"ModeChoice\") & (df[\"mode\"]==\"walk_transit\"),:]\n",
    "# df = df.loc[(df[\"type\"]==\"ModeChoice\") & (df[\"mode\"]==\"walk_transit\"),:]\n",
    "# df[\"walkTransitDistances\"]= df[\"tracingData\"].str.rsplit(\":\",3)\n",
    "# df[\"trip_cost_utility\"]= df[\"tracingData\"].str.rsplit(\":\",2)[1]\n",
    "# df[\"numberofTransfers\"]= df[\"tracingData\"].str[-22:].str.split(\")\",expand=True)[0]\n",
    "\n",
    "# df[\"walkTransitDistances\"]= df[\"tracingData\"].str.rsplit(\":\",expand=True)[3]\n",
    "# df[\"trip_cost_utility\"]= df[\"tracingData\"].str.rsplit(\":\",expand=True)[1]\n",
    "# df[\"numberofTransfers\"]= df[\"tracingData\"].str.rsplit(\":\",expand=True)[0]\n",
    "\n",
    "# df[\"walkTransitDistances\"]= df[\"tracingData\"].str.split(\":\",expand=True)[0].str.split(\",\",expand=True)[1].str.split(\")\",expand=True)[0]\n",
    "# df[\"trip_cost_utility\"]= df[\"tracingData\"].str.split(\":\",expand=True)[1].str.split(\",\",expand=True)[1].str.split(\")\",expand=True)[0]\n",
    "# df[\"numberofTransfers\"]= df[\"tracingData\"].str.split(\":\",expand=True)[2].str.split(\",\",expand=True)[1].str.split(\")\",expand=True)[0]\n",
    "#\n",
    "# df[\"walkTransitDistances\"] = pd.to_numeric(df[\"walkTransitDistances\"], errors='coerce').replace(np.nan,0,regex=True)\n",
    "# df[\"trip_cost_utility\"] = pd.to_numeric(df[\"trip_cost_utility\"], errors='coerce').replace(np.nan,0,regex=True)\n",
    "# df[\"numberofTransfers\"] = pd.to_numeric(df[\"numberofTransfers\"], errors='coerce').replace(np.nan,0,regex=True).round(0).astype(int)\n",
    "\n",
    "# dData = df.loc[(df[\"type\"]==\"ModeChoice\") & (df[\"mode\"]==\"walk_transit\"),:][[\"tracingData\",\"walkTransitDistances\",\"trip_cost_utility\",\"numberofTransfers\"]]\n",
    "# df.loc[(df[\"type\"]==\"ModeChoice\") & (df[\"mode\"]==\"walk_transit\"),:][[\"tracingData\",\"walkTransitDistances\",\"trip_cost_utility\",\"numberofTransfers\"]]\n",
    "\n",
    "# df[\"numberofTransfers\"]=df[\"tracingData\"].str[-22:].str.split(\")\",expand=True)[0]\n",
    "# df[\"travel_cost\"]= df[\"tracingData\"].str[-34:-25]"
   ],
   "metadata": {
    "collapsed": false,
    "pycharm": {
     "name": "#%%\n"
    }
   }
  },
  {
   "cell_type": "code",
   "execution_count": 188,
   "outputs": [
    {
     "data": {
      "text/plain": "                                              tracingData walkTransitDistance  \\\n37666   (walkTransitDistances,1534.533:513.774:0.0):(c...            1534.533   \n39788   (walkTransitDistances,837.588:75.841):(cost,2....             837.588   \n40151   (walkTransitDistances,977.444:254.281):(cost,2...             977.444   \n40689   (walkTransitDistances,302.271:282.058):(cost,2...             302.271   \n41282   (walkTransitDistances,283.006:31.274:280.166):...             283.006   \n...                                                   ...                 ...   \n864486  (walkTransitDistances,120.476:294.186):(cost,2...             120.476   \n864846  (walkTransitDistances,149.215:0.0):(cost,2.75)...             149.215   \n866456  (walkTransitDistances,126.91:199.603):(cost,2....              126.91   \n866716  (walkTransitDistances,376.635:71.104:794.922):...             376.635   \n867729  (walkTransitDistances,403.032:65.444:94.098):(...             403.032   \n\n       travelCosts noofTransfers  \n37666         2.75           1.0  \n39788         2.75           0.0  \n40151         2.75           0.0  \n40689         2.75           0.0  \n41282         2.75           1.0  \n...            ...           ...  \n864486        2.75           0.0  \n864846        2.75           0.0  \n866456        2.75           0.0  \n866716        2.75           1.0  \n867729         2.0           1.0  \n\n[2076 rows x 4 columns]",
      "text/html": "<div>\n<style scoped>\n    .dataframe tbody tr th:only-of-type {\n        vertical-align: middle;\n    }\n\n    .dataframe tbody tr th {\n        vertical-align: top;\n    }\n\n    .dataframe thead th {\n        text-align: right;\n    }\n</style>\n<table border=\"1\" class=\"dataframe\">\n  <thead>\n    <tr style=\"text-align: right;\">\n      <th></th>\n      <th>tracingData</th>\n      <th>walkTransitDistance</th>\n      <th>travelCosts</th>\n      <th>noofTransfers</th>\n    </tr>\n  </thead>\n  <tbody>\n    <tr>\n      <th>37666</th>\n      <td>(walkTransitDistances,1534.533:513.774:0.0):(c...</td>\n      <td>1534.533</td>\n      <td>2.75</td>\n      <td>1.0</td>\n    </tr>\n    <tr>\n      <th>39788</th>\n      <td>(walkTransitDistances,837.588:75.841):(cost,2....</td>\n      <td>837.588</td>\n      <td>2.75</td>\n      <td>0.0</td>\n    </tr>\n    <tr>\n      <th>40151</th>\n      <td>(walkTransitDistances,977.444:254.281):(cost,2...</td>\n      <td>977.444</td>\n      <td>2.75</td>\n      <td>0.0</td>\n    </tr>\n    <tr>\n      <th>40689</th>\n      <td>(walkTransitDistances,302.271:282.058):(cost,2...</td>\n      <td>302.271</td>\n      <td>2.75</td>\n      <td>0.0</td>\n    </tr>\n    <tr>\n      <th>41282</th>\n      <td>(walkTransitDistances,283.006:31.274:280.166):...</td>\n      <td>283.006</td>\n      <td>2.75</td>\n      <td>1.0</td>\n    </tr>\n    <tr>\n      <th>...</th>\n      <td>...</td>\n      <td>...</td>\n      <td>...</td>\n      <td>...</td>\n    </tr>\n    <tr>\n      <th>864486</th>\n      <td>(walkTransitDistances,120.476:294.186):(cost,2...</td>\n      <td>120.476</td>\n      <td>2.75</td>\n      <td>0.0</td>\n    </tr>\n    <tr>\n      <th>864846</th>\n      <td>(walkTransitDistances,149.215:0.0):(cost,2.75)...</td>\n      <td>149.215</td>\n      <td>2.75</td>\n      <td>0.0</td>\n    </tr>\n    <tr>\n      <th>866456</th>\n      <td>(walkTransitDistances,126.91:199.603):(cost,2....</td>\n      <td>126.91</td>\n      <td>2.75</td>\n      <td>0.0</td>\n    </tr>\n    <tr>\n      <th>866716</th>\n      <td>(walkTransitDistances,376.635:71.104:794.922):...</td>\n      <td>376.635</td>\n      <td>2.75</td>\n      <td>1.0</td>\n    </tr>\n    <tr>\n      <th>867729</th>\n      <td>(walkTransitDistances,403.032:65.444:94.098):(...</td>\n      <td>403.032</td>\n      <td>2.0</td>\n      <td>1.0</td>\n    </tr>\n  </tbody>\n</table>\n<p>2076 rows × 4 columns</p>\n</div>"
     },
     "execution_count": 188,
     "metadata": {},
     "output_type": "execute_result"
    }
   ],
   "source": [
    "df[\"noofTransfers\"]=df.loc[(df[\"type\"]==\"ModeChoice\") & (df[\"mode\"]==\"walk_transit\"),:][\"tracingData\"].str[-22:].str.split(\")\",expand=True)[0].str.split(\",\",expand=True)[1]\n",
    "df[\"travelCosts\"]=df.loc[(df[\"type\"]==\"ModeChoice\") & (df[\"mode\"]==\"walk_transit\"),:][\"tracingData\"].str[-34:-25].str.split(\",\",expand=True)[1]\n",
    "df[\"walkTransitDistance\"] = df.loc[(df[\"type\"]==\"ModeChoice\") & (df[\"mode\"]==\"walk_transit\"),:][\"tracingData\"].str[1:-37].str.split(\",\",expand=True)[1].str.split(\":\",expand=True)[0]\n",
    "df.loc[(df[\"type\"]==\"ModeChoice\") & (df[\"mode\"]==\"walk_transit\"),:][[\"tracingData\",\"walkTransitDistance\",\"travelCosts\",\"noofTransfers\"]]"
   ],
   "metadata": {
    "collapsed": false,
    "pycharm": {
     "name": "#%%\n"
    }
   }
  },
  {
   "cell_type": "code",
   "execution_count": 7,
   "outputs": [],
   "source": [
    "dfLast = dfBayAreaBeamEvents.dfEvents\n",
    "dfFirst = dfBayAreaZerothEvents.dfEvents"
   ],
   "metadata": {
    "collapsed": false,
    "pycharm": {
     "name": "#%%\n"
    }
   }
  },
  {
   "cell_type": "code",
   "execution_count": 31,
   "outputs": [
    {
     "data": {
      "text/plain": "666400"
     },
     "execution_count": 31,
     "metadata": {},
     "output_type": "execute_result"
    }
   ],
   "source": [
    "dfLast.loc[(~dfLast[\"person\"].str.contains(\"ix\",na=False)) & (~dfLast[\"person\"].str.contains(\"rideHailAgent\",na=False))\n",
    "           & (~dfLast[\"person\"].str.contains(\"TransitDriverAgent\",na=False)) & (~dfLast[\"person\"].isna())\n",
    "           & (dfLast[\"type\"]==\"TripArrivalEvent\"),\"mode\"].value_counts().sum()*20"
   ],
   "metadata": {
    "collapsed": false,
    "pycharm": {
     "name": "#%%\n"
    }
   }
  },
  {
   "cell_type": "code",
   "execution_count": 32,
   "outputs": [
    {
     "data": {
      "text/plain": "665800"
     },
     "execution_count": 32,
     "metadata": {},
     "output_type": "execute_result"
    }
   ],
   "source": [
    "dfFirst.loc[(~dfFirst[\"person\"].str.contains(\"ix\",na=False)) & (~dfFirst[\"person\"].str.contains(\"rideHailAgent\",na=False))\n",
    "            & (~dfFirst[\"person\"].str.contains(\"TransitDriverAgent\",na=False)) & (~dfFirst[\"person\"].isna())\n",
    "            & (dfFirst[\"type\"]==\"TripArrivalEvent\"),\"mode\"].value_counts().sum()*20"
   ],
   "metadata": {
    "collapsed": false,
    "pycharm": {
     "name": "#%%\n"
    }
   }
  },
  {
   "cell_type": "code",
   "execution_count": 35,
   "outputs": [],
   "source": [
    "df2 = dfLast.loc[(~dfLast[\"person\"].str.contains(\"ix\",na=False)) & (~dfLast[\"person\"].str.contains(\"rideHailAgent\",na=False))\n",
    "           & (~dfLast[\"person\"].str.contains(\"TransitDriverAgent\",na=False)) & (~dfLast[\"person\"].isna())\n",
    "           & (dfLast[\"type\"]==\"TripArrivalEvent\"),]\n",
    "\n",
    "df1 = dfFirst.loc[(~dfFirst[\"person\"].str.contains(\"ix\",na=False)) & (~dfFirst[\"person\"].str.contains(\"rideHailAgent\",na=False))\n",
    "            & (~dfFirst[\"person\"].str.contains(\"TransitDriverAgent\",na=False)) & (~dfFirst[\"person\"].isna())\n",
    "            & (dfFirst[\"type\"]==\"TripArrivalEvent\"),]\n",
    "\n",
    "df3 = pd.concat([df1,df2]).drop_duplicates(keep=False)\n",
    "\n",
    "df4 = pd.concat([df2,df1]).drop_duplicates(keep=False)"
   ],
   "metadata": {
    "collapsed": false,
    "pycharm": {
     "name": "#%%\n"
    }
   }
  },
  {
   "cell_type": "code",
   "execution_count": 46,
   "outputs": [],
   "source": [
    "df2.to_csv(BASE_DIR.parent.joinpath(\"exported\", \"Last_iteration.10_trial.csv\"))\n",
    "df1.to_csv(BASE_DIR.parent.joinpath(\"exported\", \"First_iteration.10_trial.csv\"))"
   ],
   "metadata": {
    "collapsed": false,
    "pycharm": {
     "name": "#%%\n"
    }
   }
  },
  {
   "cell_type": "code",
   "execution_count": null,
   "outputs": [],
   "source": [
    "# tour_purpose_dict = dfTour.groupby([\"tourPurpose\", \"vehicleOwnership\", \"mode\"]).size().reset_index().rename(columns={0: \"count\"})\\\n",
    "#                           .groupby(\"tourPurpose\")\\\n",
    "#                           .apply(lambda vehOwntype: dict(vehOwntype.groupby(\"vehicleOwnership\")\n",
    "#                                                          .apply(lambda mode_used: dict(zip(mode_used[\"mode\"], mode_used[\"count\"]))))).copy()"
   ],
   "metadata": {
    "collapsed": false,
    "pycharm": {
     "name": "#%%\n"
    }
   }
  },
  {
   "cell_type": "code",
   "execution_count": null,
   "outputs": [],
   "source": [
    "# dfEvents = self.dfEvents.copy()\n",
    "# dfTour = dfEvents.loc[(~dfEvents[\"person\"].str.contains(\"ix\",na=False) &\n",
    "#                        ~dfEvents[\"person\"].str.contains(\"rideHailAgent\",na=False) &\n",
    "#                        ~dfEvents[\"person\"].str.contains(\"TransitDriverAgent\",na=False) &\n",
    "#                        (~dfEvents[\"person\"].isna())),:]\n",
    "#     .dropna(subset = [\"vehicleOwnership\"])\n",
    "# dfTour=dfTour[dfTour[\"type\"]==\"TripArrivalEvent\"]\n",
    "# tour_purpose_dict = dfTour.groupby([\"tourPurpose\", \"vehicleOwnership\", \"mode\"]).size().reset_index().rename(columns={0: \"count\"})\n",
    "#     .groupby(\"tourPurpose\")\n",
    "#     .apply(lambda vehOwntype: dict(vehOwntype.groupby(\"vehicleOwnership\")\n",
    "#                                    .apply(lambda mode_used: dict(zip(mode_used[\"mode\"], mode_used[\"count\"]))))).copy()\n",
    "# for key,value in tour_purpose_dict.iteritems():\n",
    "#     if isinstance(tour_purpose_dict.get(key),dict):\n",
    "#         for auto_ownership,modes in tour_purpose_dict.get(key).items():\n",
    "#             mode_keys = [\"car\", \"walk_transit\", \"drive_transit\", \"bike_transit\", \"ride_hail_transit\", \"walk\", \"bike\", \"ride_hail_pooled\", \"ride_hail\", \"hov2_teleportation\", \"hov2\",\"hov3_teleportation\", \"hov3\"]\n",
    "#             if isinstance(modes,dict):\n",
    "#                 for mode,count in modes.items():\n",
    "#                     if mode in mode_keys:\n",
    "#                         mode_keys.remove(mode)\n",
    "#                 for mode in mode_keys:\n",
    "#                     tour_purpose_dict[key][auto_ownership][mode]=0"
   ],
   "metadata": {
    "collapsed": false,
    "pycharm": {
     "name": "#%%\n"
    }
   }
  },
  {
   "cell_type": "code",
   "execution_count": 60,
   "outputs": [
    {
     "data": {
      "text/plain": "tourPurpose  vehicleOwnership  mode              \neatout       auto_deficient    bike                   15\n                               bike_transit           20\n                               car                   454\n                               hov2                   29\n                               hov2_teleportation      6\n                                                    ... \nwork         no_auto           hov2_teleportation     78\n                               hov3_teleportation    159\n                               ride_hail              21\n                               walk                  919\n                               walk_transit          264\nLength: 200, dtype: int64"
     },
     "execution_count": 60,
     "metadata": {},
     "output_type": "execute_result"
    }
   ],
   "source": [
    "(dfLast.loc[(~dfLast[\"person\"].str.contains(\"ix\",na=False)) & (~dfLast[\"person\"].str.contains(\"rideHailAgent\",na=False))\n",
    "            & (~dfLast[\"person\"].str.contains(\"TransitDriverAgent\",na=False)) & (~dfLast[\"person\"].isna())\n",
    "            & (dfLast[\"type\"]==\"TripArrivalEvent\"),].groupby([\"tourPurpose\", \"vehicleOwnership\", \"mode\"]).size())"
   ],
   "metadata": {
    "collapsed": false,
    "pycharm": {
     "name": "#%%\n"
    }
   }
  },
  {
   "cell_type": "code",
   "execution_count": 54,
   "outputs": [],
   "source": [
    "# df2.groupby([\"tourPurpose\", \"vehicleOwnership\", \"mode\"]).size().reset_index().rename(columns={0: \"count\"})\n",
    "(dfLast.loc[(~dfLast[\"person\"].str.contains(\"ix\",na=False)) & (~dfLast[\"person\"].str.contains(\"rideHailAgent\",na=False))\n",
    "           & (~dfLast[\"person\"].str.contains(\"TransitDriverAgent\",na=False)) & (~dfLast[\"person\"].isna())\n",
    "           & (dfLast[\"type\"]==\"TripArrivalEvent\"),].groupby([\"tourPurpose\", \"vehicleOwnership\", \"mode\"]).size()*20).to_csv(BASE_DIR.parent.joinpath(\"exported\", \"Last_iteration_tour.10_trial.csv\"))\n",
    "# df2.groupby([\"tourPurpose\", \"vehicleOwnership\", \"mode\"]).size()*20"
   ],
   "metadata": {
    "collapsed": false,
    "pycharm": {
     "name": "#%%\n"
    }
   }
  },
  {
   "cell_type": "code",
   "execution_count": 55,
   "outputs": [],
   "source": [
    "(dfFirst.loc[(~dfFirst[\"person\"].str.contains(\"ix\",na=False)) & (~dfFirst[\"person\"].str.contains(\"rideHailAgent\",na=False))\n",
    "            & (~dfFirst[\"person\"].str.contains(\"TransitDriverAgent\",na=False)) & (~dfFirst[\"person\"].isna())\n",
    "            & (dfFirst[\"type\"]==\"TripArrivalEvent\"),].groupby([\"tourPurpose\", \"vehicleOwnership\", \"mode\"]).size()*20).to_csv(BASE_DIR.parent.joinpath(\"exported\", \"First_iteration_tour.10_trial.csv\"))"
   ],
   "metadata": {
    "collapsed": false,
    "pycharm": {
     "name": "#%%\n"
    }
   }
  },
  {
   "cell_type": "code",
   "execution_count": 57,
   "outputs": [],
   "source": [
    "pd.DataFrame(dfBayAreaZerothEvents.get_ii_tourpurpose_stats()).to_csv(BASE_DIR.parent.joinpath(\"exported\", \"First_iteration_tour_aftr.10_trial.csv\"))\n",
    "pd.DataFrame(dfBayAreaBeamEvents.get_ii_tourpurpose_stats()).to_csv(BASE_DIR.parent.joinpath(\"exported\", \"Last_iteration_tour_aftr.10_trial.csv\"))"
   ],
   "metadata": {
    "collapsed": false,
    "pycharm": {
     "name": "#%%\n"
    }
   }
  },
  {
   "cell_type": "code",
   "execution_count": null,
   "outputs": [],
   "source": [],
   "metadata": {
    "collapsed": false,
    "pycharm": {
     "name": "#%%\n"
    }
   }
  },
  {
   "cell_type": "code",
   "execution_count": null,
   "outputs": [],
   "source": [],
   "metadata": {
    "collapsed": false,
    "pycharm": {
     "name": "#%%\n"
    }
   }
  },
  {
   "cell_type": "code",
   "execution_count": 50,
   "outputs": [
    {
     "data": {
      "text/plain": "33290"
     },
     "execution_count": 50,
     "metadata": {},
     "output_type": "execute_result"
    }
   ],
   "source": [
    "df1.groupby([\"tourPurpose\", \"vehicleOwnership\", \"mode\"]).size().reset_index().rename(columns={0: \"count\"})[\"count\"].sum()"
   ],
   "metadata": {
    "collapsed": false,
    "pycharm": {
     "name": "#%%\n"
    }
   }
  },
  {
   "cell_type": "code",
   "execution_count": 39,
   "outputs": [
    {
     "data": {
      "text/plain": "           person vehicle      time              type  link  facility actType  \\\n30882    406508-1     NaN     664.0  TripArrivalEvent   NaN       NaN     NaN   \n30901    354568-1     NaN     692.0  TripArrivalEvent   NaN       NaN     NaN   \n30941   1892734-3     NaN     971.0  TripArrivalEvent   NaN       NaN     NaN   \n30948    386899-1     NaN    1019.0  TripArrivalEvent   NaN       NaN     NaN   \n30976    107063-1     NaN    1073.0  TripArrivalEvent   NaN       NaN     NaN   \n...           ...     ...       ...               ...   ...       ...     ...   \n891258   568428-3     NaN  106115.0  TripArrivalEvent   NaN       NaN     NaN   \n891351  2566347-1     NaN  106351.0  TripArrivalEvent   NaN       NaN     NaN   \n891418   568428-3     NaN  106530.0  TripArrivalEvent   NaN       NaN     NaN   \n891578  2566347-1     NaN  107079.0  TripArrivalEvent   NaN       NaN     NaN   \n891785  2566347-1     NaN  107868.0  TripArrivalEvent   NaN       NaN     NaN   \n\n       driver parkingType chargingPointType  ... departureTime  fromStopIndex  \\\n30882     NaN         NaN               NaN  ...           NaN            NaN   \n30901     NaN         NaN               NaN  ...           NaN            NaN   \n30941     NaN         NaN               NaN  ...           NaN            NaN   \n30948     NaN         NaN               NaN  ...           NaN            NaN   \n30976     NaN         NaN               NaN  ...           NaN            NaN   \n...       ...         ...               ...  ...           ...            ...   \n891258    NaN         NaN               NaN  ...           NaN            NaN   \n891351    NaN         NaN               NaN  ...           NaN            NaN   \n891418    NaN         NaN               NaN  ...           NaN            NaN   \n891578    NaN         NaN               NaN  ...           NaN            NaN   \n891785    NaN         NaN               NaN  ...           NaN            NaN   \n\n        secondaryFuel primaryFuelType secondaryFuelType  numPassengers links  \\\n30882             NaN             NaN               NaN            NaN   NaN   \n30901             NaN             NaN               NaN            NaN   NaN   \n30941             NaN             NaN               NaN            NaN   NaN   \n30948             NaN             NaN               NaN            NaN   NaN   \n30976             NaN             NaN               NaN            NaN   NaN   \n...               ...             ...               ...            ...   ...   \n891258            NaN             NaN               NaN            NaN   NaN   \n891351            NaN             NaN               NaN            NaN   NaN   \n891418            NaN             NaN               NaN            NaN   NaN   \n891578            NaN             NaN               NaN            NaN   NaN   \n891785            NaN             NaN               NaN            NaN   NaN   \n\n        primaryFuel  riders  Travel_Time  \n30882           NaN     NaN          NaN  \n30901           NaN     NaN          NaN  \n30941           NaN     NaN          NaN  \n30948           NaN     NaN          NaN  \n30976           NaN     NaN          NaN  \n...             ...     ...          ...  \n891258          NaN     NaN          NaN  \n891351          NaN     NaN          NaN  \n891418          NaN     NaN          NaN  \n891578          NaN     NaN          NaN  \n891785          NaN     NaN          NaN  \n\n[49126 rows x 61 columns]",
      "text/html": "<div>\n<style scoped>\n    .dataframe tbody tr th:only-of-type {\n        vertical-align: middle;\n    }\n\n    .dataframe tbody tr th {\n        vertical-align: top;\n    }\n\n    .dataframe thead th {\n        text-align: right;\n    }\n</style>\n<table border=\"1\" class=\"dataframe\">\n  <thead>\n    <tr style=\"text-align: right;\">\n      <th></th>\n      <th>person</th>\n      <th>vehicle</th>\n      <th>time</th>\n      <th>type</th>\n      <th>link</th>\n      <th>facility</th>\n      <th>actType</th>\n      <th>driver</th>\n      <th>parkingType</th>\n      <th>chargingPointType</th>\n      <th>...</th>\n      <th>departureTime</th>\n      <th>fromStopIndex</th>\n      <th>secondaryFuel</th>\n      <th>primaryFuelType</th>\n      <th>secondaryFuelType</th>\n      <th>numPassengers</th>\n      <th>links</th>\n      <th>primaryFuel</th>\n      <th>riders</th>\n      <th>Travel_Time</th>\n    </tr>\n  </thead>\n  <tbody>\n    <tr>\n      <th>30882</th>\n      <td>406508-1</td>\n      <td>NaN</td>\n      <td>664.0</td>\n      <td>TripArrivalEvent</td>\n      <td>NaN</td>\n      <td>NaN</td>\n      <td>NaN</td>\n      <td>NaN</td>\n      <td>NaN</td>\n      <td>NaN</td>\n      <td>...</td>\n      <td>NaN</td>\n      <td>NaN</td>\n      <td>NaN</td>\n      <td>NaN</td>\n      <td>NaN</td>\n      <td>NaN</td>\n      <td>NaN</td>\n      <td>NaN</td>\n      <td>NaN</td>\n      <td>NaN</td>\n    </tr>\n    <tr>\n      <th>30901</th>\n      <td>354568-1</td>\n      <td>NaN</td>\n      <td>692.0</td>\n      <td>TripArrivalEvent</td>\n      <td>NaN</td>\n      <td>NaN</td>\n      <td>NaN</td>\n      <td>NaN</td>\n      <td>NaN</td>\n      <td>NaN</td>\n      <td>...</td>\n      <td>NaN</td>\n      <td>NaN</td>\n      <td>NaN</td>\n      <td>NaN</td>\n      <td>NaN</td>\n      <td>NaN</td>\n      <td>NaN</td>\n      <td>NaN</td>\n      <td>NaN</td>\n      <td>NaN</td>\n    </tr>\n    <tr>\n      <th>30941</th>\n      <td>1892734-3</td>\n      <td>NaN</td>\n      <td>971.0</td>\n      <td>TripArrivalEvent</td>\n      <td>NaN</td>\n      <td>NaN</td>\n      <td>NaN</td>\n      <td>NaN</td>\n      <td>NaN</td>\n      <td>NaN</td>\n      <td>...</td>\n      <td>NaN</td>\n      <td>NaN</td>\n      <td>NaN</td>\n      <td>NaN</td>\n      <td>NaN</td>\n      <td>NaN</td>\n      <td>NaN</td>\n      <td>NaN</td>\n      <td>NaN</td>\n      <td>NaN</td>\n    </tr>\n    <tr>\n      <th>30948</th>\n      <td>386899-1</td>\n      <td>NaN</td>\n      <td>1019.0</td>\n      <td>TripArrivalEvent</td>\n      <td>NaN</td>\n      <td>NaN</td>\n      <td>NaN</td>\n      <td>NaN</td>\n      <td>NaN</td>\n      <td>NaN</td>\n      <td>...</td>\n      <td>NaN</td>\n      <td>NaN</td>\n      <td>NaN</td>\n      <td>NaN</td>\n      <td>NaN</td>\n      <td>NaN</td>\n      <td>NaN</td>\n      <td>NaN</td>\n      <td>NaN</td>\n      <td>NaN</td>\n    </tr>\n    <tr>\n      <th>30976</th>\n      <td>107063-1</td>\n      <td>NaN</td>\n      <td>1073.0</td>\n      <td>TripArrivalEvent</td>\n      <td>NaN</td>\n      <td>NaN</td>\n      <td>NaN</td>\n      <td>NaN</td>\n      <td>NaN</td>\n      <td>NaN</td>\n      <td>...</td>\n      <td>NaN</td>\n      <td>NaN</td>\n      <td>NaN</td>\n      <td>NaN</td>\n      <td>NaN</td>\n      <td>NaN</td>\n      <td>NaN</td>\n      <td>NaN</td>\n      <td>NaN</td>\n      <td>NaN</td>\n    </tr>\n    <tr>\n      <th>...</th>\n      <td>...</td>\n      <td>...</td>\n      <td>...</td>\n      <td>...</td>\n      <td>...</td>\n      <td>...</td>\n      <td>...</td>\n      <td>...</td>\n      <td>...</td>\n      <td>...</td>\n      <td>...</td>\n      <td>...</td>\n      <td>...</td>\n      <td>...</td>\n      <td>...</td>\n      <td>...</td>\n      <td>...</td>\n      <td>...</td>\n      <td>...</td>\n      <td>...</td>\n      <td>...</td>\n    </tr>\n    <tr>\n      <th>891258</th>\n      <td>568428-3</td>\n      <td>NaN</td>\n      <td>106115.0</td>\n      <td>TripArrivalEvent</td>\n      <td>NaN</td>\n      <td>NaN</td>\n      <td>NaN</td>\n      <td>NaN</td>\n      <td>NaN</td>\n      <td>NaN</td>\n      <td>...</td>\n      <td>NaN</td>\n      <td>NaN</td>\n      <td>NaN</td>\n      <td>NaN</td>\n      <td>NaN</td>\n      <td>NaN</td>\n      <td>NaN</td>\n      <td>NaN</td>\n      <td>NaN</td>\n      <td>NaN</td>\n    </tr>\n    <tr>\n      <th>891351</th>\n      <td>2566347-1</td>\n      <td>NaN</td>\n      <td>106351.0</td>\n      <td>TripArrivalEvent</td>\n      <td>NaN</td>\n      <td>NaN</td>\n      <td>NaN</td>\n      <td>NaN</td>\n      <td>NaN</td>\n      <td>NaN</td>\n      <td>...</td>\n      <td>NaN</td>\n      <td>NaN</td>\n      <td>NaN</td>\n      <td>NaN</td>\n      <td>NaN</td>\n      <td>NaN</td>\n      <td>NaN</td>\n      <td>NaN</td>\n      <td>NaN</td>\n      <td>NaN</td>\n    </tr>\n    <tr>\n      <th>891418</th>\n      <td>568428-3</td>\n      <td>NaN</td>\n      <td>106530.0</td>\n      <td>TripArrivalEvent</td>\n      <td>NaN</td>\n      <td>NaN</td>\n      <td>NaN</td>\n      <td>NaN</td>\n      <td>NaN</td>\n      <td>NaN</td>\n      <td>...</td>\n      <td>NaN</td>\n      <td>NaN</td>\n      <td>NaN</td>\n      <td>NaN</td>\n      <td>NaN</td>\n      <td>NaN</td>\n      <td>NaN</td>\n      <td>NaN</td>\n      <td>NaN</td>\n      <td>NaN</td>\n    </tr>\n    <tr>\n      <th>891578</th>\n      <td>2566347-1</td>\n      <td>NaN</td>\n      <td>107079.0</td>\n      <td>TripArrivalEvent</td>\n      <td>NaN</td>\n      <td>NaN</td>\n      <td>NaN</td>\n      <td>NaN</td>\n      <td>NaN</td>\n      <td>NaN</td>\n      <td>...</td>\n      <td>NaN</td>\n      <td>NaN</td>\n      <td>NaN</td>\n      <td>NaN</td>\n      <td>NaN</td>\n      <td>NaN</td>\n      <td>NaN</td>\n      <td>NaN</td>\n      <td>NaN</td>\n      <td>NaN</td>\n    </tr>\n    <tr>\n      <th>891785</th>\n      <td>2566347-1</td>\n      <td>NaN</td>\n      <td>107868.0</td>\n      <td>TripArrivalEvent</td>\n      <td>NaN</td>\n      <td>NaN</td>\n      <td>NaN</td>\n      <td>NaN</td>\n      <td>NaN</td>\n      <td>NaN</td>\n      <td>...</td>\n      <td>NaN</td>\n      <td>NaN</td>\n      <td>NaN</td>\n      <td>NaN</td>\n      <td>NaN</td>\n      <td>NaN</td>\n      <td>NaN</td>\n      <td>NaN</td>\n      <td>NaN</td>\n      <td>NaN</td>\n    </tr>\n  </tbody>\n</table>\n<p>49126 rows × 61 columns</p>\n</div>"
     },
     "execution_count": 39,
     "metadata": {},
     "output_type": "execute_result"
    }
   ],
   "source": [
    "df3"
   ],
   "metadata": {
    "collapsed": false,
    "pycharm": {
     "name": "#%%\n"
    }
   }
  },
  {
   "cell_type": "code",
   "execution_count": 37,
   "outputs": [
    {
     "data": {
      "text/plain": "           person vehicle      time              type  link  facility actType  \\\n30828    240750-5     NaN     155.0  TripArrivalEvent   NaN       NaN     NaN   \n30844    236959-1     NaN     209.0  TripArrivalEvent   NaN       NaN     NaN   \n30870    320377-1     NaN     265.0  TripArrivalEvent   NaN       NaN     NaN   \n30898    162419-2     NaN     290.0  TripArrivalEvent   NaN       NaN     NaN   \n30969    366469-1     NaN     630.0  TripArrivalEvent   NaN       NaN     NaN   \n...           ...     ...       ...               ...   ...       ...     ...   \n881818  2566347-1     NaN  107073.0  TripArrivalEvent   NaN       NaN     NaN   \n881879  2472490-1     NaN  107211.0  TripArrivalEvent   NaN       NaN     NaN   \n881979  1404552-1     NaN  107546.0  TripArrivalEvent   NaN       NaN     NaN   \n882023  2472490-1     NaN  107672.0  TripArrivalEvent   NaN       NaN     NaN   \n882073  2566347-1     NaN  107860.0  TripArrivalEvent   NaN       NaN     NaN   \n\n       driver parkingType chargingPointType  ... departureTime  fromStopIndex  \\\n30828     NaN         NaN               NaN  ...           NaN            NaN   \n30844     NaN         NaN               NaN  ...           NaN            NaN   \n30870     NaN         NaN               NaN  ...           NaN            NaN   \n30898     NaN         NaN               NaN  ...           NaN            NaN   \n30969     NaN         NaN               NaN  ...           NaN            NaN   \n...       ...         ...               ...  ...           ...            ...   \n881818    NaN         NaN               NaN  ...           NaN            NaN   \n881879    NaN         NaN               NaN  ...           NaN            NaN   \n881979    NaN         NaN               NaN  ...           NaN            NaN   \n882023    NaN         NaN               NaN  ...           NaN            NaN   \n882073    NaN         NaN               NaN  ...           NaN            NaN   \n\n        secondaryFuel primaryFuelType secondaryFuelType  numPassengers links  \\\n30828             NaN             NaN               NaN            NaN   NaN   \n30844             NaN             NaN               NaN            NaN   NaN   \n30870             NaN             NaN               NaN            NaN   NaN   \n30898             NaN             NaN               NaN            NaN   NaN   \n30969             NaN             NaN               NaN            NaN   NaN   \n...               ...             ...               ...            ...   ...   \n881818            NaN             NaN               NaN            NaN   NaN   \n881879            NaN             NaN               NaN            NaN   NaN   \n881979            NaN             NaN               NaN            NaN   NaN   \n882023            NaN             NaN               NaN            NaN   NaN   \n882073            NaN             NaN               NaN            NaN   NaN   \n\n        primaryFuel  riders  Travel_Time  \n30828           NaN     NaN          NaN  \n30844           NaN     NaN          NaN  \n30870           NaN     NaN          NaN  \n30898           NaN     NaN          NaN  \n30969           NaN     NaN          NaN  \n...             ...     ...          ...  \n881818          NaN     NaN          NaN  \n881879          NaN     NaN          NaN  \n881979          NaN     NaN          NaN  \n882023          NaN     NaN          NaN  \n882073          NaN     NaN          NaN  \n\n[49126 rows x 61 columns]",
      "text/html": "<div>\n<style scoped>\n    .dataframe tbody tr th:only-of-type {\n        vertical-align: middle;\n    }\n\n    .dataframe tbody tr th {\n        vertical-align: top;\n    }\n\n    .dataframe thead th {\n        text-align: right;\n    }\n</style>\n<table border=\"1\" class=\"dataframe\">\n  <thead>\n    <tr style=\"text-align: right;\">\n      <th></th>\n      <th>person</th>\n      <th>vehicle</th>\n      <th>time</th>\n      <th>type</th>\n      <th>link</th>\n      <th>facility</th>\n      <th>actType</th>\n      <th>driver</th>\n      <th>parkingType</th>\n      <th>chargingPointType</th>\n      <th>...</th>\n      <th>departureTime</th>\n      <th>fromStopIndex</th>\n      <th>secondaryFuel</th>\n      <th>primaryFuelType</th>\n      <th>secondaryFuelType</th>\n      <th>numPassengers</th>\n      <th>links</th>\n      <th>primaryFuel</th>\n      <th>riders</th>\n      <th>Travel_Time</th>\n    </tr>\n  </thead>\n  <tbody>\n    <tr>\n      <th>30828</th>\n      <td>240750-5</td>\n      <td>NaN</td>\n      <td>155.0</td>\n      <td>TripArrivalEvent</td>\n      <td>NaN</td>\n      <td>NaN</td>\n      <td>NaN</td>\n      <td>NaN</td>\n      <td>NaN</td>\n      <td>NaN</td>\n      <td>...</td>\n      <td>NaN</td>\n      <td>NaN</td>\n      <td>NaN</td>\n      <td>NaN</td>\n      <td>NaN</td>\n      <td>NaN</td>\n      <td>NaN</td>\n      <td>NaN</td>\n      <td>NaN</td>\n      <td>NaN</td>\n    </tr>\n    <tr>\n      <th>30844</th>\n      <td>236959-1</td>\n      <td>NaN</td>\n      <td>209.0</td>\n      <td>TripArrivalEvent</td>\n      <td>NaN</td>\n      <td>NaN</td>\n      <td>NaN</td>\n      <td>NaN</td>\n      <td>NaN</td>\n      <td>NaN</td>\n      <td>...</td>\n      <td>NaN</td>\n      <td>NaN</td>\n      <td>NaN</td>\n      <td>NaN</td>\n      <td>NaN</td>\n      <td>NaN</td>\n      <td>NaN</td>\n      <td>NaN</td>\n      <td>NaN</td>\n      <td>NaN</td>\n    </tr>\n    <tr>\n      <th>30870</th>\n      <td>320377-1</td>\n      <td>NaN</td>\n      <td>265.0</td>\n      <td>TripArrivalEvent</td>\n      <td>NaN</td>\n      <td>NaN</td>\n      <td>NaN</td>\n      <td>NaN</td>\n      <td>NaN</td>\n      <td>NaN</td>\n      <td>...</td>\n      <td>NaN</td>\n      <td>NaN</td>\n      <td>NaN</td>\n      <td>NaN</td>\n      <td>NaN</td>\n      <td>NaN</td>\n      <td>NaN</td>\n      <td>NaN</td>\n      <td>NaN</td>\n      <td>NaN</td>\n    </tr>\n    <tr>\n      <th>30898</th>\n      <td>162419-2</td>\n      <td>NaN</td>\n      <td>290.0</td>\n      <td>TripArrivalEvent</td>\n      <td>NaN</td>\n      <td>NaN</td>\n      <td>NaN</td>\n      <td>NaN</td>\n      <td>NaN</td>\n      <td>NaN</td>\n      <td>...</td>\n      <td>NaN</td>\n      <td>NaN</td>\n      <td>NaN</td>\n      <td>NaN</td>\n      <td>NaN</td>\n      <td>NaN</td>\n      <td>NaN</td>\n      <td>NaN</td>\n      <td>NaN</td>\n      <td>NaN</td>\n    </tr>\n    <tr>\n      <th>30969</th>\n      <td>366469-1</td>\n      <td>NaN</td>\n      <td>630.0</td>\n      <td>TripArrivalEvent</td>\n      <td>NaN</td>\n      <td>NaN</td>\n      <td>NaN</td>\n      <td>NaN</td>\n      <td>NaN</td>\n      <td>NaN</td>\n      <td>...</td>\n      <td>NaN</td>\n      <td>NaN</td>\n      <td>NaN</td>\n      <td>NaN</td>\n      <td>NaN</td>\n      <td>NaN</td>\n      <td>NaN</td>\n      <td>NaN</td>\n      <td>NaN</td>\n      <td>NaN</td>\n    </tr>\n    <tr>\n      <th>...</th>\n      <td>...</td>\n      <td>...</td>\n      <td>...</td>\n      <td>...</td>\n      <td>...</td>\n      <td>...</td>\n      <td>...</td>\n      <td>...</td>\n      <td>...</td>\n      <td>...</td>\n      <td>...</td>\n      <td>...</td>\n      <td>...</td>\n      <td>...</td>\n      <td>...</td>\n      <td>...</td>\n      <td>...</td>\n      <td>...</td>\n      <td>...</td>\n      <td>...</td>\n      <td>...</td>\n    </tr>\n    <tr>\n      <th>881818</th>\n      <td>2566347-1</td>\n      <td>NaN</td>\n      <td>107073.0</td>\n      <td>TripArrivalEvent</td>\n      <td>NaN</td>\n      <td>NaN</td>\n      <td>NaN</td>\n      <td>NaN</td>\n      <td>NaN</td>\n      <td>NaN</td>\n      <td>...</td>\n      <td>NaN</td>\n      <td>NaN</td>\n      <td>NaN</td>\n      <td>NaN</td>\n      <td>NaN</td>\n      <td>NaN</td>\n      <td>NaN</td>\n      <td>NaN</td>\n      <td>NaN</td>\n      <td>NaN</td>\n    </tr>\n    <tr>\n      <th>881879</th>\n      <td>2472490-1</td>\n      <td>NaN</td>\n      <td>107211.0</td>\n      <td>TripArrivalEvent</td>\n      <td>NaN</td>\n      <td>NaN</td>\n      <td>NaN</td>\n      <td>NaN</td>\n      <td>NaN</td>\n      <td>NaN</td>\n      <td>...</td>\n      <td>NaN</td>\n      <td>NaN</td>\n      <td>NaN</td>\n      <td>NaN</td>\n      <td>NaN</td>\n      <td>NaN</td>\n      <td>NaN</td>\n      <td>NaN</td>\n      <td>NaN</td>\n      <td>NaN</td>\n    </tr>\n    <tr>\n      <th>881979</th>\n      <td>1404552-1</td>\n      <td>NaN</td>\n      <td>107546.0</td>\n      <td>TripArrivalEvent</td>\n      <td>NaN</td>\n      <td>NaN</td>\n      <td>NaN</td>\n      <td>NaN</td>\n      <td>NaN</td>\n      <td>NaN</td>\n      <td>...</td>\n      <td>NaN</td>\n      <td>NaN</td>\n      <td>NaN</td>\n      <td>NaN</td>\n      <td>NaN</td>\n      <td>NaN</td>\n      <td>NaN</td>\n      <td>NaN</td>\n      <td>NaN</td>\n      <td>NaN</td>\n    </tr>\n    <tr>\n      <th>882023</th>\n      <td>2472490-1</td>\n      <td>NaN</td>\n      <td>107672.0</td>\n      <td>TripArrivalEvent</td>\n      <td>NaN</td>\n      <td>NaN</td>\n      <td>NaN</td>\n      <td>NaN</td>\n      <td>NaN</td>\n      <td>NaN</td>\n      <td>...</td>\n      <td>NaN</td>\n      <td>NaN</td>\n      <td>NaN</td>\n      <td>NaN</td>\n      <td>NaN</td>\n      <td>NaN</td>\n      <td>NaN</td>\n      <td>NaN</td>\n      <td>NaN</td>\n      <td>NaN</td>\n    </tr>\n    <tr>\n      <th>882073</th>\n      <td>2566347-1</td>\n      <td>NaN</td>\n      <td>107860.0</td>\n      <td>TripArrivalEvent</td>\n      <td>NaN</td>\n      <td>NaN</td>\n      <td>NaN</td>\n      <td>NaN</td>\n      <td>NaN</td>\n      <td>NaN</td>\n      <td>...</td>\n      <td>NaN</td>\n      <td>NaN</td>\n      <td>NaN</td>\n      <td>NaN</td>\n      <td>NaN</td>\n      <td>NaN</td>\n      <td>NaN</td>\n      <td>NaN</td>\n      <td>NaN</td>\n      <td>NaN</td>\n    </tr>\n  </tbody>\n</table>\n<p>49126 rows × 61 columns</p>\n</div>"
     },
     "execution_count": 37,
     "metadata": {},
     "output_type": "execute_result"
    }
   ],
   "source": [
    "df4"
   ],
   "metadata": {
    "collapsed": false,
    "pycharm": {
     "name": "#%%\n"
    }
   }
  },
  {
   "cell_type": "code",
   "execution_count": 43,
   "outputs": [
    {
     "data": {
      "text/plain": "          person vehicle     time              type     link  facility  \\\n86698   100050-3     NaN  25320.0        ModeChoice      NaN       NaN   \n86699   100050-3     NaN  25320.0            actend  21696.0       NaN   \n89168   100050-3     NaN  25511.0  TripArrivalEvent      NaN       NaN   \n89169   100050-3     NaN  25511.0          actstart  21270.0       NaN   \n465930  100050-3     NaN  51840.0        ModeChoice      NaN       NaN   \n465939  100050-3     NaN  51840.0            actend  21270.0       NaN   \n478238  100050-3     NaN  52766.0  TripArrivalEvent      NaN       NaN   \n478239  100050-3     NaN  52766.0          actstart  21696.0       NaN   \n658478  100050-3     NaN  64020.0        ModeChoice      NaN       NaN   \n658479  100050-3     NaN  64020.0            actend  21696.0       NaN   \n696300  100050-3     NaN  66353.0  TripArrivalEvent      NaN       NaN   \n696301  100050-3     NaN  66353.0          actstart  25470.0       NaN   \n701735  100050-3     NaN  66660.0        ModeChoice      NaN       NaN   \n701736  100050-3     NaN  66660.0            actend  25471.0       NaN   \n735147  100050-3     NaN  69020.0  TripArrivalEvent      NaN       NaN   \n735148  100050-3     NaN  69020.0          actstart  21697.0       NaN   \n\n       actType driver parkingType chargingPointType  ... departureTime  \\\n86698      NaN    NaN         NaN               NaN  ...           NaN   \n86699     home    NaN         NaN               NaN  ...           NaN   \n89168      NaN    NaN         NaN               NaN  ...           NaN   \n89169   school    NaN         NaN               NaN  ...           NaN   \n465930     NaN    NaN         NaN               NaN  ...           NaN   \n465939  school    NaN         NaN               NaN  ...           NaN   \n478238     NaN    NaN         NaN               NaN  ...           NaN   \n478239    home    NaN         NaN               NaN  ...           NaN   \n658478     NaN    NaN         NaN               NaN  ...           NaN   \n658479    home    NaN         NaN               NaN  ...           NaN   \n696300     NaN    NaN         NaN               NaN  ...           NaN   \n696301  eatout    NaN         NaN               NaN  ...           NaN   \n701735     NaN    NaN         NaN               NaN  ...           NaN   \n701736  eatout    NaN         NaN               NaN  ...           NaN   \n735147     NaN    NaN         NaN               NaN  ...           NaN   \n735148    home    NaN         NaN               NaN  ...           NaN   \n\n        fromStopIndex  secondaryFuel primaryFuelType secondaryFuelType  \\\n86698             NaN            NaN             NaN               NaN   \n86699             NaN            NaN             NaN               NaN   \n89168             NaN            NaN             NaN               NaN   \n89169             NaN            NaN             NaN               NaN   \n465930            NaN            NaN             NaN               NaN   \n465939            NaN            NaN             NaN               NaN   \n478238            NaN            NaN             NaN               NaN   \n478239            NaN            NaN             NaN               NaN   \n658478            NaN            NaN             NaN               NaN   \n658479            NaN            NaN             NaN               NaN   \n696300            NaN            NaN             NaN               NaN   \n696301            NaN            NaN             NaN               NaN   \n701735            NaN            NaN             NaN               NaN   \n701736            NaN            NaN             NaN               NaN   \n735147            NaN            NaN             NaN               NaN   \n735148            NaN            NaN             NaN               NaN   \n\n        numPassengers links  primaryFuel  riders  Travel_Time  \n86698             NaN   NaN          NaN     NaN          NaN  \n86699             NaN   NaN          NaN     NaN          NaN  \n89168             NaN   NaN          NaN     NaN          NaN  \n89169             NaN   NaN          NaN     NaN          NaN  \n465930            NaN   NaN          NaN     NaN          NaN  \n465939            NaN   NaN          NaN     NaN          NaN  \n478238            NaN   NaN          NaN     NaN          NaN  \n478239            NaN   NaN          NaN     NaN          NaN  \n658478            NaN   NaN          NaN     NaN          NaN  \n658479            NaN   NaN          NaN     NaN          NaN  \n696300            NaN   NaN          NaN     NaN          NaN  \n696301            NaN   NaN          NaN     NaN          NaN  \n701735            NaN   NaN          NaN     NaN          NaN  \n701736            NaN   NaN          NaN     NaN          NaN  \n735147            NaN   NaN          NaN     NaN          NaN  \n735148            NaN   NaN          NaN     NaN          NaN  \n\n[16 rows x 61 columns]",
      "text/html": "<div>\n<style scoped>\n    .dataframe tbody tr th:only-of-type {\n        vertical-align: middle;\n    }\n\n    .dataframe tbody tr th {\n        vertical-align: top;\n    }\n\n    .dataframe thead th {\n        text-align: right;\n    }\n</style>\n<table border=\"1\" class=\"dataframe\">\n  <thead>\n    <tr style=\"text-align: right;\">\n      <th></th>\n      <th>person</th>\n      <th>vehicle</th>\n      <th>time</th>\n      <th>type</th>\n      <th>link</th>\n      <th>facility</th>\n      <th>actType</th>\n      <th>driver</th>\n      <th>parkingType</th>\n      <th>chargingPointType</th>\n      <th>...</th>\n      <th>departureTime</th>\n      <th>fromStopIndex</th>\n      <th>secondaryFuel</th>\n      <th>primaryFuelType</th>\n      <th>secondaryFuelType</th>\n      <th>numPassengers</th>\n      <th>links</th>\n      <th>primaryFuel</th>\n      <th>riders</th>\n      <th>Travel_Time</th>\n    </tr>\n  </thead>\n  <tbody>\n    <tr>\n      <th>86698</th>\n      <td>100050-3</td>\n      <td>NaN</td>\n      <td>25320.0</td>\n      <td>ModeChoice</td>\n      <td>NaN</td>\n      <td>NaN</td>\n      <td>NaN</td>\n      <td>NaN</td>\n      <td>NaN</td>\n      <td>NaN</td>\n      <td>...</td>\n      <td>NaN</td>\n      <td>NaN</td>\n      <td>NaN</td>\n      <td>NaN</td>\n      <td>NaN</td>\n      <td>NaN</td>\n      <td>NaN</td>\n      <td>NaN</td>\n      <td>NaN</td>\n      <td>NaN</td>\n    </tr>\n    <tr>\n      <th>86699</th>\n      <td>100050-3</td>\n      <td>NaN</td>\n      <td>25320.0</td>\n      <td>actend</td>\n      <td>21696.0</td>\n      <td>NaN</td>\n      <td>home</td>\n      <td>NaN</td>\n      <td>NaN</td>\n      <td>NaN</td>\n      <td>...</td>\n      <td>NaN</td>\n      <td>NaN</td>\n      <td>NaN</td>\n      <td>NaN</td>\n      <td>NaN</td>\n      <td>NaN</td>\n      <td>NaN</td>\n      <td>NaN</td>\n      <td>NaN</td>\n      <td>NaN</td>\n    </tr>\n    <tr>\n      <th>89168</th>\n      <td>100050-3</td>\n      <td>NaN</td>\n      <td>25511.0</td>\n      <td>TripArrivalEvent</td>\n      <td>NaN</td>\n      <td>NaN</td>\n      <td>NaN</td>\n      <td>NaN</td>\n      <td>NaN</td>\n      <td>NaN</td>\n      <td>...</td>\n      <td>NaN</td>\n      <td>NaN</td>\n      <td>NaN</td>\n      <td>NaN</td>\n      <td>NaN</td>\n      <td>NaN</td>\n      <td>NaN</td>\n      <td>NaN</td>\n      <td>NaN</td>\n      <td>NaN</td>\n    </tr>\n    <tr>\n      <th>89169</th>\n      <td>100050-3</td>\n      <td>NaN</td>\n      <td>25511.0</td>\n      <td>actstart</td>\n      <td>21270.0</td>\n      <td>NaN</td>\n      <td>school</td>\n      <td>NaN</td>\n      <td>NaN</td>\n      <td>NaN</td>\n      <td>...</td>\n      <td>NaN</td>\n      <td>NaN</td>\n      <td>NaN</td>\n      <td>NaN</td>\n      <td>NaN</td>\n      <td>NaN</td>\n      <td>NaN</td>\n      <td>NaN</td>\n      <td>NaN</td>\n      <td>NaN</td>\n    </tr>\n    <tr>\n      <th>465930</th>\n      <td>100050-3</td>\n      <td>NaN</td>\n      <td>51840.0</td>\n      <td>ModeChoice</td>\n      <td>NaN</td>\n      <td>NaN</td>\n      <td>NaN</td>\n      <td>NaN</td>\n      <td>NaN</td>\n      <td>NaN</td>\n      <td>...</td>\n      <td>NaN</td>\n      <td>NaN</td>\n      <td>NaN</td>\n      <td>NaN</td>\n      <td>NaN</td>\n      <td>NaN</td>\n      <td>NaN</td>\n      <td>NaN</td>\n      <td>NaN</td>\n      <td>NaN</td>\n    </tr>\n    <tr>\n      <th>465939</th>\n      <td>100050-3</td>\n      <td>NaN</td>\n      <td>51840.0</td>\n      <td>actend</td>\n      <td>21270.0</td>\n      <td>NaN</td>\n      <td>school</td>\n      <td>NaN</td>\n      <td>NaN</td>\n      <td>NaN</td>\n      <td>...</td>\n      <td>NaN</td>\n      <td>NaN</td>\n      <td>NaN</td>\n      <td>NaN</td>\n      <td>NaN</td>\n      <td>NaN</td>\n      <td>NaN</td>\n      <td>NaN</td>\n      <td>NaN</td>\n      <td>NaN</td>\n    </tr>\n    <tr>\n      <th>478238</th>\n      <td>100050-3</td>\n      <td>NaN</td>\n      <td>52766.0</td>\n      <td>TripArrivalEvent</td>\n      <td>NaN</td>\n      <td>NaN</td>\n      <td>NaN</td>\n      <td>NaN</td>\n      <td>NaN</td>\n      <td>NaN</td>\n      <td>...</td>\n      <td>NaN</td>\n      <td>NaN</td>\n      <td>NaN</td>\n      <td>NaN</td>\n      <td>NaN</td>\n      <td>NaN</td>\n      <td>NaN</td>\n      <td>NaN</td>\n      <td>NaN</td>\n      <td>NaN</td>\n    </tr>\n    <tr>\n      <th>478239</th>\n      <td>100050-3</td>\n      <td>NaN</td>\n      <td>52766.0</td>\n      <td>actstart</td>\n      <td>21696.0</td>\n      <td>NaN</td>\n      <td>home</td>\n      <td>NaN</td>\n      <td>NaN</td>\n      <td>NaN</td>\n      <td>...</td>\n      <td>NaN</td>\n      <td>NaN</td>\n      <td>NaN</td>\n      <td>NaN</td>\n      <td>NaN</td>\n      <td>NaN</td>\n      <td>NaN</td>\n      <td>NaN</td>\n      <td>NaN</td>\n      <td>NaN</td>\n    </tr>\n    <tr>\n      <th>658478</th>\n      <td>100050-3</td>\n      <td>NaN</td>\n      <td>64020.0</td>\n      <td>ModeChoice</td>\n      <td>NaN</td>\n      <td>NaN</td>\n      <td>NaN</td>\n      <td>NaN</td>\n      <td>NaN</td>\n      <td>NaN</td>\n      <td>...</td>\n      <td>NaN</td>\n      <td>NaN</td>\n      <td>NaN</td>\n      <td>NaN</td>\n      <td>NaN</td>\n      <td>NaN</td>\n      <td>NaN</td>\n      <td>NaN</td>\n      <td>NaN</td>\n      <td>NaN</td>\n    </tr>\n    <tr>\n      <th>658479</th>\n      <td>100050-3</td>\n      <td>NaN</td>\n      <td>64020.0</td>\n      <td>actend</td>\n      <td>21696.0</td>\n      <td>NaN</td>\n      <td>home</td>\n      <td>NaN</td>\n      <td>NaN</td>\n      <td>NaN</td>\n      <td>...</td>\n      <td>NaN</td>\n      <td>NaN</td>\n      <td>NaN</td>\n      <td>NaN</td>\n      <td>NaN</td>\n      <td>NaN</td>\n      <td>NaN</td>\n      <td>NaN</td>\n      <td>NaN</td>\n      <td>NaN</td>\n    </tr>\n    <tr>\n      <th>696300</th>\n      <td>100050-3</td>\n      <td>NaN</td>\n      <td>66353.0</td>\n      <td>TripArrivalEvent</td>\n      <td>NaN</td>\n      <td>NaN</td>\n      <td>NaN</td>\n      <td>NaN</td>\n      <td>NaN</td>\n      <td>NaN</td>\n      <td>...</td>\n      <td>NaN</td>\n      <td>NaN</td>\n      <td>NaN</td>\n      <td>NaN</td>\n      <td>NaN</td>\n      <td>NaN</td>\n      <td>NaN</td>\n      <td>NaN</td>\n      <td>NaN</td>\n      <td>NaN</td>\n    </tr>\n    <tr>\n      <th>696301</th>\n      <td>100050-3</td>\n      <td>NaN</td>\n      <td>66353.0</td>\n      <td>actstart</td>\n      <td>25470.0</td>\n      <td>NaN</td>\n      <td>eatout</td>\n      <td>NaN</td>\n      <td>NaN</td>\n      <td>NaN</td>\n      <td>...</td>\n      <td>NaN</td>\n      <td>NaN</td>\n      <td>NaN</td>\n      <td>NaN</td>\n      <td>NaN</td>\n      <td>NaN</td>\n      <td>NaN</td>\n      <td>NaN</td>\n      <td>NaN</td>\n      <td>NaN</td>\n    </tr>\n    <tr>\n      <th>701735</th>\n      <td>100050-3</td>\n      <td>NaN</td>\n      <td>66660.0</td>\n      <td>ModeChoice</td>\n      <td>NaN</td>\n      <td>NaN</td>\n      <td>NaN</td>\n      <td>NaN</td>\n      <td>NaN</td>\n      <td>NaN</td>\n      <td>...</td>\n      <td>NaN</td>\n      <td>NaN</td>\n      <td>NaN</td>\n      <td>NaN</td>\n      <td>NaN</td>\n      <td>NaN</td>\n      <td>NaN</td>\n      <td>NaN</td>\n      <td>NaN</td>\n      <td>NaN</td>\n    </tr>\n    <tr>\n      <th>701736</th>\n      <td>100050-3</td>\n      <td>NaN</td>\n      <td>66660.0</td>\n      <td>actend</td>\n      <td>25471.0</td>\n      <td>NaN</td>\n      <td>eatout</td>\n      <td>NaN</td>\n      <td>NaN</td>\n      <td>NaN</td>\n      <td>...</td>\n      <td>NaN</td>\n      <td>NaN</td>\n      <td>NaN</td>\n      <td>NaN</td>\n      <td>NaN</td>\n      <td>NaN</td>\n      <td>NaN</td>\n      <td>NaN</td>\n      <td>NaN</td>\n      <td>NaN</td>\n    </tr>\n    <tr>\n      <th>735147</th>\n      <td>100050-3</td>\n      <td>NaN</td>\n      <td>69020.0</td>\n      <td>TripArrivalEvent</td>\n      <td>NaN</td>\n      <td>NaN</td>\n      <td>NaN</td>\n      <td>NaN</td>\n      <td>NaN</td>\n      <td>NaN</td>\n      <td>...</td>\n      <td>NaN</td>\n      <td>NaN</td>\n      <td>NaN</td>\n      <td>NaN</td>\n      <td>NaN</td>\n      <td>NaN</td>\n      <td>NaN</td>\n      <td>NaN</td>\n      <td>NaN</td>\n      <td>NaN</td>\n    </tr>\n    <tr>\n      <th>735148</th>\n      <td>100050-3</td>\n      <td>NaN</td>\n      <td>69020.0</td>\n      <td>actstart</td>\n      <td>21697.0</td>\n      <td>NaN</td>\n      <td>home</td>\n      <td>NaN</td>\n      <td>NaN</td>\n      <td>NaN</td>\n      <td>...</td>\n      <td>NaN</td>\n      <td>NaN</td>\n      <td>NaN</td>\n      <td>NaN</td>\n      <td>NaN</td>\n      <td>NaN</td>\n      <td>NaN</td>\n      <td>NaN</td>\n      <td>NaN</td>\n      <td>NaN</td>\n    </tr>\n  </tbody>\n</table>\n<p>16 rows × 61 columns</p>\n</div>"
     },
     "execution_count": 43,
     "metadata": {},
     "output_type": "execute_result"
    }
   ],
   "source": [
    "dfLast.loc[dfLast[\"person\"]==\"100050-3\"]"
   ],
   "metadata": {
    "collapsed": false,
    "pycharm": {
     "name": "#%%\n"
    }
   }
  },
  {
   "cell_type": "code",
   "execution_count": 44,
   "outputs": [
    {
     "data": {
      "text/plain": "          person        vehicle     time                 type     link  \\\n84206   100050-3            NaN  25320.0           ModeChoice      NaN   \n84214   100050-3            NaN  25320.0               actend  21697.0   \n84216   100050-3  body-100050-3  25320.0  PersonEntersVehicle      NaN   \n97132   100050-3  body-100050-3  26253.0  PersonLeavesVehicle      NaN   \n97141   100050-3            NaN  26253.0     TripArrivalEvent      NaN   \n97142   100050-3            NaN  26253.0             actstart  21271.0   \n453695  100050-3            NaN  51840.0           ModeChoice      NaN   \n453725  100050-3            NaN  51840.0               actend  21270.0   \n453788  100050-3  body-100050-3  51840.0  PersonEntersVehicle      NaN   \n465856  100050-3  body-100050-3  52766.0  PersonLeavesVehicle      NaN   \n465860  100050-3            NaN  52766.0     TripArrivalEvent      NaN   \n465862  100050-3            NaN  52766.0             actstart  21696.0   \n641933  100050-3            NaN  64020.0           ModeChoice      NaN   \n641935  100050-3            NaN  64020.0               actend  21696.0   \n641936  100050-3  body-100050-3  64020.0  PersonEntersVehicle      NaN   \n680270  100050-3  body-100050-3  66353.0  PersonLeavesVehicle      NaN   \n680275  100050-3            NaN  66353.0     TripArrivalEvent      NaN   \n680276  100050-3            NaN  66353.0             actstart  25470.0   \n685416  100050-3            NaN  66660.0           ModeChoice      NaN   \n685419  100050-3            NaN  66660.0               actend  25471.0   \n685420  100050-3  body-100050-3  66660.0  PersonEntersVehicle      NaN   \n718914  100050-3  body-100050-3  69020.0  PersonLeavesVehicle      NaN   \n718996  100050-3            NaN  69020.0     TripArrivalEvent      NaN   \n718997  100050-3            NaN  69020.0             actstart  21697.0   \n\n        facility actType driver parkingType chargingPointType  ...  \\\n84206        NaN     NaN    NaN         NaN               NaN  ...   \n84214        NaN    home    NaN         NaN               NaN  ...   \n84216        NaN     NaN    NaN         NaN               NaN  ...   \n97132        NaN     NaN    NaN         NaN               NaN  ...   \n97141        NaN     NaN    NaN         NaN               NaN  ...   \n97142        NaN  school    NaN         NaN               NaN  ...   \n453695       NaN     NaN    NaN         NaN               NaN  ...   \n453725       NaN  school    NaN         NaN               NaN  ...   \n453788       NaN     NaN    NaN         NaN               NaN  ...   \n465856       NaN     NaN    NaN         NaN               NaN  ...   \n465860       NaN     NaN    NaN         NaN               NaN  ...   \n465862       NaN    home    NaN         NaN               NaN  ...   \n641933       NaN     NaN    NaN         NaN               NaN  ...   \n641935       NaN    home    NaN         NaN               NaN  ...   \n641936       NaN     NaN    NaN         NaN               NaN  ...   \n680270       NaN     NaN    NaN         NaN               NaN  ...   \n680275       NaN     NaN    NaN         NaN               NaN  ...   \n680276       NaN  eatout    NaN         NaN               NaN  ...   \n685416       NaN     NaN    NaN         NaN               NaN  ...   \n685419       NaN  eatout    NaN         NaN               NaN  ...   \n685420       NaN     NaN    NaN         NaN               NaN  ...   \n718914       NaN     NaN    NaN         NaN               NaN  ...   \n718996       NaN     NaN    NaN         NaN               NaN  ...   \n718997       NaN    home    NaN         NaN               NaN  ...   \n\n       departureTime  fromStopIndex  secondaryFuel primaryFuelType  \\\n84206            NaN            NaN            NaN             NaN   \n84214            NaN            NaN            NaN             NaN   \n84216            NaN            NaN            NaN             NaN   \n97132            NaN            NaN            NaN             NaN   \n97141            NaN            NaN            NaN             NaN   \n97142            NaN            NaN            NaN             NaN   \n453695           NaN            NaN            NaN             NaN   \n453725           NaN            NaN            NaN             NaN   \n453788           NaN            NaN            NaN             NaN   \n465856           NaN            NaN            NaN             NaN   \n465860           NaN            NaN            NaN             NaN   \n465862           NaN            NaN            NaN             NaN   \n641933           NaN            NaN            NaN             NaN   \n641935           NaN            NaN            NaN             NaN   \n641936           NaN            NaN            NaN             NaN   \n680270           NaN            NaN            NaN             NaN   \n680275           NaN            NaN            NaN             NaN   \n680276           NaN            NaN            NaN             NaN   \n685416           NaN            NaN            NaN             NaN   \n685419           NaN            NaN            NaN             NaN   \n685420           NaN            NaN            NaN             NaN   \n718914           NaN            NaN            NaN             NaN   \n718996           NaN            NaN            NaN             NaN   \n718997           NaN            NaN            NaN             NaN   \n\n       secondaryFuelType  numPassengers links  primaryFuel  riders  \\\n84206                NaN            NaN   NaN          NaN     NaN   \n84214                NaN            NaN   NaN          NaN     NaN   \n84216                NaN            NaN   NaN          NaN     NaN   \n97132                NaN            NaN   NaN          NaN     NaN   \n97141                NaN            NaN   NaN          NaN     NaN   \n97142                NaN            NaN   NaN          NaN     NaN   \n453695               NaN            NaN   NaN          NaN     NaN   \n453725               NaN            NaN   NaN          NaN     NaN   \n453788               NaN            NaN   NaN          NaN     NaN   \n465856               NaN            NaN   NaN          NaN     NaN   \n465860               NaN            NaN   NaN          NaN     NaN   \n465862               NaN            NaN   NaN          NaN     NaN   \n641933               NaN            NaN   NaN          NaN     NaN   \n641935               NaN            NaN   NaN          NaN     NaN   \n641936               NaN            NaN   NaN          NaN     NaN   \n680270               NaN            NaN   NaN          NaN     NaN   \n680275               NaN            NaN   NaN          NaN     NaN   \n680276               NaN            NaN   NaN          NaN     NaN   \n685416               NaN            NaN   NaN          NaN     NaN   \n685419               NaN            NaN   NaN          NaN     NaN   \n685420               NaN            NaN   NaN          NaN     NaN   \n718914               NaN            NaN   NaN          NaN     NaN   \n718996               NaN            NaN   NaN          NaN     NaN   \n718997               NaN            NaN   NaN          NaN     NaN   \n\n        Travel_Time  \n84206           NaN  \n84214           NaN  \n84216           NaN  \n97132           NaN  \n97141           NaN  \n97142           NaN  \n453695          NaN  \n453725          NaN  \n453788          NaN  \n465856          NaN  \n465860          NaN  \n465862          NaN  \n641933          NaN  \n641935          NaN  \n641936          NaN  \n680270          NaN  \n680275          NaN  \n680276          NaN  \n685416          NaN  \n685419          NaN  \n685420          NaN  \n718914          NaN  \n718996          NaN  \n718997          NaN  \n\n[24 rows x 61 columns]",
      "text/html": "<div>\n<style scoped>\n    .dataframe tbody tr th:only-of-type {\n        vertical-align: middle;\n    }\n\n    .dataframe tbody tr th {\n        vertical-align: top;\n    }\n\n    .dataframe thead th {\n        text-align: right;\n    }\n</style>\n<table border=\"1\" class=\"dataframe\">\n  <thead>\n    <tr style=\"text-align: right;\">\n      <th></th>\n      <th>person</th>\n      <th>vehicle</th>\n      <th>time</th>\n      <th>type</th>\n      <th>link</th>\n      <th>facility</th>\n      <th>actType</th>\n      <th>driver</th>\n      <th>parkingType</th>\n      <th>chargingPointType</th>\n      <th>...</th>\n      <th>departureTime</th>\n      <th>fromStopIndex</th>\n      <th>secondaryFuel</th>\n      <th>primaryFuelType</th>\n      <th>secondaryFuelType</th>\n      <th>numPassengers</th>\n      <th>links</th>\n      <th>primaryFuel</th>\n      <th>riders</th>\n      <th>Travel_Time</th>\n    </tr>\n  </thead>\n  <tbody>\n    <tr>\n      <th>84206</th>\n      <td>100050-3</td>\n      <td>NaN</td>\n      <td>25320.0</td>\n      <td>ModeChoice</td>\n      <td>NaN</td>\n      <td>NaN</td>\n      <td>NaN</td>\n      <td>NaN</td>\n      <td>NaN</td>\n      <td>NaN</td>\n      <td>...</td>\n      <td>NaN</td>\n      <td>NaN</td>\n      <td>NaN</td>\n      <td>NaN</td>\n      <td>NaN</td>\n      <td>NaN</td>\n      <td>NaN</td>\n      <td>NaN</td>\n      <td>NaN</td>\n      <td>NaN</td>\n    </tr>\n    <tr>\n      <th>84214</th>\n      <td>100050-3</td>\n      <td>NaN</td>\n      <td>25320.0</td>\n      <td>actend</td>\n      <td>21697.0</td>\n      <td>NaN</td>\n      <td>home</td>\n      <td>NaN</td>\n      <td>NaN</td>\n      <td>NaN</td>\n      <td>...</td>\n      <td>NaN</td>\n      <td>NaN</td>\n      <td>NaN</td>\n      <td>NaN</td>\n      <td>NaN</td>\n      <td>NaN</td>\n      <td>NaN</td>\n      <td>NaN</td>\n      <td>NaN</td>\n      <td>NaN</td>\n    </tr>\n    <tr>\n      <th>84216</th>\n      <td>100050-3</td>\n      <td>body-100050-3</td>\n      <td>25320.0</td>\n      <td>PersonEntersVehicle</td>\n      <td>NaN</td>\n      <td>NaN</td>\n      <td>NaN</td>\n      <td>NaN</td>\n      <td>NaN</td>\n      <td>NaN</td>\n      <td>...</td>\n      <td>NaN</td>\n      <td>NaN</td>\n      <td>NaN</td>\n      <td>NaN</td>\n      <td>NaN</td>\n      <td>NaN</td>\n      <td>NaN</td>\n      <td>NaN</td>\n      <td>NaN</td>\n      <td>NaN</td>\n    </tr>\n    <tr>\n      <th>97132</th>\n      <td>100050-3</td>\n      <td>body-100050-3</td>\n      <td>26253.0</td>\n      <td>PersonLeavesVehicle</td>\n      <td>NaN</td>\n      <td>NaN</td>\n      <td>NaN</td>\n      <td>NaN</td>\n      <td>NaN</td>\n      <td>NaN</td>\n      <td>...</td>\n      <td>NaN</td>\n      <td>NaN</td>\n      <td>NaN</td>\n      <td>NaN</td>\n      <td>NaN</td>\n      <td>NaN</td>\n      <td>NaN</td>\n      <td>NaN</td>\n      <td>NaN</td>\n      <td>NaN</td>\n    </tr>\n    <tr>\n      <th>97141</th>\n      <td>100050-3</td>\n      <td>NaN</td>\n      <td>26253.0</td>\n      <td>TripArrivalEvent</td>\n      <td>NaN</td>\n      <td>NaN</td>\n      <td>NaN</td>\n      <td>NaN</td>\n      <td>NaN</td>\n      <td>NaN</td>\n      <td>...</td>\n      <td>NaN</td>\n      <td>NaN</td>\n      <td>NaN</td>\n      <td>NaN</td>\n      <td>NaN</td>\n      <td>NaN</td>\n      <td>NaN</td>\n      <td>NaN</td>\n      <td>NaN</td>\n      <td>NaN</td>\n    </tr>\n    <tr>\n      <th>97142</th>\n      <td>100050-3</td>\n      <td>NaN</td>\n      <td>26253.0</td>\n      <td>actstart</td>\n      <td>21271.0</td>\n      <td>NaN</td>\n      <td>school</td>\n      <td>NaN</td>\n      <td>NaN</td>\n      <td>NaN</td>\n      <td>...</td>\n      <td>NaN</td>\n      <td>NaN</td>\n      <td>NaN</td>\n      <td>NaN</td>\n      <td>NaN</td>\n      <td>NaN</td>\n      <td>NaN</td>\n      <td>NaN</td>\n      <td>NaN</td>\n      <td>NaN</td>\n    </tr>\n    <tr>\n      <th>453695</th>\n      <td>100050-3</td>\n      <td>NaN</td>\n      <td>51840.0</td>\n      <td>ModeChoice</td>\n      <td>NaN</td>\n      <td>NaN</td>\n      <td>NaN</td>\n      <td>NaN</td>\n      <td>NaN</td>\n      <td>NaN</td>\n      <td>...</td>\n      <td>NaN</td>\n      <td>NaN</td>\n      <td>NaN</td>\n      <td>NaN</td>\n      <td>NaN</td>\n      <td>NaN</td>\n      <td>NaN</td>\n      <td>NaN</td>\n      <td>NaN</td>\n      <td>NaN</td>\n    </tr>\n    <tr>\n      <th>453725</th>\n      <td>100050-3</td>\n      <td>NaN</td>\n      <td>51840.0</td>\n      <td>actend</td>\n      <td>21270.0</td>\n      <td>NaN</td>\n      <td>school</td>\n      <td>NaN</td>\n      <td>NaN</td>\n      <td>NaN</td>\n      <td>...</td>\n      <td>NaN</td>\n      <td>NaN</td>\n      <td>NaN</td>\n      <td>NaN</td>\n      <td>NaN</td>\n      <td>NaN</td>\n      <td>NaN</td>\n      <td>NaN</td>\n      <td>NaN</td>\n      <td>NaN</td>\n    </tr>\n    <tr>\n      <th>453788</th>\n      <td>100050-3</td>\n      <td>body-100050-3</td>\n      <td>51840.0</td>\n      <td>PersonEntersVehicle</td>\n      <td>NaN</td>\n      <td>NaN</td>\n      <td>NaN</td>\n      <td>NaN</td>\n      <td>NaN</td>\n      <td>NaN</td>\n      <td>...</td>\n      <td>NaN</td>\n      <td>NaN</td>\n      <td>NaN</td>\n      <td>NaN</td>\n      <td>NaN</td>\n      <td>NaN</td>\n      <td>NaN</td>\n      <td>NaN</td>\n      <td>NaN</td>\n      <td>NaN</td>\n    </tr>\n    <tr>\n      <th>465856</th>\n      <td>100050-3</td>\n      <td>body-100050-3</td>\n      <td>52766.0</td>\n      <td>PersonLeavesVehicle</td>\n      <td>NaN</td>\n      <td>NaN</td>\n      <td>NaN</td>\n      <td>NaN</td>\n      <td>NaN</td>\n      <td>NaN</td>\n      <td>...</td>\n      <td>NaN</td>\n      <td>NaN</td>\n      <td>NaN</td>\n      <td>NaN</td>\n      <td>NaN</td>\n      <td>NaN</td>\n      <td>NaN</td>\n      <td>NaN</td>\n      <td>NaN</td>\n      <td>NaN</td>\n    </tr>\n    <tr>\n      <th>465860</th>\n      <td>100050-3</td>\n      <td>NaN</td>\n      <td>52766.0</td>\n      <td>TripArrivalEvent</td>\n      <td>NaN</td>\n      <td>NaN</td>\n      <td>NaN</td>\n      <td>NaN</td>\n      <td>NaN</td>\n      <td>NaN</td>\n      <td>...</td>\n      <td>NaN</td>\n      <td>NaN</td>\n      <td>NaN</td>\n      <td>NaN</td>\n      <td>NaN</td>\n      <td>NaN</td>\n      <td>NaN</td>\n      <td>NaN</td>\n      <td>NaN</td>\n      <td>NaN</td>\n    </tr>\n    <tr>\n      <th>465862</th>\n      <td>100050-3</td>\n      <td>NaN</td>\n      <td>52766.0</td>\n      <td>actstart</td>\n      <td>21696.0</td>\n      <td>NaN</td>\n      <td>home</td>\n      <td>NaN</td>\n      <td>NaN</td>\n      <td>NaN</td>\n      <td>...</td>\n      <td>NaN</td>\n      <td>NaN</td>\n      <td>NaN</td>\n      <td>NaN</td>\n      <td>NaN</td>\n      <td>NaN</td>\n      <td>NaN</td>\n      <td>NaN</td>\n      <td>NaN</td>\n      <td>NaN</td>\n    </tr>\n    <tr>\n      <th>641933</th>\n      <td>100050-3</td>\n      <td>NaN</td>\n      <td>64020.0</td>\n      <td>ModeChoice</td>\n      <td>NaN</td>\n      <td>NaN</td>\n      <td>NaN</td>\n      <td>NaN</td>\n      <td>NaN</td>\n      <td>NaN</td>\n      <td>...</td>\n      <td>NaN</td>\n      <td>NaN</td>\n      <td>NaN</td>\n      <td>NaN</td>\n      <td>NaN</td>\n      <td>NaN</td>\n      <td>NaN</td>\n      <td>NaN</td>\n      <td>NaN</td>\n      <td>NaN</td>\n    </tr>\n    <tr>\n      <th>641935</th>\n      <td>100050-3</td>\n      <td>NaN</td>\n      <td>64020.0</td>\n      <td>actend</td>\n      <td>21696.0</td>\n      <td>NaN</td>\n      <td>home</td>\n      <td>NaN</td>\n      <td>NaN</td>\n      <td>NaN</td>\n      <td>...</td>\n      <td>NaN</td>\n      <td>NaN</td>\n      <td>NaN</td>\n      <td>NaN</td>\n      <td>NaN</td>\n      <td>NaN</td>\n      <td>NaN</td>\n      <td>NaN</td>\n      <td>NaN</td>\n      <td>NaN</td>\n    </tr>\n    <tr>\n      <th>641936</th>\n      <td>100050-3</td>\n      <td>body-100050-3</td>\n      <td>64020.0</td>\n      <td>PersonEntersVehicle</td>\n      <td>NaN</td>\n      <td>NaN</td>\n      <td>NaN</td>\n      <td>NaN</td>\n      <td>NaN</td>\n      <td>NaN</td>\n      <td>...</td>\n      <td>NaN</td>\n      <td>NaN</td>\n      <td>NaN</td>\n      <td>NaN</td>\n      <td>NaN</td>\n      <td>NaN</td>\n      <td>NaN</td>\n      <td>NaN</td>\n      <td>NaN</td>\n      <td>NaN</td>\n    </tr>\n    <tr>\n      <th>680270</th>\n      <td>100050-3</td>\n      <td>body-100050-3</td>\n      <td>66353.0</td>\n      <td>PersonLeavesVehicle</td>\n      <td>NaN</td>\n      <td>NaN</td>\n      <td>NaN</td>\n      <td>NaN</td>\n      <td>NaN</td>\n      <td>NaN</td>\n      <td>...</td>\n      <td>NaN</td>\n      <td>NaN</td>\n      <td>NaN</td>\n      <td>NaN</td>\n      <td>NaN</td>\n      <td>NaN</td>\n      <td>NaN</td>\n      <td>NaN</td>\n      <td>NaN</td>\n      <td>NaN</td>\n    </tr>\n    <tr>\n      <th>680275</th>\n      <td>100050-3</td>\n      <td>NaN</td>\n      <td>66353.0</td>\n      <td>TripArrivalEvent</td>\n      <td>NaN</td>\n      <td>NaN</td>\n      <td>NaN</td>\n      <td>NaN</td>\n      <td>NaN</td>\n      <td>NaN</td>\n      <td>...</td>\n      <td>NaN</td>\n      <td>NaN</td>\n      <td>NaN</td>\n      <td>NaN</td>\n      <td>NaN</td>\n      <td>NaN</td>\n      <td>NaN</td>\n      <td>NaN</td>\n      <td>NaN</td>\n      <td>NaN</td>\n    </tr>\n    <tr>\n      <th>680276</th>\n      <td>100050-3</td>\n      <td>NaN</td>\n      <td>66353.0</td>\n      <td>actstart</td>\n      <td>25470.0</td>\n      <td>NaN</td>\n      <td>eatout</td>\n      <td>NaN</td>\n      <td>NaN</td>\n      <td>NaN</td>\n      <td>...</td>\n      <td>NaN</td>\n      <td>NaN</td>\n      <td>NaN</td>\n      <td>NaN</td>\n      <td>NaN</td>\n      <td>NaN</td>\n      <td>NaN</td>\n      <td>NaN</td>\n      <td>NaN</td>\n      <td>NaN</td>\n    </tr>\n    <tr>\n      <th>685416</th>\n      <td>100050-3</td>\n      <td>NaN</td>\n      <td>66660.0</td>\n      <td>ModeChoice</td>\n      <td>NaN</td>\n      <td>NaN</td>\n      <td>NaN</td>\n      <td>NaN</td>\n      <td>NaN</td>\n      <td>NaN</td>\n      <td>...</td>\n      <td>NaN</td>\n      <td>NaN</td>\n      <td>NaN</td>\n      <td>NaN</td>\n      <td>NaN</td>\n      <td>NaN</td>\n      <td>NaN</td>\n      <td>NaN</td>\n      <td>NaN</td>\n      <td>NaN</td>\n    </tr>\n    <tr>\n      <th>685419</th>\n      <td>100050-3</td>\n      <td>NaN</td>\n      <td>66660.0</td>\n      <td>actend</td>\n      <td>25471.0</td>\n      <td>NaN</td>\n      <td>eatout</td>\n      <td>NaN</td>\n      <td>NaN</td>\n      <td>NaN</td>\n      <td>...</td>\n      <td>NaN</td>\n      <td>NaN</td>\n      <td>NaN</td>\n      <td>NaN</td>\n      <td>NaN</td>\n      <td>NaN</td>\n      <td>NaN</td>\n      <td>NaN</td>\n      <td>NaN</td>\n      <td>NaN</td>\n    </tr>\n    <tr>\n      <th>685420</th>\n      <td>100050-3</td>\n      <td>body-100050-3</td>\n      <td>66660.0</td>\n      <td>PersonEntersVehicle</td>\n      <td>NaN</td>\n      <td>NaN</td>\n      <td>NaN</td>\n      <td>NaN</td>\n      <td>NaN</td>\n      <td>NaN</td>\n      <td>...</td>\n      <td>NaN</td>\n      <td>NaN</td>\n      <td>NaN</td>\n      <td>NaN</td>\n      <td>NaN</td>\n      <td>NaN</td>\n      <td>NaN</td>\n      <td>NaN</td>\n      <td>NaN</td>\n      <td>NaN</td>\n    </tr>\n    <tr>\n      <th>718914</th>\n      <td>100050-3</td>\n      <td>body-100050-3</td>\n      <td>69020.0</td>\n      <td>PersonLeavesVehicle</td>\n      <td>NaN</td>\n      <td>NaN</td>\n      <td>NaN</td>\n      <td>NaN</td>\n      <td>NaN</td>\n      <td>NaN</td>\n      <td>...</td>\n      <td>NaN</td>\n      <td>NaN</td>\n      <td>NaN</td>\n      <td>NaN</td>\n      <td>NaN</td>\n      <td>NaN</td>\n      <td>NaN</td>\n      <td>NaN</td>\n      <td>NaN</td>\n      <td>NaN</td>\n    </tr>\n    <tr>\n      <th>718996</th>\n      <td>100050-3</td>\n      <td>NaN</td>\n      <td>69020.0</td>\n      <td>TripArrivalEvent</td>\n      <td>NaN</td>\n      <td>NaN</td>\n      <td>NaN</td>\n      <td>NaN</td>\n      <td>NaN</td>\n      <td>NaN</td>\n      <td>...</td>\n      <td>NaN</td>\n      <td>NaN</td>\n      <td>NaN</td>\n      <td>NaN</td>\n      <td>NaN</td>\n      <td>NaN</td>\n      <td>NaN</td>\n      <td>NaN</td>\n      <td>NaN</td>\n      <td>NaN</td>\n    </tr>\n    <tr>\n      <th>718997</th>\n      <td>100050-3</td>\n      <td>NaN</td>\n      <td>69020.0</td>\n      <td>actstart</td>\n      <td>21697.0</td>\n      <td>NaN</td>\n      <td>home</td>\n      <td>NaN</td>\n      <td>NaN</td>\n      <td>NaN</td>\n      <td>...</td>\n      <td>NaN</td>\n      <td>NaN</td>\n      <td>NaN</td>\n      <td>NaN</td>\n      <td>NaN</td>\n      <td>NaN</td>\n      <td>NaN</td>\n      <td>NaN</td>\n      <td>NaN</td>\n      <td>NaN</td>\n    </tr>\n  </tbody>\n</table>\n<p>24 rows × 61 columns</p>\n</div>"
     },
     "execution_count": 44,
     "metadata": {},
     "output_type": "execute_result"
    }
   ],
   "source": [
    "dfFirst.loc[dfFirst[\"person\"]==\"100050-3\"]"
   ],
   "metadata": {
    "collapsed": false,
    "pycharm": {
     "name": "#%%\n"
    }
   }
  },
  {
   "cell_type": "code",
   "execution_count": null,
   "outputs": [],
   "source": [],
   "metadata": {
    "collapsed": false,
    "pycharm": {
     "name": "#%%\n"
    }
   }
  }
 ],
 "metadata": {
  "kernelspec": {
   "display_name": "Python 3",
   "language": "python",
   "name": "python3"
  },
  "language_info": {
   "codemirror_mode": {
    "name": "ipython",
    "version": 2
   },
   "file_extension": ".py",
   "mimetype": "text/x-python",
   "name": "python",
   "nbconvert_exporter": "python",
   "pygments_lexer": "ipython2",
   "version": "2.7.6"
  }
 },
 "nbformat": 4,
 "nbformat_minor": 0
}